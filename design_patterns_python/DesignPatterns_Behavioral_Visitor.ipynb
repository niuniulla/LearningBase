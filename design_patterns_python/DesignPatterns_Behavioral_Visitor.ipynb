{
 "cells": [
  {
   "cell_type": "markdown",
   "id": "8bf84124-fe69-4758-8308-369e0449ee9c",
   "metadata": {},
   "source": [
    "# Visitor"
   ]
  },
  {
   "cell_type": "markdown",
   "id": "3100bfd2-71d9-40ca-8b91-a384628b3a91",
   "metadata": {},
   "source": [
    "For this pattern, we take an example of numerical addition where there is a base expression and 2 child classes."
   ]
  },
  {
   "cell_type": "code",
   "execution_count": 2,
   "id": "e85e35a8-2eed-47e5-ad2a-d0dfa0f12afb",
   "metadata": {},
   "outputs": [],
   "source": [
    "class Expression:\n",
    "    pass\n",
    "\n",
    "class DoubleExpression(Expression):\n",
    "    def __init__(self, value):\n",
    "        self.value = value\n",
    "        \n",
    "\n",
    "class AdditionExpression(Expression):\n",
    "    def __int__(self, left, right):\n",
    "        self.left = left\n",
    "        self.right = right\n",
    "        "
   ]
  },
  {
   "cell_type": "markdown",
   "id": "a574e042-5741-491c-b731-1a73297b28a8",
   "metadata": {},
   "source": [
    "## Intrusive visitor\n",
    "\n",
    "This is the most naive way to extend the existing objects' functionalalities. But it is obvious that this is not practical in real applications since this involves a lot repetitive codes (in this case, adding a print function to each concrete objects hindering scalability problem) and prone to errors."
   ]
  },
  {
   "cell_type": "code",
   "execution_count": null,
   "id": "410329ba-72e1-411b-bb15-150020c8083d",
   "metadata": {},
   "outputs": [],
   "source": [
    "# Scenario 1\n",
    "\n",
    "# For this example, our extended function has the same operation only \n",
    "# it invoke different function depending on the child object type.\n",
    "\n",
    "class Expression:\n",
    "    @staticmethod\n",
    "    def print(self):\n",
    "        pass\n",
    "        \n",
    "    def print(self):\n",
    "        return self.__str__()\n",
    "\n",
    "class DoubleExpression(Expression):\n",
    "    def __init__(self, value):\n",
    "        self.value = value\n",
    "\n",
    "    def __str__(self):\n",
    "        return str(self.value)\n",
    "\n",
    "class AdditionExpression(Expression):\n",
    "    def __init__(self, left:Expression, right:Expression):\n",
    "        self.left = left\n",
    "        self.right = right\n",
    "\n",
    "    def __str__(self):\n",
    "        return f\"({self.left.print()} + {self.right.print()})\""
   ]
  },
  {
   "cell_type": "code",
   "execution_count": 17,
   "id": "397dacd6-cc7d-480b-a234-5803d55486e8",
   "metadata": {},
   "outputs": [
    {
     "data": {
      "text/plain": [
       "'(2 + (3 + 4))'"
      ]
     },
     "execution_count": 17,
     "metadata": {},
     "output_type": "execute_result"
    }
   ],
   "source": [
    "# usage\n",
    "add = AdditionExpression(DoubleExpression(2),\n",
    "                         AdditionExpression(\n",
    "                         DoubleExpression(3), DoubleExpression(4)))\n",
    "\n",
    "add.print()"
   ]
  },
  {
   "cell_type": "code",
   "execution_count": 16,
   "id": "9cc98665-2d91-416a-b1a5-a52680e0f532",
   "metadata": {},
   "outputs": [],
   "source": [
    "# Scenario 2\n",
    "\n",
    "# Sometimes, the operations are more complex depending on the child type, \n",
    "# so the extended function won't share the same operations.\n",
    "\n",
    "class Expression:\n",
    "    @staticmethod\n",
    "    def print(self):\n",
    "        pass\n",
    "\n",
    "class DoubleExpression(Expression):\n",
    "    def __init__(self, value):\n",
    "        self.value = value\n",
    " \n",
    "    def print(self):\n",
    "        return str(self.value)\n",
    "\n",
    "class AdditionExpression(Expression):\n",
    "    def __init__(self, left:Expression, right:Expression):\n",
    "        self.left = left\n",
    "        self.right = right\n",
    "\n",
    "    def print(self):\n",
    "        return f\"({self.left.print()} + {self.right.print()})\"\n"
   ]
  },
  {
   "cell_type": "code",
   "execution_count": 18,
   "id": "1750e173-53cd-4d9c-abfb-7c0b8b09320f",
   "metadata": {},
   "outputs": [
    {
     "data": {
      "text/plain": [
       "'(2 + (3 + 4))'"
      ]
     },
     "execution_count": 18,
     "metadata": {},
     "output_type": "execute_result"
    }
   ],
   "source": [
    "# usage won't change\n",
    "add = AdditionExpression(DoubleExpression(2),\n",
    "                         AdditionExpression(\n",
    "                         DoubleExpression(3), DoubleExpression(4)))\n",
    "\n",
    "add.print()"
   ]
  },
  {
   "cell_type": "markdown",
   "id": "108ce413-62ce-49e1-bcf3-d87406505b03",
   "metadata": {},
   "source": [
    "## Reflective printer\n",
    "\n",
    "To overcome the previous scalability problem, we can create a printer object dedicated to printing job. This obviously respect SRP and it saved code and allows to errors."
   ]
  },
  {
   "cell_type": "code",
   "execution_count": 10,
   "id": "508e02ff-1586-4b55-bd9f-c62fc3ab955c",
   "metadata": {},
   "outputs": [],
   "source": [
    "# Scenario 1\n",
    "\n",
    "class ExpressionPrinter:\n",
    "    def __init__(self):\n",
    "        self.string = \"\"\n",
    "    def print(self, expr):\n",
    "        self.string = expr.print()\n",
    "    def __str__(self):\n",
    "        return self.string"
   ]
  },
  {
   "cell_type": "code",
   "execution_count": 11,
   "id": "3fdc101d-5779-46a1-8c62-42ffd8895cef",
   "metadata": {},
   "outputs": [
    {
     "name": "stdout",
     "output_type": "stream",
     "text": [
      "(2 + (3 + 4))\n"
     ]
    }
   ],
   "source": [
    "add = AdditionExpression(DoubleExpression(2),\n",
    "                         AdditionExpression(\n",
    "                         DoubleExpression(3), DoubleExpression(4)))\n",
    "\n",
    "ep = ExpressionPrinter()\n",
    "ep.print(add)\n",
    "print(ep)"
   ]
  },
  {
   "cell_type": "code",
   "execution_count": 60,
   "id": "ef62c6f6-6f23-4fcd-b151-de1483b63ee7",
   "metadata": {},
   "outputs": [],
   "source": [
    "# Scenario 2\n",
    "\n",
    "class ExpressionPrinter:\n",
    "    def __init__(self):\n",
    "        self.string = \"\"\n",
    "    def print(self, expr):\n",
    "        if isinstance(expr, DoubleExpression):\n",
    "            self.string = expr.print()\n",
    "        elif isinstance(expr, AdditionExpression):\n",
    "            self.string = f\"({expr.left.print()} + {expr.right.print()})\"\n",
    "    def __str__(self):\n",
    "        return self.string"
   ]
  },
  {
   "cell_type": "code",
   "execution_count": 61,
   "id": "8e89551d-2c17-4d79-bb7e-213e2f87db20",
   "metadata": {},
   "outputs": [
    {
     "name": "stdout",
     "output_type": "stream",
     "text": [
      "(2 + (3 + 4))\n"
     ]
    }
   ],
   "source": [
    "add = AdditionExpression(DoubleExpression(2),\n",
    "                         AdditionExpression(\n",
    "                         DoubleExpression(3), DoubleExpression(4)))\n",
    "\n",
    "ep = ExpressionPrinter()\n",
    "ep.print(add)\n",
    "print(ep)"
   ]
  },
  {
   "cell_type": "markdown",
   "id": "c8a5b0ea-ecd8-43a0-ae2d-d0c38a12e6df",
   "metadata": {},
   "source": [
    "## Dispatch"
   ]
  },
  {
   "cell_type": "markdown",
   "id": "c9c5ee70-09c0-4155-8c00-40f17011bf16",
   "metadata": {},
   "source": [
    "It is a problem of figuring out which function to call—specifically, how many pieces of information are required in order to make the call. \n",
    "\n",
    "TODO"
   ]
  },
  {
   "cell_type": "code",
   "execution_count": 1,
   "id": "160ce886-335b-4600-823b-6b95bc253fa0",
   "metadata": {},
   "outputs": [],
   "source": [
    "# method 1, this won't work for other typing language such as c++ but works for python\n",
    "\n",
    "from abc import abstractmethod\n",
    "\n",
    "class Stuff:\n",
    "    @abstractmethod\n",
    "    def call(self):\n",
    "        pass\n",
    "\n",
    "def func(obj):\n",
    "    print(obj)\n",
    "\n",
    "class Foo(Stuff):\n",
    "    def __str__(self):\n",
    "        return \"this is Foo\"\n",
    "\n",
    "class Bar(Stuff):\n",
    "    def __str__(self):\n",
    "        return \"this is Bar\""
   ]
  },
  {
   "cell_type": "code",
   "execution_count": 3,
   "id": "e36df9eb-985a-4720-a722-e5a339cee987",
   "metadata": {},
   "outputs": [
    {
     "name": "stdout",
     "output_type": "stream",
     "text": [
      "this is Foo\n",
      "this is Bar\n"
     ]
    }
   ],
   "source": [
    "stuff1 = Foo()\n",
    "stuff2 = Bar()\n",
    "func(stuff1)\n",
    "func(stuff2)"
   ]
  },
  {
   "cell_type": "code",
   "execution_count": 40,
   "id": "d44ccf5d-56bc-4ebb-9687-7b3b404884c5",
   "metadata": {},
   "outputs": [],
   "source": [
    "# method 2\n",
    "\n",
    "from abc import abstractmethod\n",
    "\n",
    "class Stuff:\n",
    "    @abstractmethod\n",
    "    def call(self):\n",
    "        pass\n",
    "\n",
    "def func(obj):\n",
    "    print(obj)\n",
    "\n",
    "class Foo(Stuff):\n",
    "    def call(self):\n",
    "        func(self)\n",
    "    def __str__(self):\n",
    "        return \"this is Foo\"\n",
    "\n",
    "class Bar(Stuff):\n",
    "    def call(self):\n",
    "        func(self)\n",
    "    def __str__(self):\n",
    "        return \"this is Bar\""
   ]
  },
  {
   "cell_type": "code",
   "execution_count": 41,
   "id": "df436f42-38c0-4675-b6d1-028385b5065b",
   "metadata": {},
   "outputs": [
    {
     "name": "stdout",
     "output_type": "stream",
     "text": [
      "this is Foo\n",
      "this is Bar\n"
     ]
    }
   ],
   "source": [
    "foo = Foo()\n",
    "foo.call()\n",
    "\n",
    "bar = Bar()\n",
    "bar.call()"
   ]
  },
  {
   "cell_type": "markdown",
   "id": "3522dad0-25a0-40b2-be49-35adccd0e19b",
   "metadata": {},
   "source": [
    "## Classic visitor"
   ]
  },
  {
   "cell_type": "code",
   "execution_count": 7,
   "id": "8838f4c9-8470-4a38-8d9d-3b198dfbb458",
   "metadata": {},
   "outputs": [],
   "source": [
    "from abc import abstractmethod\n",
    "class Expression:\n",
    "    @abstractmethod\n",
    "    def accept(self, visitor):\n",
    "        visitor.visit(self)\n",
    "\n",
    "class DoubleExpression(Expression):\n",
    "    def __init__(self, value):\n",
    "        self.value = value\n",
    "    def __str__(self):\n",
    "        return str(self.value)\n",
    "        \n",
    "class AdditionExpression(Expression):\n",
    "    def __init__(self, left:Expression, right:Expression):\n",
    "        self.left = left\n",
    "        self.right = right\n",
    "    def __str__(self):\n",
    "        return f\"({self.left} + {self.right})\"\n"
   ]
  },
  {
   "cell_type": "code",
   "execution_count": 8,
   "id": "8e4ec5af-9a44-4596-b2f8-ffcd838af6d1",
   "metadata": {},
   "outputs": [],
   "source": [
    "# Scenario 1\n",
    "\n",
    "from io import StringIO\n",
    "\n",
    "class ExpressionVisitor:\n",
    "    @abstractmethod\n",
    "    def visit(self, epxr):\n",
    "        pass\n",
    "\n",
    "class ExpressionPrinter(ExpressionVisitor):\n",
    "    def __init__(self):\n",
    "        self.oss = StringIO()\n",
    "        \n",
    "    def visit(self, expr):\n",
    "        self.oss.write(str(expr))\n",
    "        \n",
    "    def __str__(self):\n",
    "        return self.oss.getvalue()"
   ]
  },
  {
   "cell_type": "code",
   "execution_count": 9,
   "id": "7d627874-6f1f-4cbc-acce-8612542cff16",
   "metadata": {},
   "outputs": [
    {
     "name": "stdout",
     "output_type": "stream",
     "text": [
      "(2 + (3 + 4))\n"
     ]
    }
   ],
   "source": [
    "add = AdditionExpression(DoubleExpression(2),\n",
    "                         AdditionExpression(\n",
    "                         DoubleExpression(3), DoubleExpression(4)))\n",
    "\n",
    "printer = ExpressionPrinter()\n",
    "printer.visit(add)\n",
    "print(printer)"
   ]
  },
  {
   "cell_type": "code",
   "execution_count": 10,
   "id": "353d3cac-1fc5-49a7-a384-07c544684271",
   "metadata": {},
   "outputs": [],
   "source": [
    "# Scenario 2\n",
    "\n",
    "# This uses double dispatch.\n",
    "\n",
    "from io import StringIO\n",
    "\n",
    "class ExpressionVisitor:\n",
    "    @abstractmethod\n",
    "    def visit(self, epxr):\n",
    "        pass\n",
    "\n",
    "class ExpressionPrinter(ExpressionVisitor):\n",
    "    def __init__(self):\n",
    "        self.oss = StringIO()\n",
    "        \n",
    "    def visit(self, expr):\n",
    "        if isinstance(expr, DoubleExpression):\n",
    "            self.oss.write(str(expr))\n",
    "        elif isinstance(expr, AdditionExpression):\n",
    "            self.oss.write(\"(\")\n",
    "            expr.left.accept(self)\n",
    "            self.oss.write(\" + \")\n",
    "            expr.right.accept(self)\n",
    "            self.oss.write(\")\")\n",
    "    def __str__(self):\n",
    "        return self.oss.getvalue()"
   ]
  },
  {
   "cell_type": "code",
   "execution_count": 11,
   "id": "54f721cf-e634-4ccf-b493-0c2ba05e8606",
   "metadata": {},
   "outputs": [
    {
     "name": "stdout",
     "output_type": "stream",
     "text": [
      "(2 + (3 + 4))\n"
     ]
    }
   ],
   "source": [
    "add = AdditionExpression(DoubleExpression(2),\n",
    "                         AdditionExpression(\n",
    "                         DoubleExpression(3), DoubleExpression(4)))\n",
    "\n",
    "printer = ExpressionPrinter()\n",
    "add.accept(printer)\n",
    "print(printer)"
   ]
  },
  {
   "cell_type": "markdown",
   "id": "6c0ebb0f-6268-4d3d-8936-d1a6e61b3d3c",
   "metadata": {},
   "source": [
    "## add another visitor"
   ]
  },
  {
   "cell_type": "code",
   "execution_count": 33,
   "id": "70925631-19d8-443c-93e1-312b9b19d6a7",
   "metadata": {},
   "outputs": [],
   "source": [
    "class ExpressoinEvaluator(ExpressionVisitor):\n",
    "    def visit(self, expr):\n",
    "        if isinstance(expr, DoubleExpression):\n",
    "            self.result = expr.value\n",
    "        elif isinstance(expr, AdditionExpression):\n",
    "            expr.left.accept(self)\n",
    "            tmp = self.result\n",
    "            expr.right.accept(self)\n",
    "            self.result += tmp\n",
    "    def __str__(self):\n",
    "        return f\"{self.result}\"\n",
    "    "
   ]
  },
  {
   "cell_type": "code",
   "execution_count": 36,
   "id": "521d3a75-c5b9-4a49-aaab-7f6d5ff1e0c0",
   "metadata": {},
   "outputs": [
    {
     "name": "stdout",
     "output_type": "stream",
     "text": [
      "(2 + (3 + 4)) = 9\n"
     ]
    }
   ],
   "source": [
    "printer = ExpressionPrinter()\n",
    "evaluator = ExpressoinEvaluator()\n",
    "printer.visit(add)\n",
    "evaluator.visit(add)\n",
    "print(f\"{printer} = {evaluator}\")"
   ]
  },
  {
   "cell_type": "markdown",
   "id": "33d7cddc-9552-42ce-b417-76d4b41c5a14",
   "metadata": {},
   "source": [
    "## Another Example"
   ]
  },
  {
   "cell_type": "code",
   "execution_count": 101,
   "id": "583686e7-c987-4413-90e0-746f5df22f17",
   "metadata": {},
   "outputs": [],
   "source": [
    "class Node(object):\n",
    "    def __init__(self, value):\n",
    "        self.children = []\n",
    "        self.value = value\n",
    "    def add(self, node: Node):\n",
    "        self.children.append(node)\n",
    "    def get_value(self):\n",
    "        return self.value\n",
    "    def accept(self, visitor):\n",
    "        visitor.visit(self)\n",
    "\n",
    "class NodeRunner:\n",
    "    def visit(self, node):\n",
    "        if len(node.children) > 0:\n",
    "            for child in node.children:\n",
    "                child.accept(self)\n",
    "        print(f\"Node value: {node.get_value()}\")\n",
    "\n",
    "class NodeSum:\n",
    "    s = 0\n",
    "    def visit(self, node):\n",
    "        if len(node.children) > 0:\n",
    "            for child in node.children:\n",
    "                child.accept(self)    \n",
    "        NodeSum.s += node.get_value()"
   ]
  },
  {
   "cell_type": "code",
   "execution_count": 102,
   "id": "da8ffaca-de11-4347-adef-296648e85cbd",
   "metadata": {},
   "outputs": [
    {
     "name": "stdout",
     "output_type": "stream",
     "text": [
      "Node value: 4\n",
      "Node value: 2\n",
      "Node value: 3\n",
      "Node value: 1\n",
      "10\n"
     ]
    }
   ],
   "source": [
    "root = Node(1)\n",
    "root.add(Node(2))\n",
    "root.add(Node(3))\n",
    "root.children[0].add(Node(4))\n",
    "\n",
    "runner = NodeRunner()\n",
    "checker = NodeChecker()\n",
    "summer = NodeSum()\n",
    "root.accept(runner)\n",
    "root.accept(summer)\n",
    "print(summer.s)"
   ]
  }
 ],
 "metadata": {
  "kernelspec": {
   "display_name": "Python 3 (ipykernel)",
   "language": "python",
   "name": "python3"
  },
  "language_info": {
   "codemirror_mode": {
    "name": "ipython",
    "version": 3
   },
   "file_extension": ".py",
   "mimetype": "text/x-python",
   "name": "python",
   "nbconvert_exporter": "python",
   "pygments_lexer": "ipython3",
   "version": "3.13.0"
  }
 },
 "nbformat": 4,
 "nbformat_minor": 5
}
