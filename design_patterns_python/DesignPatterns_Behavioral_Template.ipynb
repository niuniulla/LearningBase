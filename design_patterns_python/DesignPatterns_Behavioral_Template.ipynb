{
 "cells": [
  {
   "cell_type": "markdown",
   "id": "02d4c4be-f81f-4597-b25f-45bf46e9c933",
   "metadata": {},
   "source": [
    "# Template"
   ]
  },
  {
   "cell_type": "markdown",
   "id": "84492bed-9bb2-4113-83e3-350c5ee5bbfc",
   "metadata": {},
   "source": [
    "It defines a skeleton of an algorithm in a base class and let subclasses override the steps without changing the overall algorithm’s structure."
   ]
  },
  {
   "cell_type": "code",
   "execution_count": 1,
   "id": "1f48dff5-e3f2-4dfe-acba-6a6513bf7f6e",
   "metadata": {},
   "outputs": [],
   "source": [
    "# skeletton\n",
    "\n",
    "class Game:\n",
    "\n",
    "    def __init__(self, num_players):\n",
    "        self.num_players = num_players\n",
    "        self.current_player = 0\n",
    "        \n",
    "    def run(self):\n",
    "        self.start()\n",
    "        while(not self.have_winner()):\n",
    "            self.take_turn();\n",
    "        print(f\"Player {self.get_winner()} wins.\")\n",
    "\n",
    "    @staticmethod\n",
    "    def start(self):\n",
    "        pass\n",
    "    @staticmethod\n",
    "    def have_winner(self):\n",
    "        pass\n",
    "    @staticmethod\n",
    "    def take_turn(self):\n",
    "        pass\n",
    "    @staticmethod\n",
    "    def get_winner(self):\n",
    "        pass\n",
    "         "
   ]
  },
  {
   "cell_type": "code",
   "execution_count": 38,
   "id": "44157316-92e4-4a2a-a91d-a4324a5dae1f",
   "metadata": {},
   "outputs": [],
   "source": [
    "import random\n",
    "class Game21(Game):\n",
    "    def __init__(self):\n",
    "        super().__init__(3)\n",
    "        self.turns = 0\n",
    "        self.points = [0]*self.num_players\n",
    "        self.max_turns = 5\n",
    "\n",
    "    def start(self):\n",
    "        print(\"Start game.\")\n",
    "\n",
    "    def have_winner(self):\n",
    "        return any([a == 21 for a in self.points]) or self.turns == self.max_turns\n",
    "\n",
    "    def take_turn(self):\n",
    "        self.turns += 1\n",
    "        self.current_player = (self.current_player + 1) % self.num_players\n",
    "        self.points[self.current_player] += random.randint(1, 14)\n",
    "                                                           \n",
    "    def get_winner(self):\n",
    "        print(self.points)\n",
    "        if any([a == 21 for a in self.points]):\n",
    "            return self.points.index(21)\n",
    "        else:\n",
    "            return self.points.index(min(self.points))"
   ]
  },
  {
   "cell_type": "code",
   "execution_count": 68,
   "id": "7870b357-4b49-46c5-b983-1c6d46011d22",
   "metadata": {},
   "outputs": [
    {
     "name": "stdout",
     "output_type": "stream",
     "text": [
      "Start game.\n",
      "[14, 8, 13]\n",
      "Player 1 wins.\n"
     ]
    }
   ],
   "source": [
    "game21 = Game21()\n",
    "game21.run()"
   ]
  },
  {
   "cell_type": "code",
   "execution_count": 69,
   "id": "0cbc34da-aa77-40ab-aaf3-9510ffde5a24",
   "metadata": {},
   "outputs": [],
   "source": [
    "class Chess(Game):\n",
    "    def __init__(self):\n",
    "        super().__init__(2)\n",
    "        self.turns = 0\n",
    "        self.max_turns = 9\n",
    "\n",
    "    def start(self):\n",
    "        print(\"Start game.\")\n",
    "        \n",
    "    def have_winner(self):\n",
    "        return self.turns == self.max_turns\n",
    "\n",
    "    def take_turn(self):\n",
    "        self.turns += 1\n",
    "        self.current_player = (self.current_player + 1) % self.num_players\n",
    "        print(f\"Turn {self.turns} taken by player {self.current_player}\")\n",
    "\n",
    "    def get_winner(self):\n",
    "        return self.current_player"
   ]
  },
  {
   "cell_type": "code",
   "execution_count": 23,
   "id": "6215c8f1-3656-46e3-a279-c06080da76c8",
   "metadata": {},
   "outputs": [
    {
     "name": "stdout",
     "output_type": "stream",
     "text": [
      "Start game.\n",
      "Turn 1 taken by player 1\n",
      "Turn 2 taken by player 0\n",
      "Turn 3 taken by player 1\n",
      "Turn 4 taken by player 0\n",
      "Turn 5 taken by player 1\n",
      "Turn 6 taken by player 0\n",
      "Turn 7 taken by player 1\n",
      "Turn 8 taken by player 0\n",
      "Turn 9 taken by player 1\n",
      "Player 1 wins.\n"
     ]
    }
   ],
   "source": [
    "chess = Chess()\n",
    "chess.run()"
   ]
  },
  {
   "cell_type": "markdown",
   "id": "17112888-1580-475d-80d6-5ace9c80fd8c",
   "metadata": {},
   "source": [
    "## More complex example"
   ]
  },
  {
   "cell_type": "code",
   "execution_count": null,
   "id": "fa69424e-2912-4b1d-9247-5ed71d483875",
   "metadata": {},
   "outputs": [],
   "source": []
  }
 ],
 "metadata": {
  "kernelspec": {
   "display_name": "Python 3 (ipykernel)",
   "language": "python",
   "name": "python3"
  },
  "language_info": {
   "codemirror_mode": {
    "name": "ipython",
    "version": 3
   },
   "file_extension": ".py",
   "mimetype": "text/x-python",
   "name": "python",
   "nbconvert_exporter": "python",
   "pygments_lexer": "ipython3",
   "version": "3.13.0"
  }
 },
 "nbformat": 4,
 "nbformat_minor": 5
}
