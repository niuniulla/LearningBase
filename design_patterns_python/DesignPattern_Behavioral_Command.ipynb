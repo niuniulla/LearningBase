{
 "cells": [
  {
   "cell_type": "markdown",
   "id": "3521dcac-f55d-4742-b4b4-82b4e30c56ed",
   "metadata": {},
   "source": [
    "# Command"
   ]
  },
  {
   "cell_type": "markdown",
   "id": "429f9a74-e954-4e1c-b9f3-2e5ad16460b6",
   "metadata": {},
   "source": [
    "It helps transform a jumble of scattered function calls into well-organized commands that are easy to manage and extend."
   ]
  },
  {
   "cell_type": "markdown",
   "id": "c9e9758a-5754-4452-9975-6ce8e511865a",
   "metadata": {},
   "source": [
    "## Implementation"
   ]
  },
  {
   "cell_type": "code",
   "execution_count": 2,
   "id": "e6c429a9-7c08-4c18-a657-b1ec5624bd10",
   "metadata": {},
   "outputs": [],
   "source": [
    "# take an example without the command pattern\n",
    "from dataclasses import dataclass\n",
    "\n",
    "@dataclass\n",
    "class BankAccount:\n",
    "    balance: int\n",
    "    overdue: int = -500\n",
    "\n",
    "    def deposit(self, amount):\n",
    "        self.balance += amount\n",
    "\n",
    "    def withdraw(self, amount):\n",
    "        if self.balance - amount > self.overdue:\n",
    "            self.balance -= amount\n",
    "            return True\n",
    "        return False\n",
    "\n",
    "    def __str__(self):\n",
    "        return f\"There are ${self.balance} left.\""
   ]
  },
  {
   "cell_type": "code",
   "execution_count": 59,
   "id": "74b01fad-a5f2-4263-acec-7120f6d866eb",
   "metadata": {},
   "outputs": [],
   "source": [
    "# using command pattern\n",
    "from abc import abstractmethod\n",
    "from enum import Enum\n",
    "\n",
    "# command interface\n",
    "class Command:\n",
    "    @abstractmethod\n",
    "    def call(self):\n",
    "        pass\n",
    "\n",
    "# concrete command classes\n",
    "class BankAccountCommand(Command):\n",
    "    class Action(Enum):\n",
    "        Deposit=1,\n",
    "        Withdraw=2\n",
    "        \n",
    "    def __init__(self, account, action, amount):\n",
    "        self.account = account\n",
    "        self.action = action\n",
    "        self.amount = amount\n",
    "\n",
    "    def call(self):\n",
    "        if self.action is self.Action.Deposit:\n",
    "            self.account.deposit(self.amount)\n",
    "        elif self.action is self.Action.Withdraw:\n",
    "            self.account.withdraw(self.amount)\n",
    "                "
   ]
  },
  {
   "cell_type": "code",
   "execution_count": 60,
   "id": "b0b48fb7-3576-4cf8-b2ae-24610291959d",
   "metadata": {},
   "outputs": [
    {
     "name": "stdout",
     "output_type": "stream",
     "text": [
      "There are $200 left.\n",
      "There are $500 left.\n",
      "There are $400 left.\n"
     ]
    }
   ],
   "source": [
    "account = BankAccount(200)\n",
    "print(account)\n",
    "command = BankAccountCommand(account, BankAccountCommand.Action.Deposit, 300)\n",
    "command.call()\n",
    "print(account)\n",
    "command = BankAccountCommand(account, BankAccountCommand.Action.Withdraw, 100)\n",
    "command.call()\n",
    "print(account)"
   ]
  },
  {
   "cell_type": "markdown",
   "id": "97664f0f-5bb1-44a0-b065-3aa7bead17a7",
   "metadata": {},
   "source": [
    "## Undo"
   ]
  },
  {
   "cell_type": "code",
   "execution_count": 14,
   "id": "b79eeba2-55c5-42a7-bd39-65032b233740",
   "metadata": {},
   "outputs": [],
   "source": [
    "# if we need to reverse, we can add an undo function to the Commands\n",
    "\n",
    "from abc import abstractmethod\n",
    "from enum import Enum\n",
    "\n",
    "# command interface\n",
    "class Command:\n",
    "    @abstractmethod\n",
    "    def call(self):\n",
    "        pass\n",
    "\n",
    "    @abstractmethod\n",
    "    def undo(self):\n",
    "        pass\n",
    "\n",
    "# concrete command classes\n",
    "class BankAccountCommand(Command):\n",
    "    class Action(Enum):\n",
    "        Deposit=1,\n",
    "        Withdraw=2\n",
    "        \n",
    "    def __init__(self, account, action, amount):\n",
    "        self.account = account\n",
    "        self.action = action\n",
    "        self.amount = amount\n",
    "        self.succeed = False\n",
    "\n",
    "    def call(self):\n",
    "        if self.action is self.Action.Deposit:\n",
    "            self.account.deposit(self.amount)\n",
    "            self.succeed = True\n",
    "        elif self.action is self.Action.Withdraw:\n",
    "            self.account.withdraw(self.amount)\n",
    "            self.succeed = True\n",
    "\n",
    "    def undo(self):\n",
    "        if self.action is self.Action.Deposit:\n",
    "            if self.succeed:\n",
    "                self.account.withdraw(self.amount)\n",
    "                self.succeed = False\n",
    "        elif self.action is self.Action.Withdraw:\n",
    "            if self.succeed:\n",
    "                self.account.deposit(self.amount)\n",
    "                self.succeed = False\n",
    "                "
   ]
  },
  {
   "cell_type": "code",
   "execution_count": 15,
   "id": "76054976-5e64-4a11-87a4-87ef67dc973b",
   "metadata": {},
   "outputs": [
    {
     "name": "stdout",
     "output_type": "stream",
     "text": [
      "There are $200 left.\n",
      "There are $500 left.\n",
      "There are $400 left.\n",
      "There are $500 left.\n",
      "There are $500 left.\n"
     ]
    }
   ],
   "source": [
    "account = BankAccount(200)\n",
    "print(account)\n",
    "command = BankAccountCommand(account, BankAccountCommand.Action.Deposit, 300)\n",
    "command.call()\n",
    "print(account)\n",
    "command = BankAccountCommand(account, BankAccountCommand.Action.Withdraw, 100)\n",
    "command.call()\n",
    "print(account)\n",
    "command.undo()\n",
    "print(account)\n",
    "command.undo()\n",
    "print(account)"
   ]
  },
  {
   "cell_type": "markdown",
   "id": "2b733bd6-eff7-4248-80e4-99cc2e49265e",
   "metadata": {},
   "source": [
    "## Compoite Command"
   ]
  },
  {
   "cell_type": "code",
   "execution_count": 72,
   "id": "40b97a8d-da07-4484-9ff8-f1f6fc18637a",
   "metadata": {},
   "outputs": [],
   "source": [
    "# Here, we are insterested in the scenario where someone withdraw an amount of money \n",
    "# and deposit it to another account.\n",
    "\n",
    "class CompositeBankAccountCommand(Command):\n",
    "        \n",
    "    def __init__(self, commands):\n",
    "        self.commands = commands\n",
    "\n",
    "    def call(self):\n",
    "        for cmd in self.commands:\n",
    "            cmd.call();\n",
    "\n",
    "    def undo(self):\n",
    "        for cmd in reversed(self.commands):\n",
    "            cmd.undo()\n",
    "\n",
    "class MoneyTransferCommand(CompositeBankAccountCommand):\n",
    "    def __init__(self, account_from, account_to, amount):\n",
    "        super().__init__([BankAccountCommand(account_from, BankAccountCommand.Action.Withdraw, amount),\n",
    "                          BankAccountCommand(account_to, BankAccountCommand.Action.Deposit, amount)])\n",
    "\n",
    "    def call(self):\n",
    "        for cmd in self.commands:\n",
    "            cmd.call()\n",
    "            cmd.succeeded = True\n",
    "            \n",
    "        "
   ]
  },
  {
   "cell_type": "code",
   "execution_count": 74,
   "id": "8cf51c19-9f30-49b3-b26c-31780f2e07c2",
   "metadata": {},
   "outputs": [
    {
     "name": "stdout",
     "output_type": "stream",
     "text": [
      "account1: There are $0 left., account2: There are $600 left.\n"
     ]
    }
   ],
   "source": [
    "account1 = BankAccount(200)\n",
    "account2 = BankAccount(400)\n",
    "transfer = MoneyTransferCommand(account1, account2, 200)\n",
    "transfer.call()\n",
    "print(f\"account1: {account1}, account2: {account2}\")"
   ]
  },
  {
   "cell_type": "markdown",
   "id": "9e5b370c-7a8a-4879-a9d1-a0a33f8a4116",
   "metadata": {},
   "source": [
    "## Multiple Commands"
   ]
  },
  {
   "cell_type": "code",
   "execution_count": 16,
   "id": "76679c4b-a858-499c-8c57-811aae8154ac",
   "metadata": {},
   "outputs": [
    {
     "name": "stdout",
     "output_type": "stream",
     "text": [
      "File example.txt opened.\n",
      "Written to file: Hello, this is a test.\n",
      "File example.txt closed.\n"
     ]
    }
   ],
   "source": [
    "import os\n",
    "from abc import ABC, abstractmethod\n",
    "from typing import TextIO\n",
    "\n",
    "class FileReceiver:\n",
    "    def __init__(self, filename: str):\n",
    "        self.filename = filename\n",
    "        self.file: TextIO | None = None\n",
    "\n",
    "    def open_file(self):\n",
    "        self.file = open(self.filename, 'w')\n",
    "        print(f\"File {self.filename} opened.\")\n",
    "\n",
    "    def write_file(self, text: str):\n",
    "        if not self.file:\n",
    "\t         raise Exception(\"File is not open\")\n",
    "        self.file.write(text)\n",
    "        print(\"Written to file:\", text)\n",
    "\n",
    "\n",
    "    def close_file(self):\n",
    "        if self.file:\n",
    "            self.file.close()\n",
    "            print(f\"File {self.filename} closed.\")\n",
    "        else:\n",
    "            raise Exception(\"File is not open\")\n",
    "\n",
    "class Command(ABC):\n",
    "    @abstractmethod\n",
    "    def execute(self):\n",
    "        pass\n",
    "\n",
    "class OpenFileCommand(Command):\n",
    "    def __init__(self, file_receiver: FileReceiver):\n",
    "        self.file_receiver = file_receiver\n",
    "\n",
    "    def execute(self):\n",
    "        self.file_receiver.open_file()\n",
    "\n",
    "class WriteFileCommand(Command):\n",
    "    def __init__(self, file_receiver: FileReceiver, text: str):\n",
    "        self.file_receiver = file_receiver\n",
    "        self.text = text\n",
    "\n",
    "    def execute(self):\n",
    "        self.file_receiver.write_file(self.text)\n",
    "\n",
    "class CloseFileCommand(Command):\n",
    "    def __init__(self, file_receiver: FileReceiver):\n",
    "        self.file_receiver = file_receiver\n",
    "\n",
    "    def execute(self):\n",
    "        self.file_receiver.close_file()\n",
    "\n",
    "class FileOperation:\n",
    "    def __init__(self, commands: list[Command]):\n",
    "        self.commands = commands\n",
    "\n",
    "    def execute_commands(self):\n",
    "        for command in self.commands:\n",
    "            command.execute()\n",
    "\n",
    "file_receiver = FileReceiver(\"example.txt\")\n",
    "commands = [\n",
    "    OpenFileCommand(file_receiver),\n",
    "    WriteFileCommand(file_receiver, \"Hello, this is a test.\"),\n",
    "    CloseFileCommand(file_receiver)\n",
    "]\n",
    "\n",
    "file_operations = FileOperation(commands)\n",
    "file_operations.execute_commands()"
   ]
  },
  {
   "cell_type": "markdown",
   "id": "10b39569-98eb-4c84-96f8-d3034c3fe528",
   "metadata": {},
   "source": [
    "## Command Query Separation"
   ]
  },
  {
   "cell_type": "code",
   "execution_count": 120,
   "id": "80b9d388-76d9-4ac2-b77e-1ca097e13a23",
   "metadata": {},
   "outputs": [],
   "source": [
    "from enum import Enum\n",
    "\n",
    "@dataclass\n",
    "class CharacterCommand:\n",
    "    class Action(Enum):\n",
    "        setby = 1,\n",
    "        increseby = 2, \n",
    "        decreaseby = 3  \n",
    "    action: Action\n",
    "    indicator : Enum\n",
    "    amount: int\n",
    "    \n",
    "@dataclass\n",
    "class CharacterQuery:\n",
    "    indicator: Enum"
   ]
  },
  {
   "cell_type": "code",
   "execution_count": 170,
   "id": "18f5c0df-f44c-49aa-8607-a7c762d8933a",
   "metadata": {},
   "outputs": [],
   "source": [
    "@dataclass\n",
    "class Character:\n",
    "    class CharacterIndicator(Enum):\n",
    "        Health = 1,\n",
    "        Power = 2\n",
    "\n",
    "    _name: str\n",
    "    _health: int\n",
    "    _power: int\n",
    "    \n",
    "    def process_command(self, cmd: CharacterCommand):\n",
    "        \n",
    "        # \n",
    "        indicator = {self.CharacterIndicator.Health: self._health, \\\n",
    "                     self.CharacterIndicator.Power: self._power}\n",
    "\n",
    "        if cmd.action == CharacterCommand.Action.setby:\n",
    "            indicator[cmd.indicator] = cmd.amount\n",
    "        elif cmd.action == CharacterCommand.Action.increaseby:\n",
    "            indicator[cmd.indicator] += cmd.amount\n",
    "        elif cmd.action == CharacterCommand.Action.decreaseby:\n",
    "            indicator[cmd.indicator] -= cmd.amount\n",
    "        else:\n",
    "            raise ValueError\n",
    "\n",
    "        self._health, self._power = indicator.values()\n",
    "        \n",
    "\n",
    "    def process_query(self, q: CharacterQuery):\n",
    "        if q.indicator == self.CharacterIndicator.Health:\n",
    "            return self._health\n",
    "        elif q.indicator == self.CharacterIndicator.Power:\n",
    "            return self._power\n",
    "        else:\n",
    "            raise ValueError\n",
    "\n",
    "    @property\n",
    "    def health(self):\n",
    "        return self.process_query(CharacterQuery(self.CharacterIndicator.Health))\n",
    "\n",
    "    @health.setter\n",
    "    def health(self, amount):\n",
    "        self.process_command(CharacterCommand(CharacterCommand.Action.setby, self.CharacterIndicator.Health, amount))\n",
    "    \n",
    "    @property\n",
    "    def power(self):\n",
    "        return self.process_query(CharacterQuery(self.CharacterIndicator.Po))\n",
    "\n",
    "    @health.setter\n",
    "    def power(self, amount):\n",
    "        self.process_command(CharacterCommand(CharacterCommand.Action.setby, self.CharacterIndicator.Power, amount))\n",
    "\n",
    "    def __str__(self):\n",
    "        return f\"Character {self._name} has Health: {self._health}, Power: {self._power}\""
   ]
  },
  {
   "cell_type": "code",
   "execution_count": 171,
   "id": "a337008e-11a2-4bda-b14e-156741f78ef6",
   "metadata": {},
   "outputs": [
    {
     "name": "stdout",
     "output_type": "stream",
     "text": [
      "Character ninja has Health: 100, Power: 100\n",
      "Character ninja has Health: 30, Power: 100\n",
      "30\n"
     ]
    }
   ],
   "source": [
    "player = Character(\"ninja\", 100, 100)\n",
    "print(player)\n",
    "player.health = 30\n",
    "print(player)\n",
    "\n",
    "print(player.health)"
   ]
  }
 ],
 "metadata": {
  "kernelspec": {
   "display_name": "Python 3 (ipykernel)",
   "language": "python",
   "name": "python3"
  },
  "language_info": {
   "codemirror_mode": {
    "name": "ipython",
    "version": 3
   },
   "file_extension": ".py",
   "mimetype": "text/x-python",
   "name": "python",
   "nbconvert_exporter": "python",
   "pygments_lexer": "ipython3",
   "version": "3.13.0"
  }
 },
 "nbformat": 4,
 "nbformat_minor": 5
}
