{
 "cells": [
  {
   "cell_type": "markdown",
   "id": "782ce6b8-a6a5-468d-bc89-694d8f69e1c7",
   "metadata": {},
   "source": [
    "# Singleton"
   ]
  },
  {
   "cell_type": "markdown",
   "id": "710ae02b-e96b-43fb-aac8-ad0b35075299",
   "metadata": {},
   "source": [
    "## implementation\n",
    "\n",
    "Since there is no concept of private members as for c++, we have to take advantage of its dict mechanism to create singletons."
   ]
  },
  {
   "cell_type": "code",
   "execution_count": 1,
   "id": "d477d490-5639-420b-8315-122787464a52",
   "metadata": {},
   "outputs": [],
   "source": [
    "# implementation of singleton\n",
    "\n",
    "class Singleton(object):\n",
    "    def __new__(cls):\n",
    "        if not hasattr(cls, 'my_instance'): # we use a field to mark the instance of the Singleton object\n",
    "            cls.my_instance = super(Singleton, cls).__new__(cls)\n",
    "        return cls.my_instance"
   ]
  },
  {
   "cell_type": "code",
   "execution_count": 2,
   "id": "c50c2ce3-7346-4afc-85bd-9a81d252d053",
   "metadata": {},
   "outputs": [
    {
     "name": "stdout",
     "output_type": "stream",
     "text": [
      "{'__module__': '__main__', '__firstlineno__': 3, '__new__': <staticmethod(<function Singleton.__new__ at 0x7f60bc220720>)>, '__static_attributes__': (), '__dict__': <attribute '__dict__' of 'Singleton' objects>, '__weakref__': <attribute '__weakref__' of 'Singleton' objects>, '__doc__': None}\n",
      "s1 address: 140053449807184, s2 address: 140053449807184\n",
      "s2 variable: 10\n",
      "{'__module__': '__main__', '__firstlineno__': 3, '__new__': <staticmethod(<function Singleton.__new__ at 0x7f60bc220720>)>, '__static_attributes__': (), '__dict__': <attribute '__dict__' of 'Singleton' objects>, '__weakref__': <attribute '__weakref__' of 'Singleton' objects>, '__doc__': None, 'my_instance': <__main__.Singleton object at 0x7f60bc201550>}\n"
     ]
    }
   ],
   "source": [
    "s = Singleton\n",
    "print(vars(s)) # there is no 'my_instance' in the dict mapping since we haven't instantiate the object\n",
    "\n",
    "s1 = Singleton()\n",
    "s2 = Singleton()\n",
    "\n",
    "print(f\"s1 address: {id(s1)}, s2 address: {id(s2)}\")\n",
    "\n",
    "s1.variable = 10\n",
    "print(f\"s2 variable: {s2.variable}\")\n",
    "\n",
    "print(vars(s)) # the'instance' appears after instantiation"
   ]
  },
  {
   "cell_type": "markdown",
   "id": "d046f53e-28b3-46a2-8db3-dc2091275140",
   "metadata": {},
   "source": [
    "## borg/monostate singleton\n",
    "\n",
    "Borg singleton is a design pattern in Python that allows state sharing for different instances."
   ]
  },
  {
   "cell_type": "code",
   "execution_count": 4,
   "id": "87cb46c9-22c4-4f02-b721-42be57bcf53a",
   "metadata": {},
   "outputs": [
    {
     "name": "stdout",
     "output_type": "stream",
     "text": [
      "singleton address: 140053449807184, child address: 140053449807184\n",
      "child variable: 20\n"
     ]
    }
   ],
   "source": [
    "# the child object is the same as its parent singleton\n",
    "\n",
    "class ChildSingleton(Singleton):\n",
    "    pass\n",
    "\n",
    "child_s = ChildSingleton()\n",
    "\n",
    "print(f\"singleton address: {id(s1)}, child address: {id(child_s)}\")\n",
    "\n",
    "# we change the variable value of object s1, this has the print out put to 20\n",
    "s1.variable = 20 \n",
    "print(f\"child variable: {child_s.variable}\")"
   ]
  },
  {
   "cell_type": "code",
   "execution_count": 102,
   "id": "6691204e-4fa2-4d5b-a0dd-a6fe46e9fe60",
   "metadata": {},
   "outputs": [
    {
     "name": "stdout",
     "output_type": "stream",
     "text": [
      "borg address: 140195608933920, child address: 140195597549648\n",
      "child variable: 40\n"
     ]
    }
   ],
   "source": [
    "# borg\n",
    "# This allows different object has the same state\n",
    "\n",
    "class BorgSingleton(object):\n",
    "    # this allows all children share the same dict mapping\n",
    "    _shared_borg_state = {}\n",
    "\n",
    "    def __new__(cls):\n",
    "        obj = super(BorgSingleton, cls).__new__(cls)\n",
    "        obj.__dict__ = cls._shared_borg_state\n",
    "        return obj # return object instead of instance\n",
    "\n",
    "class ChildBorg(BorgSingleton):\n",
    "    pass\n",
    "\n",
    "borg = BorgSingleton()\n",
    "child_borg = ChildBorg()\n",
    "\n",
    "borg.variable = 40\n",
    "print(f\"borg address: {id(borg)}, child address: {id(child)}\")\n",
    "print(f\"child variable: {child_borg.variable}\")"
   ]
  },
  {
   "cell_type": "markdown",
   "id": "e6461083-5bec-4aac-a9e7-0e85f21e7f3e",
   "metadata": {},
   "source": [
    "## thread safe"
   ]
  },
  {
   "cell_type": "code",
   "execution_count": 75,
   "id": "ab0f5c31-0b84-4f55-9eb2-7eabb18d7f52",
   "metadata": {},
   "outputs": [
    {
     "name": "stdout",
     "output_type": "stream",
     "text": [
      "{'__module__': '__main__', '__firstlineno__': 3, '_lock': <unlocked _thread.lock object at 0x7f81d4ca0c40>, '__new__': <staticmethod(<function SafeSingleton.__new__ at 0x7f81d46d3600>)>, '__static_attributes__': (), '__dict__': <attribute '__dict__' of 'SafeSingleton' objects>, '__weakref__': <attribute '__weakref__' of 'SafeSingleton' objects>, '__doc__': None}\n",
      "s1 address: 140195608925520, s2 address: 140195608925520\n",
      "{'__module__': '__main__', '__firstlineno__': 3, '_lock': <unlocked _thread.lock object at 0x7f81d4ca0c40>, '__new__': <staticmethod(<function SafeSingleton.__new__ at 0x7f81d46d3600>)>, '__static_attributes__': (), '__dict__': <attribute '__dict__' of 'SafeSingleton' objects>, '__weakref__': <attribute '__weakref__' of 'SafeSingleton' objects>, '__doc__': None, 'instance': <__main__.SafeSingleton object at 0x7f81d5781550>}\n"
     ]
    }
   ],
   "source": [
    "import threading\n",
    "\n",
    "class SafeSingleton(object):\n",
    "\n",
    "    _lock = threading.Lock() # for amotic lock\n",
    "    \n",
    "    def __new__(cls):\n",
    "        with cls._lock:\n",
    "            if not hasattr(cls, 'instance'):\n",
    "                cls.instance = super(SafeSingleton, cls).__new__(cls)\n",
    "        return cls.instance\n",
    "\n",
    "        \n",
    "s = SafeSingleton\n",
    "print(s.__dict__)\n",
    "\n",
    "s1 = SafeSingleton()\n",
    "s2 = SafeSingleton()\n",
    "\n",
    "print(f\"s1 address: {id(s1)}, s2 address: {id(s2)}\")\n",
    "print(s.__dict__)"
   ]
  },
  {
   "cell_type": "markdown",
   "id": "c1eaa774-0f81-47b9-b69d-9cc17cf5e275",
   "metadata": {},
   "source": [
    "## c++ style\n",
    "\n",
    "As said before, there is no private member for python, we can then disable the init function and only allow a static instance method.\n"
   ]
  },
  {
   "cell_type": "code",
   "execution_count": 11,
   "id": "2f773388-e109-46bb-ae97-6d9eb5c1e395",
   "metadata": {},
   "outputs": [
    {
     "name": "stdout",
     "output_type": "stream",
     "text": [
      "Error: not implemented\n",
      "s1 address: 140053325823360, s2 address: 140053325823360\n"
     ]
    }
   ],
   "source": [
    "class Singleton:\n",
    "    def __init__(cls):\n",
    "        raise NotImplementedError\n",
    "        # etc\n",
    "    \n",
    "    @staticmethod\n",
    "    def instance():\n",
    "        if not hasattr(Singleton, 'instance'):\n",
    "            Singleton.instance = Singleton()\n",
    "        return Singleton.instance\n",
    "\n",
    "try:\n",
    "    s = Singleton()\n",
    "except:\n",
    "    print(\"Error: not implemented\")\n",
    "s1 = Singleton.instance()\n",
    "s2 = Singleton.instance()\n",
    "print(f\"s1 address: {id(s1)}, s2 address: {id(s2)}\")"
   ]
  },
  {
   "cell_type": "markdown",
   "id": "efa54d81-6cb4-4598-8e97-fea71c8cf64d",
   "metadata": {},
   "source": [
    "## decorator"
   ]
  },
  {
   "cell_type": "code",
   "execution_count": 14,
   "id": "1c39808b-89e0-49df-87ad-3c0b5a97eb67",
   "metadata": {},
   "outputs": [
    {
     "name": "stdout",
     "output_type": "stream",
     "text": [
      "Error: forbidden\n",
      "s1 address: 140053324125856, s2 address: 140053324125856\n"
     ]
    }
   ],
   "source": [
    "class Singleton:\n",
    "    def __init__(self, cls):\n",
    "        self._cls = cls\n",
    "\n",
    "    def instance(self):\n",
    "        try:\n",
    "            return self._instance\n",
    "        except AttributeError:\n",
    "            self._instance = self._cls()\n",
    "            return self._instance\n",
    "\n",
    "    def __call__(self):\n",
    "        raise TypeError('Singletons must be accessed through `instance()`.')\n",
    "\n",
    "    def __instancecheck__(self, inst):\n",
    "        return isinstance(inst, self._cls)\n",
    "\n",
    "@Singleton\n",
    "class DBConnection(object):\n",
    "    def __init__(self):\n",
    "        \"\"\"Initialize your database connection here.\"\"\"\n",
    "        pass\n",
    "\n",
    "    def __str__(self):\n",
    "        return 'Database connection object'\n",
    "\n",
    "try:\n",
    "    s =  DBConnection()\n",
    "except:\n",
    "    print(\"Error: forbidden\")\n",
    "s1 = DBConnection.instance()\n",
    "s2 = DBConnection.instance()\n",
    "print(f\"s1 address: {id(s1)}, s2 address: {id(s2)}\")"
   ]
  },
  {
   "cell_type": "markdown",
   "id": "0881e270-4e10-4dc5-8034-ca191c0251aa",
   "metadata": {},
   "source": [
    "## metaclass"
   ]
  },
  {
   "cell_type": "code",
   "execution_count": 97,
   "id": "321eafd8-f8a5-46b3-9854-545ed714968f",
   "metadata": {},
   "outputs": [],
   "source": [
    "class SingletonMeta(type):\n",
    "    _instance = {}\n",
    "    def __call__(cls, *args, **kwargs):\n",
    "        if not cls in cls._instance:\n",
    "            cls._instance[cls] = super(SingletonMeta, cls).__call__(*args, **kwargs)\n",
    "        return cls._instance[cls]\n",
    "\n",
    "class Singleton(metaclass=SingletonMeta):\n",
    "    pass"
   ]
  },
  {
   "cell_type": "code",
   "execution_count": 99,
   "id": "5d7a458a-9137-48d4-9620-7ac6a31fc9fe",
   "metadata": {},
   "outputs": [
    {
     "name": "stdout",
     "output_type": "stream",
     "text": [
      "s1 address: 140195436725984, s2 address: 140195436725984\n"
     ]
    }
   ],
   "source": [
    "# Test the singleton class\n",
    "# Create two instances of SingletonClass\n",
    "s1 = Singleton()\n",
    "s2 = Singleton()\n",
    "# Check if both instances refer to the same object\n",
    "print(f\"s1 address: {id(s1)}, s2 address: {id(s2)}\")"
   ]
  },
  {
   "cell_type": "markdown",
   "id": "307d5fbc-5a9d-457b-a2fd-3f5826bf868b",
   "metadata": {},
   "source": [
    "## common applications\n",
    "\n",
    "Logging: The Python logging module is implemented as a Singleton so that all modules in an application share a common logging instance.\n",
    "\n",
    "Database connection management: As discussed in this article, many web frameworks, such as Django, use the Singleton pattern to ensure that only one instance of a database connection exists at any given time.\n",
    "\n",
    "Configuration management: Configuration data for an application is often stored in a Singleton object so that it can be easily accessed by all parts of the application."
   ]
  },
  {
   "cell_type": "code",
   "execution_count": 16,
   "id": "a9c8331f-2d93-433e-8d3e-c86428097584",
   "metadata": {},
   "outputs": [
    {
     "name": "stdout",
     "output_type": "stream",
     "text": [
      "Connection:\n",
      " host: localhost\n",
      " user: me\n",
      " database: test\n",
      "Connection:\n",
      " host: localhost\n",
      " user: me\n",
      " database: test\n",
      "True\n"
     ]
    }
   ],
   "source": [
    "# example of sql\n",
    "\n",
    "# to install the package: pip install mysql-connector-python\n",
    "\n",
    "import mysql.connector\n",
    "\n",
    "class MysqlConnectionSingleton(object):\n",
    "    def __new__(cls, *args, **kwargs):\n",
    "        if not hasattr(MysqlConnectionSingleton, 'instance'):\n",
    "            cls.instance = super(MysqlConnectionSingleton, cls).__new__(cls)\n",
    "        return cls.instance\n",
    "\n",
    "    def __init__(self, host, user, pw, db):\n",
    "        self._host = host\n",
    "        self._user = user\n",
    "        self._password = pw\n",
    "        self._database = db\n",
    "        self._connection = None\n",
    "        print(f\"Connection:\\n host: {self._host}\\n user: {self._user}\\n database: {self._database}\")\n",
    "\n",
    "        if not self._connection:\n",
    "            self._connection = \"connect to localhost\"\n",
    "\n",
    "    def get_connection(self):\n",
    "        return self._connection\n",
    "\n",
    "    def query(self, q):\n",
    "        try:\n",
    "            connection = self.get_connection()\n",
    "            cursor = connection.cursor()\n",
    "            cursor.execute(q)\n",
    "            result = cursor.fetchall()\n",
    "            return result\n",
    "        except mysql.connector.Error as err:\n",
    "            print(f\"Error: {err}\")\n",
    "        finally:\n",
    "            cursor.close()\n",
    "\n",
    "# usage\n",
    "myconnection1 = MysqlConnectionSingleton(\"localhost\", \"me\", \"mypw\", \"test\")\n",
    "myconnection2 = MysqlConnectionSingleton(\"localhost\", \"me\", \"mypw\", \"test\")\n",
    "print(myconnection1.get_connection() == myconnection2.get_connection())\n",
    "\n",
    "#query = \"SELECT * FROM your_table LIMIT 5\"\n",
    "\n",
    "# Executing the query\n",
    "#result = myconnection.execute_query(query)"
   ]
  }
 ],
 "metadata": {
  "kernelspec": {
   "display_name": "Python 3 (ipykernel)",
   "language": "python",
   "name": "python3"
  },
  "language_info": {
   "codemirror_mode": {
    "name": "ipython",
    "version": 3
   },
   "file_extension": ".py",
   "mimetype": "text/x-python",
   "name": "python",
   "nbconvert_exporter": "python",
   "pygments_lexer": "ipython3",
   "version": "3.13.0"
  }
 },
 "nbformat": 4,
 "nbformat_minor": 5
}
