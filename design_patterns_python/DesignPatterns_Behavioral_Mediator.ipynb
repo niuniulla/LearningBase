{
 "cells": [
  {
   "cell_type": "markdown",
   "id": "b3aba413-65c1-4470-b33d-d0379fa6281e",
   "metadata": {},
   "source": [
    "# Mediator"
   ]
  },
  {
   "cell_type": "markdown",
   "id": "00fe2224-750d-4f70-b09b-7ad43d803770",
   "metadata": {},
   "source": [
    "It is a mechanism for facilitating communication between the components. Naturally, the mediator itself needs to be accessible to every component taking part, which means it should either be a global static variable or, alternatively, just a reference that gets injected into every component."
   ]
  },
  {
   "cell_type": "markdown",
   "id": "ec319c26-1d92-4c9b-9dc0-54642d5b2740",
   "metadata": {},
   "source": [
    "## simple example"
   ]
  },
  {
   "cell_type": "code",
   "execution_count": 69,
   "id": "4d9d7ef2-5810-418b-bc42-2699f3b0bd6b",
   "metadata": {},
   "outputs": [],
   "source": [
    "# componnt\n",
    "\n",
    "class Person:\n",
    "    def __init__(self, name):\n",
    "        self.name = name\n",
    "        self.log = \"\"\n",
    "        self.room = None\n",
    "\n",
    "    def receive(self, msg):\n",
    "        self.log.join(msg)\n",
    "        print(f\"[{self.name} Session] {msg}\")\n",
    "\n",
    "    def post(self, msg):\n",
    "        self.room.broadcast(f\"[From {self.name}] {msg}\")\n",
    "\n",
    "    def private_msg(self, who, msg):\n",
    "        self.room.message(self.name, who, f\"[From {self.name}] {msg}\")"
   ]
  },
  {
   "cell_type": "code",
   "execution_count": 70,
   "id": "7eee4da7-4118-4612-8793-a0de33f1852d",
   "metadata": {},
   "outputs": [],
   "source": [
    "# mediator\n",
    "\n",
    "class ChatRoom:\n",
    "    def __init__(self):\n",
    "        self.people = []\n",
    "\n",
    "    def join(self, person):\n",
    "        person.room = self\n",
    "        self.people.append(person)\n",
    "        self.broadcast(f\"{person.name} has joint the room.\")\n",
    "        \n",
    "    def broadcast(self, msg):\n",
    "        for p in self.people:\n",
    "            p.receive(msg)\n",
    "\n",
    "    def message(self, sender, receiver, msg):\n",
    "        for p in self.people:\n",
    "            if p.name == receiver.name:\n",
    "                p.receive(msg)"
   ]
  },
  {
   "cell_type": "code",
   "execution_count": 72,
   "id": "95dea74c-a502-42f3-9551-29916b733657",
   "metadata": {},
   "outputs": [
    {
     "name": "stdout",
     "output_type": "stream",
     "text": [
      "[John Session] John has joint the room.\n",
      "[John Session] Lisa has joint the room.\n",
      "[Lisa Session] Lisa has joint the room.\n",
      "[John Session] [From John] hi everyone\n",
      "[Lisa Session] [From John] hi everyone\n",
      "[John Session] Dave has joint the room.\n",
      "[Lisa Session] Dave has joint the room.\n",
      "[Dave Session] Dave has joint the room.\n",
      "[John Session] [From Dave] hello\n",
      "[Lisa Session] [From Dave] hello\n",
      "[Dave Session] [From Dave] hello\n",
      "[Dave Session] [From Lisa] welcome back\n"
     ]
    }
   ],
   "source": [
    "chatroom = ChatRoom()\n",
    "john = Person(\"John\")\n",
    "lisa = Person(\"Lisa\")\n",
    "chatroom.join(john)\n",
    "chatroom.join(lisa)\n",
    "\n",
    "john.post(\"hi everyone\")\n",
    "\n",
    "dave = Person(\"Dave\")\n",
    "chatroom.join(dave)\n",
    "dave.post(\"hello\")\n",
    "\n",
    "lisa.private_msg(dave, \"welcome back\")"
   ]
  },
  {
   "cell_type": "markdown",
   "id": "6cd6de12-c56e-4da6-8e34-95f3e65e72c2",
   "metadata": {},
   "source": [
    "## Mediator + Event"
   ]
  },
  {
   "cell_type": "code",
   "execution_count": 29,
   "id": "1d998e21-16a8-42e2-9d29-7060c03026ba",
   "metadata": {},
   "outputs": [],
   "source": [
    "# event\n",
    "\n",
    "class Event(list):\n",
    "    def __call__(self, *args, **kwargs):\n",
    "        for item in self:\n",
    "            item(*args, **kwargs)"
   ]
  },
  {
   "cell_type": "code",
   "execution_count": 21,
   "id": "41a5b72b-79ce-4455-b21c-e5156f71fecd",
   "metadata": {},
   "outputs": [],
   "source": [
    "# mediator\n",
    "\n",
    "class Game:\n",
    "    def __init__(self):\n",
    "        self.events = Event()\n",
    "\n",
    "    def update_board(self, args):\n",
    "        self.events(args)\n",
    "        "
   ]
  },
  {
   "cell_type": "code",
   "execution_count": 27,
   "id": "aad9ff2d-15f8-42bc-a09e-21f70cab7066",
   "metadata": {},
   "outputs": [],
   "source": [
    "# component\n",
    "\n",
    "class PlayerScoreData:\n",
    "    def __init__(self, name, scores):\n",
    "        self.player_name = name\n",
    "        self.scores = scores\n",
    "\n",
    "class Player:\n",
    "    def __init__(self, name, game):\n",
    "        self.name = name\n",
    "        self.scores = 0\n",
    "        self.game = game\n",
    "\n",
    "    def score(self):\n",
    "        self.scores += 1\n",
    "        psd = PlayerScoreData(self.name, self.scores)\n",
    "        self.game.update_board(psd)"
   ]
  },
  {
   "cell_type": "code",
   "execution_count": 25,
   "id": "e456db17-2559-4128-bde8-5827cf0d9456",
   "metadata": {},
   "outputs": [],
   "source": [
    "# component\n",
    "\n",
    "class ScoreBoard:\n",
    "    def __init__(self, game):\n",
    "        self.game = game\n",
    "        self.game.events.append(self.refresh)\n",
    "\n",
    "    def refresh(self, args):\n",
    "        if isinstance(args, PlayerScoreData):\n",
    "            print(f\"{args.player_name} score: {args.scores}\")"
   ]
  },
  {
   "cell_type": "code",
   "execution_count": 31,
   "id": "69f9ff8e-7c13-4804-b286-7cabafe81c76",
   "metadata": {},
   "outputs": [
    {
     "name": "stdout",
     "output_type": "stream",
     "text": [
      "John score: 1\n",
      "John score: 2\n",
      "Sam score: 1\n"
     ]
    }
   ],
   "source": [
    "game = Game()\n",
    "player1 = Player(\"John\", game)\n",
    "player2 = Player(\"Sam\", game)\n",
    "board = ScoreBoard(game)\n",
    "player1.score()\n",
    "player1.score()\n",
    "player2.score()"
   ]
  }
 ],
 "metadata": {
  "kernelspec": {
   "display_name": "Python 3 (ipykernel)",
   "language": "python",
   "name": "python3"
  },
  "language_info": {
   "codemirror_mode": {
    "name": "ipython",
    "version": 3
   },
   "file_extension": ".py",
   "mimetype": "text/x-python",
   "name": "python",
   "nbconvert_exporter": "python",
   "pygments_lexer": "ipython3",
   "version": "3.13.0"
  }
 },
 "nbformat": 4,
 "nbformat_minor": 5
}
