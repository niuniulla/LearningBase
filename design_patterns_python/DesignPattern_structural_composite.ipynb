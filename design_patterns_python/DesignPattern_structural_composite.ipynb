{
 "cells": [
  {
   "cell_type": "markdown",
   "id": "211021f5-3589-437a-a5dd-ddcb9f77789e",
   "metadata": {},
   "source": [
    "# Composite"
   ]
  },
  {
   "cell_type": "markdown",
   "id": "392971a9-c25d-4d62-b5da-23e75e0aefba",
   "metadata": {},
   "source": [
    "Composite is a structural design pattern that lets you compose objects into tree structures and then work with these structures as if they were individual objects.\n",
    "\n",
    "The parts:\n",
    " - Component: Component helps in implementing the default behavior for the interface common to all classes as appropriate. It declares the interface of the objects in the composition and for accessing and managing its child components.\n",
    " - Leaf: It defines the behavior for primitive objects in the composition. It represents the leaf object in the composition.\n",
    " - Composite: It stores the child component and implements child related operations in the component interface.\n",
    " - Client: It is used to manipulate the objects in the composition through the component interface."
   ]
  },
  {
   "cell_type": "markdown",
   "id": "f4af3a7c-3f5b-4ad9-87be-f9e07ea59fc6",
   "metadata": {},
   "source": [
    "## Array backed properties"
   ]
  },
  {
   "cell_type": "code",
   "execution_count": 14,
   "id": "735a5473-6aed-4128-b4dc-ff3e7fe174bf",
   "metadata": {},
   "outputs": [],
   "source": [
    "from dataclasses import dataclass\n",
    "\n",
    "@dataclass\n",
    "class Character:\n",
    "    _power: float\n",
    "    _health: float\n",
    "    _intelligence: float\n",
    "\n",
    "    @property\n",
    "    def power(self):\n",
    "        return self.power\n",
    "\n",
    "    @power.setter\n",
    "    def power(self, value):\n",
    "        self.power = value\n",
    "\n",
    "    # in this implementation, avery time we ad a property, we have to update all methods\n",
    "    # involving all properties\n",
    "    # Besides, it is easy to forget sonting here when there are a lots of properties\n",
    "    def sum(self):\n",
    "        return self._power + self._health + self._intelligence\n",
    "\n",
    "    # we have a magic number '3.0' here which depends on the number of properties\n",
    "    # This is very error-prone.\n",
    "    def average(self):\n",
    "        return self.sum() / 3.0"
   ]
  },
  {
   "cell_type": "code",
   "execution_count": 22,
   "id": "324d85eb-87e7-4409-9008-5ae57e697d98",
   "metadata": {},
   "outputs": [],
   "source": [
    "# we optimize the previous class using a dict to manage all properties\n",
    "# In this implementation, when we add properties, we only add them in the \n",
    "# property dict in the init method.\n",
    "# But we don't need to change other methods such as sum and average,\n",
    "# which is different from the previous implmentation.\n",
    "\n",
    "class Character:\n",
    "    def __init__(self, name, power, health, intel):\n",
    "        self.name = name\n",
    "        self.properties = dict(zip([\"power\", \"health\", \"intelligence\"], [power, health, intel]))\n",
    "    \n",
    "    @property\n",
    "    def power(self):\n",
    "        return self.properties[\"power\"]\n",
    "\n",
    "    @power.setter\n",
    "    def power(self, value):\n",
    "        self.properties[\"power\"] = value\n",
    "\n",
    "    def sum(self):\n",
    "        return sum(self.properties.values())\n",
    "\n",
    "    def average(self):\n",
    "        return self.sum() / len(self.properties)"
   ]
  },
  {
   "cell_type": "code",
   "execution_count": 23,
   "id": "05e54f79-514d-4b1f-b2a7-aa1caba22d58",
   "metadata": {},
   "outputs": [
    {
     "name": "stdout",
     "output_type": "stream",
     "text": [
      "monster has 15 points in total.\n",
      "monster has 5.0 points in average.\n"
     ]
    }
   ],
   "source": [
    "character = Character(\"monster\", 2, 9, 4)\n",
    "print(f\"{character.name} has {character.sum()} points in total.\")\n",
    "print(f\"{character.name} has {character.average()} points in average.\")"
   ]
  },
  {
   "cell_type": "markdown",
   "id": "8874a325-f0dc-4c4a-887a-7b7445a4b19a",
   "metadata": {},
   "source": [
    "## Grouping graph"
   ]
  },
  {
   "cell_type": "code",
   "execution_count": 9,
   "id": "e125bdf1-a7a3-416f-a233-c85b7a460eca",
   "metadata": {},
   "outputs": [],
   "source": [
    "from abc import abstractmethod\n",
    "from dataclasses import dataclass\n",
    "\n",
    "# component\n",
    "class GraphicObject:\n",
    "    @abstractmethod\n",
    "    def draw(self):\n",
    "        pass\n",
    "    @abstractmethod\n",
    "    def move(self, pos):\n",
    "        pass\n",
    "\n",
    "# leaf\n",
    "@dataclass\n",
    "class Circle(GraphicObject):\n",
    "    radius: float\n",
    "    pos: list\n",
    "    \n",
    "    def draw(self):\n",
    "        print(f\"Draw a circle of radius {self.radius} at {self.pos}\")\n",
    "\n",
    "    def move(self, pos):\n",
    "        print(f\"Move the circle to {self.pos}\")\n",
    "\n",
    "# leaf\n",
    "@dataclass\n",
    "class Rect(GraphicObject):\n",
    "    pos: list\n",
    "    size: list\n",
    "\n",
    "    def draw(self):\n",
    "        print (f\"Draw a rectangle of size {self.size} at {self.pos}\")\n",
    "\n",
    "    def move(self, pos):\n",
    "        print(f\"Move the rectangle to {self.pos}\")\n",
    "\n",
    "\n",
    "# composite\n",
    "class CompositeObjects(GraphicObject):\n",
    "    def __init__(self):\n",
    "        self.objects_list = []\n",
    "\n",
    "    def draw(self):\n",
    "        for obj in self.objects_list:\n",
    "            obj.draw()\n",
    "\n",
    "    def move(self, pos):\n",
    "        for obj in self.objects_list:\n",
    "            obj.move(pos)\n",
    "\n",
    "    def add(self, obj):\n",
    "        self.objects_list.append(obj)\n",
    "        return self\n",
    "\n",
    "    def remove(self, obj):\n",
    "        self.objects_list.remove(obj)"
   ]
  },
  {
   "cell_type": "code",
   "execution_count": 10,
   "id": "645b9664-8473-4d46-8374-19fc5769e6b7",
   "metadata": {},
   "outputs": [
    {
     "name": "stdout",
     "output_type": "stream",
     "text": [
      "Draw a circle of radius 1.0 at [1, 1]\n",
      "Draw a circle of radius 3.0 at [5, 1]\n",
      "Draw a rectangle of size [1, 1] at [1, 1]\n",
      "Draw a rectangle of size [1, 1] at [1, 3]\n",
      "Move the circle to [1, 1]\n",
      "Move the circle to [5, 1]\n",
      "Move the rectangle to [1, 1]\n",
      "Move the rectangle to [1, 3]\n"
     ]
    }
   ],
   "source": [
    "leaf1 = Circle(1.0, [1, 1])\n",
    "leaf2 = Circle(3.0, [5, 1])\n",
    "leaf3 = Rect([1, 1], [1, 1])\n",
    "leaf4 = Rect([1, 3], [1, 1])\n",
    "composites = CompositeObjects()\n",
    "composites.add(leaf1).add(leaf2).add(leaf3).add(leaf4)\n",
    "\n",
    "composites.draw()\n",
    "composites.move([6, 6])\n"
   ]
  },
  {
   "cell_type": "markdown",
   "id": "c1b50765-df62-4ecc-b7a4-1acc8ab9a8ce",
   "metadata": {},
   "source": [
    "## Tree Structure"
   ]
  },
  {
   "cell_type": "code",
   "execution_count": 1,
   "id": "71f55a99-b586-4e6e-af88-1a1dfa254b36",
   "metadata": {},
   "outputs": [],
   "source": [
    "# component interface\n",
    "\n",
    "import abc\n",
    "\n",
    "class Storage(abc.ABC):\n",
    "    @abc.abstractmethod\n",
    "    def get_size(self):\n",
    "        raise NotImplementedError\n",
    "    "
   ]
  },
  {
   "cell_type": "code",
   "execution_count": 9,
   "id": "101542a6-1f9a-4b73-976b-f2bbc2f0282a",
   "metadata": {},
   "outputs": [],
   "source": [
    "# leafs\n",
    "import random\n",
    "class File(Storage):\n",
    "    def __init__(self, name):\n",
    "        self._name = name\n",
    "        self._size = random.randint(1, 1000)\n",
    "        print(f\"Created file - {self._name}, size - {self._size} Mb\")\n",
    "\n",
    "    def get_size(self):\n",
    "        return self._size"
   ]
  },
  {
   "cell_type": "code",
   "execution_count": 10,
   "id": "a3ea1c82-d790-46d1-b058-529978ac3c10",
   "metadata": {},
   "outputs": [],
   "source": [
    "# composite\n",
    "\n",
    "class Folder(Storage):\n",
    "    def __init__(self, name):\n",
    "        self._name = name\n",
    "        self.children = []\n",
    "        print(f\"Created folder - {self._name}\")\n",
    "\n",
    "    def add(self, element: Storage):\n",
    "        self.children.append(element)\n",
    "\n",
    "    def remove(self, element):\n",
    "        self.children.remove(element)\n",
    "\n",
    "    def get_children(self):\n",
    "        return self.children\n",
    "\n",
    "    def get_size(self):\n",
    "        return sum([s.get_size() for s in self.children])"
   ]
  },
  {
   "cell_type": "code",
   "execution_count": 12,
   "id": "e18254d0-34ce-4c42-858c-30b8963913fc",
   "metadata": {},
   "outputs": [
    {
     "name": "stdout",
     "output_type": "stream",
     "text": [
      "Created folder - my_folder\n",
      "Created folder - level1\n",
      "Created folder - level2\n",
      "Created folder - level3_1\n",
      "Created folder - level3_2\n",
      "Created file - file1_level3, size - 271 Mb\n",
      "Created file - file2_level3, size - 334 Mb\n",
      "Created file - file1_level2, size - 735 Mb\n",
      "Created file - file2_level2, size - 915 Mb\n",
      "total size:  2860\n"
     ]
    }
   ],
   "source": [
    "# usage\n",
    "\n",
    "root = Folder(\"my_folder\")\n",
    "sub1 = Folder(\"level1\")\n",
    "sub2 = Folder(\"level2\")\n",
    "sub2.add(Folder(\"level3_1\"))\n",
    "sub2.add(Folder(\"level3_2\"))\n",
    "sub2.add(File(\"file1_level3\"))\n",
    "sub2.add(File(\"file2_level3\"))\n",
    "sub1.add(sub2)\n",
    "sub1.add(File(\"file1_level2\"))\n",
    "sub1.add(File(\"file2_level2\"))\n",
    "root.add(sub1)\n",
    "root.add(sub2)\n",
    "print(\"total size: \", root.get_size())"
   ]
  },
  {
   "cell_type": "markdown",
   "id": "f44aebd0-d3d3-4916-95a1-1f51817bad53",
   "metadata": {},
   "source": [
    "## Neural Network (more complex tree structure)"
   ]
  },
  {
   "cell_type": "code",
   "execution_count": 39,
   "id": "b7a3bf41-9218-4110-a18e-32bc98addaa1",
   "metadata": {},
   "outputs": [],
   "source": [
    "# component\n",
    "\n",
    "class Unit(abc.ABC):\n",
    "    id = 0\n",
    "\n",
    "class Neuron(Unit):\n",
    "    id = 0\n",
    "    def __init__(self):\n",
    "        self._in = []\n",
    "        self._out = []\n",
    "        self.id += 1\n",
    "        \n",
    "    def connect_to(self, other):\n",
    "        if isinstance(other, Neuron):\n",
    "            self._out.append(other)\n",
    "            other._in.append(self)\n",
    "        elif isinstance(other, NeuronLayer):\n",
    "            for o in other.nodes:\n",
    "                self.connect_to(o)\n",
    "        return other\n",
    "        \n",
    "    def get_num_connections(self):\n",
    "        return len(self._in) + len(self._out)"
   ]
  },
  {
   "cell_type": "code",
   "execution_count": 54,
   "id": "86cea9c1-6ea4-422e-a704-7e4ead0a3709",
   "metadata": {},
   "outputs": [],
   "source": [
    "# composite\n",
    "\n",
    "class NeuronLayer(Unit):\n",
    "    def __init__(self, count):\n",
    "        self.id += 1\n",
    "        self.nodes = [Neuron() for i in range(count)]\n",
    "\n",
    "    def connect_to(self, other):\n",
    "        for n in self.nodes:\n",
    "            if isinstance(other, Neuron):\n",
    "                n.connect_to(other)\n",
    "            if isinstance(other, NeuronLayer):\n",
    "                for o in other.nodes:\n",
    "                    n.connect_to(o)\n",
    "        return other\n",
    "\n",
    "    def get_num_connections(self):\n",
    "        return sum(n.get_num_connections() for n in self.nodes)\n",
    "            "
   ]
  },
  {
   "cell_type": "code",
   "execution_count": 55,
   "id": "a904e61a-1b99-4230-96e7-8afd2045b39b",
   "metadata": {},
   "outputs": [],
   "source": [
    "# composite\n",
    "\n",
    "class Net(Unit):\n",
    "    def __init__(self, name):\n",
    "        self._nmae = name\n",
    "        self.units = []\n",
    "    def add(self, unit:Unit):\n",
    "        self.units.append(unit)\n",
    "        return self\n",
    "    def remove(self, unit:Unit):\n",
    "        self.units.remove(unit)\n",
    "    def get_units(self):\n",
    "        return self.units\n",
    "    def get_num_connections(self):\n",
    "        return sum(n.get_num_connections() for n in self.units)"
   ]
  },
  {
   "cell_type": "code",
   "execution_count": 56,
   "id": "d7df7c45-dd00-46e3-acd8-87b354c00cff",
   "metadata": {},
   "outputs": [
    {
     "name": "stdout",
     "output_type": "stream",
     "text": [
      "18\n"
     ]
    }
   ],
   "source": [
    "net = Net(\"net\")\n",
    "net.add(Neuron()).add(Neuron()).add(NeuronLayer(4)).add(Neuron())\n",
    "for i, n in enumerate(net.get_units()[:-1]):\n",
    "    n.connect_to(net.get_units()[i+1])\n",
    "print(net.get_num_connections())\n"
   ]
  }
 ],
 "metadata": {
  "kernelspec": {
   "display_name": "Python 3 (ipykernel)",
   "language": "python",
   "name": "python3"
  },
  "language_info": {
   "codemirror_mode": {
    "name": "ipython",
    "version": 3
   },
   "file_extension": ".py",
   "mimetype": "text/x-python",
   "name": "python",
   "nbconvert_exporter": "python",
   "pygments_lexer": "ipython3",
   "version": "3.13.0"
  }
 },
 "nbformat": 4,
 "nbformat_minor": 5
}
