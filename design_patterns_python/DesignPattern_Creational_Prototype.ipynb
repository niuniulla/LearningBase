{
 "cells": [
  {
   "cell_type": "markdown",
   "id": "18e6e2d2-126f-40ed-9cdb-9d6ab4a37ae7",
   "metadata": {},
   "source": [
    "# Prototype\n",
    "\n",
    "The Prototype Method Design Pattern in Python enables the creation of new objects by cloning existing ones, promoting efficient object creation and reducing overhead."
   ]
  },
  {
   "cell_type": "markdown",
   "id": "d0b368ab-57e8-49b4-993d-9112df0a4a51",
   "metadata": {},
   "source": [
    "## Simple Duplication"
   ]
  },
  {
   "cell_type": "code",
   "execution_count": 1,
   "id": "fd40a839-71f4-472d-bedb-30238deeaf78",
   "metadata": {},
   "outputs": [],
   "source": [
    "class Character:\n",
    "    def __init__(self, name, chara, tex):\n",
    "        self.name = name\n",
    "        self.characteristics = chara\n",
    "        self.texture = tex\n",
    "\n",
    "    def __str__(self):\n",
    "        return f\"{id(self.name)}:  {id(self.characteristics)}, {id(self.texture)}\"\n",
    "\n",
    "class Texture:\n",
    "    def __init__(self, texid, file):\n",
    "        self.id = texid\n",
    "        self.file = file\n",
    "        "
   ]
  },
  {
   "cell_type": "code",
   "execution_count": 14,
   "id": "adf6c000-2e8a-43fb-9f9b-0618dee98c6b",
   "metadata": {},
   "outputs": [
    {
     "name": "stdout",
     "output_type": "stream",
     "text": [
      "address of character1 attributes:  140353617127024:  140353594169536, 140353597739856\n",
      "address of character2 attributes:  140353593666352:  140353594169536, 140353597739856\n",
      "address of character1 attributes:  140353593666352:  140353594169536, 140353597739856\n",
      "address of character3 attributes:  140353593975856:  140353592191424, 140353596658576\n",
      "address of character1 attributes:  140353593975856:  140353592191424, 140353596658576\n"
     ]
    }
   ],
   "source": [
    "character1 = Character(\"character1\", {\"health\": 100, \"power\": 100, \"level\":7}, Texture(\"text1\", \"file_of_tex1\"))\n",
    "print(\"address of character1 attributes: \", character1)\n",
    "\n",
    "character2 = character1\n",
    "character2.name = \"character2\"\n",
    "character2.characteristics[\"health\"] = 90\n",
    "character2.texture.texid = \"text2\", \n",
    "character2.texture.texid = \"file_of_tex2\"\n",
    "print(\"address of character2 attributes: \", character2)\n",
    "print(\"address of character1 attributes: \", character1)\n",
    "\n",
    "character3 = character1\n",
    "character3.name = \"character3\"\n",
    "character3.characteristics = {\"health\": 80, \"power\": 50, \"level\":5}\n",
    "character3.texture = Texture(\"text3\", \"file_of_tex3\")\n",
    "print(\"address of character3 attributes: \", character3)\n",
    "print(\"address of character1 attributes: \", character1)"
   ]
  },
  {
   "cell_type": "markdown",
   "id": "9db0178f-1a78-4370-a3fe-d3f6c5158457",
   "metadata": {},
   "source": [
    "This setup will change the prototyping object as well when adapting the prototyped object. This is not what we want.\n",
    "We can use deepcopy when making copy of the prototype object. But this will be aprt from our design and user may make error by forgetting doing so."
   ]
  },
  {
   "cell_type": "markdown",
   "id": "08fd6cce-db26-4c24-9bf1-92469c79f452",
   "metadata": {},
   "source": [
    "## Cloning"
   ]
  },
  {
   "cell_type": "code",
   "execution_count": 17,
   "id": "5188c802-3948-4623-9eb6-4207ecd41535",
   "metadata": {},
   "outputs": [],
   "source": [
    "class CharacterPrototype:\n",
    "    def __init__(self, name, chara={}, tex=None):\n",
    "        self.name = name\n",
    "        self.characteristics = chara\n",
    "        self.texture = tex\n",
    "\n",
    "    def clone(self):\n",
    "        return copy.deepcopy(self)\n",
    "\n",
    "    def __str__(self):\n",
    "        return f\"character: {self.name}, health: {self.characteristics[\"health\"]}\"\n",
    "        "
   ]
  },
  {
   "cell_type": "code",
   "execution_count": 18,
   "id": "32a57f6c-b829-46a1-80e5-ac52f28a698f",
   "metadata": {},
   "outputs": [
    {
     "name": "stdout",
     "output_type": "stream",
     "text": [
      "character1 address: 140353617246400, character2 address: 140353607178576\n",
      "character: monster, health: 80\n",
      "character: ogre, health: 80\n"
     ]
    }
   ],
   "source": [
    "character1 = CharacterPrototype(\"monster\", {\"health\": 80, \"power\": 50, \"level\":5})\n",
    "character2 = character1.clone()\n",
    "character2.name = \"ogre\"\n",
    "\n",
    "print(f\"character1 address: {id(character1)}, character2 address: {id(character2)}\")\n",
    "print(character1)\n",
    "print(character2)"
   ]
  },
  {
   "cell_type": "markdown",
   "id": "aa232f2a-7c3e-4181-9f05-e6227710e103",
   "metadata": {},
   "source": [
    "## dedicated prototype\n",
    "\n",
    "Sometimes, it is hard or impossible to change the legacy code for cloning. So we can use class dedicated to cloning the prototype class."
   ]
  },
  {
   "cell_type": "code",
   "execution_count": 38,
   "id": "a1816d84-d0e0-443e-a444-7910844e039d",
   "metadata": {},
   "outputs": [],
   "source": [
    "import copy\n",
    "\n",
    "class Prototype:\n",
    "    def __init__(self, obj):\n",
    "        self.object = obj\n",
    "\n",
    "    def clone(self):\n",
    "        obj = copy.deepcopy(self.object)\n",
    "        return obj\n",
    "        \n",
    "class Character:\n",
    "    def __init__(self, name, health):\n",
    "        self.name = name\n",
    "        self.health = health\n",
    "\n",
    "    def __str__(self):\n",
    "        return f\"character: {self.name}, health: {self.health}\""
   ]
  },
  {
   "cell_type": "code",
   "execution_count": 40,
   "id": "aa5a9c60-ae40-45a1-8a4b-8434ca082462",
   "metadata": {},
   "outputs": [
    {
     "name": "stdout",
     "output_type": "stream",
     "text": [
      "character1 address: 140358189491024, character2 address: 140358190953616\n",
      "character: monster, health: 80\n",
      "character: ogre, health: 80\n"
     ]
    }
   ],
   "source": [
    "character1 = Character(\"monster\", 80)\n",
    "character2 = prototype(character1).clone()\n",
    "character2.name = \"ogre\"\n",
    "\n",
    "print(f\"character1 address: {id(character1)}, character2 address: {id(character2)}\")\n",
    "print(character1)\n",
    "print(character2)"
   ]
  },
  {
   "cell_type": "markdown",
   "id": "b2e05957-d011-4ab3-910a-d613651b4e9d",
   "metadata": {},
   "source": [
    "## Prototype Factory\n",
    "\n",
    "It stores the prototypes and hand out customized copies of said prototypes on demand."
   ]
  },
  {
   "cell_type": "code",
   "execution_count": 33,
   "id": "c7e101c6-1962-4b97-b9ba-856b0c50a6cb",
   "metadata": {},
   "outputs": [],
   "source": [
    "class CharacterFactory:\n",
    "    player_texture = Texture(\"tex_player\", \"file_of_player\")\n",
    "    npc_texture = Texture(\"tex_npc\", \"file_of_npc\")\n",
    "\n",
    "    @staticmethod\n",
    "    def player(name, charac):\n",
    "        return CharacterFactory.create_character(name, charac, CharacterFactory.player_texture)\n",
    "\n",
    "    @staticmethod\n",
    "    def npc(name):\n",
    "        return CharacterFactory.create_character(name, {\"health\": 0, \"power\": 0, \"level\":0}, CharacterFactory.npc_texture)\n",
    "\n",
    "    @staticmethod\n",
    "    def create_character(name, charac, tex):\n",
    "        tex = copy.deepcopy(tex)\n",
    "        tex.id = name\n",
    "        tex.file = \"tex_\" + name"
   ]
  },
  {
   "cell_type": "code",
   "execution_count": 36,
   "id": "098f2f30-752e-4a83-b9a8-c875bae2e7e9",
   "metadata": {},
   "outputs": [],
   "source": [
    "player = CharacterFactory.player(\"ninja\", {\"health\": 100, \"power\": 100, \"level\":2})\n",
    "npc = CharacterFactory.npc(\"cat\")"
   ]
  },
  {
   "cell_type": "markdown",
   "id": "7437baa7-9d17-4911-988d-328ec76b3f14",
   "metadata": {},
   "source": [
    "## Using registry\n",
    "\n",
    "Normorlly there are more than one prototypes. So we can store all prototypes in a registry object and retrive it dynamically when needed."
   ]
  },
  {
   "cell_type": "code",
   "execution_count": 44,
   "id": "232709f6-e07e-4720-8c36-96598524a5d0",
   "metadata": {},
   "outputs": [],
   "source": [
    "class Weapon:\n",
    "    def __init__(self, type_name, power):\n",
    "        self.type = type_name\n",
    "        self.power = power\n",
    "\n",
    "    def __str__(self):\n",
    "        return f\"weapon: {self.type}, health: {self.power}\"\n",
    "\n",
    "class PrototypeRegistry:\n",
    "    def __init__(self):\n",
    "        self.objects = {}\n",
    "\n",
    "    def register(self, identifier, obj):\n",
    "        \"\"\"register all objects that will be cloned.\"\"\"\n",
    "        self.objects[identifier] = obj\n",
    "\n",
    "    def unregister(self, identifier):\n",
    "        del self.objects[identifier]\n",
    "\n",
    "    def clone(self, identifier, **kwargs):\n",
    "        \"\"\"clone the corresponding object and adjust the attributes.\"\"\"\n",
    "        try:\n",
    "            obj = self.objects[identifier]\n",
    "        except:\n",
    "            raise ValueError(f\"{identifier} was not found.\")\n",
    "        obj_copy = copy.deepcopy(obj)\n",
    "        obj_copy.__dict__.update(kwargs)\n",
    "        return obj_copy"
   ]
  },
  {
   "cell_type": "code",
   "execution_count": 60,
   "id": "6de9bb8b-7070-45d4-bbec-9ca2c5d90e7b",
   "metadata": {},
   "outputs": [
    {
     "name": "stdout",
     "output_type": "stream",
     "text": [
      "character1 address: 140358189491024, character2 address: 140358094916336\n",
      "character: monster, health: 80\n",
      "character: troll, health: 60\n",
      "weapon1 address: 140358088643712, weapon2 address: 140358189514288\n",
      "weapon: canon, health: 0.6\n",
      "weapon: arch, health: 0.3\n"
     ]
    }
   ],
   "source": [
    "# create a weapon object\n",
    "weapon1 = Weapon(\"canon\", 0.6)\n",
    "\n",
    "# instantiate prototype\n",
    "registry = PrototypeRegistry()\n",
    "\n",
    "# register all clonable objects\n",
    "registry.register(\"character\", character1)\n",
    "registry.register(\"weapon\", weapon1)\n",
    "\n",
    "# clone\n",
    "character2 = registry.clone(\"character\", name=\"troll\", health=60)\n",
    "weapon2 = registry.clone(\"weapon\", type=\"arch\", power=0.3)\n",
    "\n",
    "print(f\"character1 address: {id(character1)}, character2 address: {id(character2)}\")\n",
    "print(character1)\n",
    "print(character2)\n",
    "\n",
    "print(f\"weapon1 address: {id(weapon1)}, weapon2 address: {id(weapon2)}\")\n",
    "print(weapon1)\n",
    "print(weapon2)"
   ]
  },
  {
   "cell_type": "markdown",
   "id": "360cd2d5-2220-4708-8c7d-c305acb9691e",
   "metadata": {},
   "source": [
    "## A Concrete Example: board game\n",
    "\n",
    "Inspired by https://en.wikipedia.org/wiki/Prototype_pattern"
   ]
  },
  {
   "cell_type": "code",
   "execution_count": 241,
   "id": "e631a696-fe1c-44b1-ab61-4b383f507f2d",
   "metadata": {},
   "outputs": [],
   "source": [
    "from enum import Enum\n",
    "import numpy as np\n",
    "from abc import abstractmethod\n",
    "\n",
    "class GameObject(object):\n",
    "    \"\"\"\n",
    "    Interface for game objects.\n",
    "    \"\"\"\n",
    "    @abstractmethod\n",
    "    def enter(self):\n",
    "        raise NotImplementedError\n",
    "    @abstractmethod\n",
    "    def clone(self):\n",
    "        return copy.deepcopy(self)\n",
    "        \n",
    "class Board(GameObject):\n",
    "    \"\"\"\n",
    "    Board configuration for the game, where we draw game objects.\n",
    "    \"\"\"\n",
    "    class Color(Enum):\n",
    "        blank = 0\n",
    "        red = 1\n",
    "        green = 2\n",
    "        blue = 3\n",
    "        black = 4\n",
    "        white = 5\n",
    "    color_map = {0: [0, 0, 0], 1: [255, 0, 0], 2: [0, 255, 0], 3: [0, 0, 255], 4: [0, 0, 0], 5: [255, 255, 255]}\n",
    "    def __init__(self, width, height):\n",
    "        self.width = width\n",
    "        self.height = height\n",
    "        self.plan = np.zeros((height, width))\n",
    "    def clone(self):\n",
    "        return copy.deepcopy(self)\n",
    "    def set_color(self, start:list, end:list, color):\n",
    "        self.plan[start[0]:end[0], start[1]:end[1]] = color.value\n",
    "    def draw(self):\n",
    "        image = np.ones((self.height, self.width, 3))\n",
    "        for c in self.Color:\n",
    "            image[self.plan==c.value] = self.color_map[c.value]\n",
    "        return image\n",
    "\n",
    "class Wall(GameObject):\n",
    "    \"\"\"\n",
    "    Wall\n",
    "    \"\"\"\n",
    "    color = Board.Color.red\n",
    "    def __init__(self, position, width, length, orientation:str):\n",
    "        self.position = position\n",
    "        self.width = width\n",
    "        self.length = length\n",
    "        self.orientation = orientation\n",
    "    def draw(self, board):\n",
    "        if self.orientation == \"vertical\":\n",
    "            end = [self.position[0]+self.length, self.position[1]+self.width]\n",
    "        elif self.orientation == \"horizontal\":\n",
    "            end = [self.position[1]+self.width, self.position[0]+self.length]\n",
    "        board.set_color(self.position, end, self.color)\n",
    "\n",
    "class Hole(GameObject):\n",
    "    \"\"\"\n",
    "    Hole is a square\n",
    "    \"\"\"\n",
    "    color = Board.Color.white\n",
    "    def __init__(self, position, size):\n",
    "        self.position = position\n",
    "        self.size = size\n",
    "    def draw(self, board):\n",
    "        end = [self.position[0]+self.size, self.position[1]+self.size]\n",
    "        board.set_color(self.position, end, self.color)\n",
    "\n",
    "class Room(GameObject):\n",
    "    \"\"\"\n",
    "    Room is a hollow square\n",
    "    \"\"\"\n",
    "    color = Board.Color.blue\n",
    "    blank = Board.Color.blank\n",
    "    def __init__(self, position, scale=1.0):\n",
    "        self.position = position\n",
    "        self.scale = scale\n",
    "    def draw(self, board):\n",
    "        end_ext = [p+item*self.scale for p, item in zip(self.position, [10, 10])]\n",
    "        position_int = [p+item*self.scale for p, item in zip(self.position, [2, 2])]\n",
    "        end_int = [p+item*self.scale for p, item in zip(position_int, [6, 6])]\n",
    "        board.set_color(self.position, end_ext, self.color)\n",
    "        board.set_color(position_int, end_int, self.blank)"
   ]
  },
  {
   "cell_type": "code",
   "execution_count": 242,
   "id": "c3b18ed0-2fc4-4f4c-a728-f0b5055a0655",
   "metadata": {},
   "outputs": [],
   "source": [
    "class PlanFactory:\n",
    "    \"\"\"\n",
    "    legacy factory\n",
    "    \"\"\"\n",
    "    @abstractmethod\n",
    "    def create_board(self, w, h):\n",
    "        return Board(w, h)\n",
    "    @abstractmethod\n",
    "    def create_wall(self, pos, w, h, orientation):\n",
    "        return Wall(pos, w, h, orientation)\n",
    "    @abstractmethod\n",
    "    def create_hole(self, pos, size):\n",
    "        return Hole(pos, size)\n",
    "    @abstractmethod\n",
    "    def create_room(self, pos, scale):\n",
    "        return Room(pos, scale)"
   ]
  },
  {
   "cell_type": "code",
   "execution_count": 243,
   "id": "dfbf30d9-9a80-454b-976a-0df706f95963",
   "metadata": {},
   "outputs": [],
   "source": [
    "class PlanPrototypeFactory(PlanFactory):\n",
    "    \"\"\"\n",
    "    Prototype factory\n",
    "    \"\"\"\n",
    "    @staticmethod\n",
    "    def  create_board(w=100, h=100):\n",
    "        return Board(w, h).clone()\n",
    "    @staticmethod\n",
    "    def create_wall(pos=[0,0], w=10, l=10, orientation=\"horizontal\"):\n",
    "        return Wall(pos, w, l, orientation).clone()\n",
    "    @staticmethod\n",
    "    def create_hole(pos=[0,0], size=10):\n",
    "        return Hole(pos, size).clone()\n",
    "    @staticmethod\n",
    "    def create_room(pos=[0,0],scale=1):\n",
    "        return Room(pos, scale).clone()"
   ]
  },
  {
   "cell_type": "code",
   "execution_count": 244,
   "id": "a818a275-cd39-4f84-98cd-15f325213228",
   "metadata": {},
   "outputs": [],
   "source": [
    "import matplotlib.pyplot as plt\n",
    "\n",
    "class Game:\n",
    "    def __init__(self):\n",
    "        self.objects = []\n",
    "        self.make_board()\n",
    "\n",
    "    def make_board(self):\n",
    "        # we use the prototype factory to create objects\n",
    "        self.plan = PlanPrototypeFactory.create_board(600, 400)\n",
    "        \n",
    "        wall_1 = PlanPrototypeFactory.create_wall()\n",
    "        wall_1.position = [20, 20]\n",
    "        wall_1.width = 10\n",
    "        wall_1.length = 200\n",
    "        self.objects.append(wall_1)\n",
    "        wall_2 = PlanPrototypeFactory.create_wall()\n",
    "        wall_2.position = [100, 200]\n",
    "        wall_2.width = 20\n",
    "        wall_2.length = 100\n",
    "        wall_2.orientation = \"vertical\"\n",
    "        self.objects.append(wall_2)\n",
    "        hole_1 = PlanPrototypeFactory.create_hole()\n",
    "        hole_1.position = [150, 100]\n",
    "        hole_1.size = 100\n",
    "        self.objects.append(hole_1)\n",
    "        hole_2 = PlanPrototypeFactory.create_hole()\n",
    "        hole_2.position = [50, 200]\n",
    "        hole_2.size = 80\n",
    "        self.objects.append(hole_2)\n",
    "        room = PlanPrototypeFactory.create_room()\n",
    "        room.position = [300, 400]\n",
    "        room.scale = 10\n",
    "        self.objects.append(room)\n",
    "\n",
    "    def render(self):\n",
    "        for obj in self.objects:\n",
    "            obj.draw(self.plan)\n",
    "        image = self.plan.draw()\n",
    "        plt.imshow(image)"
   ]
  },
  {
   "cell_type": "code",
   "execution_count": 245,
   "id": "6c05680b-4140-4d02-9ec7-4af8cf260d78",
   "metadata": {},
   "outputs": [
    {
     "name": "stderr",
     "output_type": "stream",
     "text": [
      "Clipping input data to the valid range for imshow with RGB data ([0..1] for floats or [0..255] for integers). Got range [0.0..255.0].\n"
     ]
    },
    {
     "data": {
      "image/png": "[encoded data removed]",
      "text/plain": [
       "<Figure size 640x480 with 1 Axes>"
      ]
     },
     "metadata": {},
     "output_type": "display_data"
    }
   ],
   "source": [
    "game = Game()\n",
    "game.render()"
   ]
  }
 ],
 "metadata": {
  "kernelspec": {
   "display_name": "Python 3 (ipykernel)",
   "language": "python",
   "name": "python3"
  },
  "language_info": {
   "codemirror_mode": {
    "name": "ipython",
    "version": 3
   },
   "file_extension": ".py",
   "mimetype": "text/x-python",
   "name": "python",
   "nbconvert_exporter": "python",
   "pygments_lexer": "ipython3",
   "version": "3.13.0"
  }
 },
 "nbformat": 4,
 "nbformat_minor": 5
}
