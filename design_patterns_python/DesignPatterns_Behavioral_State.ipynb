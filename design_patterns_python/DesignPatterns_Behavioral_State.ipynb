{
 "cells": [
  {
   "cell_type": "markdown",
   "id": "9728f2d1-4374-4ceb-9bd4-3a86eee013c9",
   "metadata": {},
   "source": [
    "# State\n",
    "\n",
    "State can be changed; the only thing that the jury is out on is who triggers the state change.\n",
    "There are, fundamentally, two ways:\n",
    " - States are actual classes with behaviors, and these behaviors switch the actual state from one to another.\n",
    " - States and transitions are just enumerations. We have a special component called a state machine that\n",
    "performs the actual transitions."
   ]
  },
  {
   "cell_type": "markdown",
   "id": "63fabf86-e0b7-4975-95e2-115c72567428",
   "metadata": {},
   "source": [
    "## state-driven transition"
   ]
  },
  {
   "cell_type": "code",
   "execution_count": 2,
   "id": "9ddd5b76-4ba8-4d89-b089-e1804f3bc44b",
   "metadata": {},
   "outputs": [],
   "source": [
    "# trigger\n",
    "\n",
    "class LightSwitch:\n",
    "    def __init__(self):\n",
    "        self.state = OffState()\n",
    "    def set_state(self, state):\n",
    "        self.state = state\n",
    "    def on(self):\n",
    "        self.state.on(self)\n",
    "    def off(self):\n",
    "        self.state.off(self)"
   ]
  },
  {
   "cell_type": "code",
   "execution_count": 3,
   "id": "6c6de460-f865-494b-bd0f-c8d6c5183ed1",
   "metadata": {},
   "outputs": [],
   "source": [
    "# state class\n",
    "\n",
    "class State:\n",
    "    def on(self, switch: LightSwitch):\n",
    "        print(\"Light is already on\")\n",
    "    def off(self, switch: LightSwitch):\n",
    "        print(\"Light is already off\")\n",
    "\n",
    "class OnState(State):\n",
    "    def __init__(self):\n",
    "        print(\"Light turned on\")\n",
    "    def off(self, switch):\n",
    "        print(\"Switching Light off...\")\n",
    "        switch.set_state(OffState())\n",
    "        del self\n",
    "\n",
    "class OffState(State):\n",
    "    def __init__(self):\n",
    "        print(\"Light turned off\")\n",
    "    def on(self, switch):\n",
    "        print(\"Switching Light on...\")\n",
    "        switch.set_state(OnState())\n",
    "        del self"
   ]
  },
  {
   "cell_type": "code",
   "execution_count": 4,
   "id": "9284121f-e816-4474-8e4e-4a45d004f4fc",
   "metadata": {},
   "outputs": [
    {
     "name": "stdout",
     "output_type": "stream",
     "text": [
      "Light turned off\n",
      "Switching Light on...\n",
      "Light turned on\n",
      "Switching Light off...\n",
      "Light turned off\n",
      "Light is already off\n"
     ]
    }
   ],
   "source": [
    "ls = LightSwitch()\n",
    "ls.on()\n",
    "ls.off()\n",
    "ls.off()"
   ]
  },
  {
   "cell_type": "markdown",
   "id": "dc9c12b8-3c75-4406-9b4c-d98744d001a8",
   "metadata": {},
   "source": [
    "## Event-driven Transition\n",
    "\n",
    "The trigger of the state change is user controlled."
   ]
  },
  {
   "cell_type": "code",
   "execution_count": 7,
   "id": "262ff3a5-4e4b-4e72-b22e-0ef8ec0b3339",
   "metadata": {},
   "outputs": [],
   "source": [
    "import sys\n",
    "  \n",
    "class States(object):\n",
    "    def __init__(self):\n",
    "        self.done = False\n",
    "        self.next = None\n",
    "        self.quit = False\n",
    "        self.previous = None\n",
    "  \n",
    "class Menu(States):\n",
    "    def __init__(self):\n",
    "        States.__init__(self)\n",
    "        self.next = 'game'\n",
    "    def cleanup(self):\n",
    "        print('cleaning up Menu state stuff')\n",
    "    def startup(self):\n",
    "        print('starting Menu state stuff')\n",
    "    def get_event(self, event):\n",
    "        # if event.type == pg.KEYDOWN:\n",
    "        #     print('Menu State keydown')\n",
    "        # elif event.type == pg.MOUSEBUTTONDOWN:\n",
    "        #     self.done = True\n",
    "        # dummy event\n",
    "        self.done = True\n",
    "    def update(self, screen, dt):\n",
    "        self.draw(screen)\n",
    "    def draw(self, screen):\n",
    "        print(\"draw menu\")\n",
    "  \n",
    "class Gameplay(States):\n",
    "    def __init__(self):\n",
    "        States.__init__(self)\n",
    "        self.next = 'menu'\n",
    "    def cleanup(self):\n",
    "        print('cleaning up Game state stuff')\n",
    "    def startup(self):\n",
    "        print('starting Game state stuff')\n",
    "    def get_event(self, event):\n",
    "        # if event.type == pg.KEYDOWN:\n",
    "        #     print('Game State keydown')\n",
    "        # elif event.type == pg.MOUSEBUTTONDOWN:\n",
    "        #     self.done = True\n",
    "        # dummy event\n",
    "        self.done = True\n",
    "    def update(self, screen, dt):\n",
    "        self.draw(screen)\n",
    "    def draw(self, screen):\n",
    "        print(\"draw gameplay\")\n",
    "  \n",
    "class Game:\n",
    "    def __init__(self, **settings):\n",
    "        self.__dict__.update(settings)\n",
    "        self.done = False\n",
    "    def setup_states(self, state_dict, start_state):\n",
    "        self.state_dict = state_dict\n",
    "        self.state_name = start_state\n",
    "        self.state = self.state_dict[self.state_name]\n",
    "        self.screen = None\n",
    "    def flip_state(self):\n",
    "        self.state.done = False\n",
    "        previous,self.state_name = self.state_name, self.state.next\n",
    "        self.state.cleanup()\n",
    "        self.state = self.state_dict[self.state_name]\n",
    "        self.state.startup()\n",
    "        self.state.previous = previous\n",
    "    def update(self, dt):\n",
    "        if self.state.quit:\n",
    "            self.done = True\n",
    "        elif self.state.done:\n",
    "            self.flip_state()\n",
    "        self.state.update(self.screen, dt)\n",
    "    def event_loop(self):\n",
    "        # for event in pg.event.get():\n",
    "        #     if event.type == pg.QUIT:\n",
    "        #         self.done = True\n",
    "        #     self.state.get_event(event)\n",
    "        # dummy event\n",
    "        event = None\n",
    "        self.state.get_event(event)\n",
    "    def main_game_loop(self):\n",
    "        i = 0\n",
    "        while not self.done and i < 5:\n",
    "            i += 1\n",
    "            self.event_loop()\n",
    "            self.update(0.001)\n",
    "            "
   ]
  },
  {
   "cell_type": "code",
   "execution_count": 8,
   "id": "c4788fa5-bce6-4bee-97ed-cb70b52b117d",
   "metadata": {},
   "outputs": [
    {
     "name": "stdout",
     "output_type": "stream",
     "text": [
      "cleaning up Menu state stuff\n",
      "starting Game state stuff\n",
      "draw gameplay\n",
      "cleaning up Game state stuff\n",
      "starting Menu state stuff\n",
      "draw menu\n",
      "cleaning up Menu state stuff\n",
      "starting Game state stuff\n",
      "draw gameplay\n",
      "cleaning up Game state stuff\n",
      "starting Menu state stuff\n",
      "draw menu\n",
      "cleaning up Menu state stuff\n",
      "starting Game state stuff\n",
      "draw gameplay\n"
     ]
    }
   ],
   "source": [
    "settings = {\n",
    "    'size':(600,400),\n",
    "    'fps' :60\n",
    "}\n",
    "state_dict = {\n",
    "    'menu': Menu(),\n",
    "    'game': Gameplay()\n",
    "}\n",
    "  \n",
    "game = Game(**settings)\n",
    "\n",
    "game.setup_states(state_dict, 'menu')\n",
    "game.main_game_loop()"
   ]
  },
  {
   "cell_type": "markdown",
   "id": "3ca95955-9c5a-481f-8546-7583594d4bba",
   "metadata": {},
   "source": [
    "## Manual State Machine"
   ]
  },
  {
   "cell_type": "code",
   "execution_count": 4,
   "id": "3a346a49-67ee-4c31-aaa4-04f4ffd9fcd2",
   "metadata": {},
   "outputs": [],
   "source": [
    "from enum import Enum, auto\n",
    "\n",
    "class State(Enum):\n",
    "    OFF_HOOK = auto()\n",
    "    CONNECTING = auto()\n",
    "    CONNECTED = auto()\n",
    "    ON_HOLD = auto()\n",
    "    ON_HOOK = auto()\n",
    "\n",
    "class Trigger(Enum):\n",
    "    CALL_DIALED = auto()\n",
    "    HUNG_UP = auto()\n",
    "    CALL_CONNECTED = auto()\n",
    "    PLACED_ON_HOLD = auto()\n",
    "    TAKEN_OFF_HOLD = auto()\n",
    "    LEFT_MESSAGE = auto()"
   ]
  },
  {
   "cell_type": "code",
   "execution_count": 22,
   "id": "8ecafde1-cfa6-4e69-ac0a-9cd2a02c9f1b",
   "metadata": {},
   "outputs": [
    {
     "name": "stdout",
     "output_type": "stream",
     "text": [
      "Currently on State.CONNECTING\n",
      "0: Trigger.HUNG_UP\n",
      "1: Trigger.CALL_CONNECTED\n",
      "choose trigger: 1\n",
      "Currently on State.CONNECTED\n",
      "0: Trigger.HUNG_UP\n",
      "1: Trigger.LEFT_MESSAGE\n",
      "2: Trigger.PLACED_ON_HOLD\n",
      "choose trigger: 1\n",
      "Currently on State.ON_HOOK\n",
      "0: Trigger.HUNG_UP\n",
      "choose trigger: 0\n",
      "ended\n"
     ]
    }
   ],
   "source": [
    "from random import randint\n",
    "\n",
    "rules = {\n",
    "    State.OFF_HOOK: [(Trigger.CALL_DIALED, State.CONNECTING)],\n",
    "    State.CONNECTING: [(Trigger.HUNG_UP, State.OFF_HOOK), (Trigger.CALL_CONNECTED, State.CONNECTED)],\n",
    "    State.CONNECTED: [(Trigger.HUNG_UP, State.OFF_HOOK), (Trigger.LEFT_MESSAGE, State.ON_HOOK), (Trigger.PLACED_ON_HOLD, State.ON_HOLD)],\n",
    "    State.ON_HOLD: [(Trigger.HUNG_UP, State.OFF_HOOK), (Trigger.TAKEN_OFF_HOLD, State.CONNECTED)],\n",
    "    State.ON_HOOK: [(Trigger.HUNG_UP, State.OFF_HOOK)]\n",
    "}\n",
    "\n",
    "print_trigger_state = lambda s: [print(f\"{i}: {item[0]}\") for i, item in enumerate(rules[s])]\n",
    "\n",
    "state = State.CONNECTING\n",
    "end_state = State.OFF_HOOK\n",
    "\n",
    "while state != end_state:\n",
    "    print(f\"Currently on {state}\")\n",
    "    print_trigger_state(state)\n",
    "\n",
    "    choice = randint(0, len(rules[state])-1)\n",
    "    print(f\"choose trigger: {choice}\")\n",
    "    state = rules[state][choice][1]\n",
    "\n",
    "print(\"ended\")"
   ]
  },
  {
   "cell_type": "markdown",
   "id": "d07a4018-1c54-485f-bfa0-e856358f3992",
   "metadata": {},
   "source": [
    "## Use Library"
   ]
  },
  {
   "cell_type": "code",
   "execution_count": 36,
   "id": "4440a764-2a86-45d4-be96-93da8ccbc31f",
   "metadata": {},
   "outputs": [],
   "source": [
    "# use pysm: https://pysm.readthedocs.io/en/latest/\n",
    "\n",
    "from pysm import State, StateMachine, Event\n",
    "\n",
    "on = State('on')\n",
    "off = State('off')\n",
    "\n",
    "sm = StateMachine('sm')\n",
    "sm.add_state(on, initial=True)\n",
    "sm.add_state(off)\n",
    "\n",
    "sm.add_transition(on, off, events=['off'])\n",
    "sm.add_transition(off, on, events=['on'])\n",
    "\n",
    "sm.initialize()\n",
    "\n",
    "def test():\n",
    "    print(sm.state)\n",
    "    sm.dispatch(Event('off'))\n",
    "    print(sm.state)\n",
    "    sm.dispatch(Event('on'))\n",
    "    print(sm.state)\n",
    "    sm.dispatch(Event('on'))\n",
    "    print(sm.state)"
   ]
  },
  {
   "cell_type": "code",
   "execution_count": 37,
   "id": "373a554b-4951-406f-aec9-3265d2ad5803",
   "metadata": {},
   "outputs": [
    {
     "name": "stdout",
     "output_type": "stream",
     "text": [
      "<State on (0x7fb9c9c43200)>\n",
      "<State off (0x7fb9c9c432f0)>\n",
      "<State on (0x7fb9c9c43200)>\n",
      "<State on (0x7fb9c9c43200)>\n"
     ]
    }
   ],
   "source": [
    "test()"
   ]
  }
 ],
 "metadata": {
  "kernelspec": {
   "display_name": "Python 3 (ipykernel)",
   "language": "python",
   "name": "python3"
  },
  "language_info": {
   "codemirror_mode": {
    "name": "ipython",
    "version": 3
   },
   "file_extension": ".py",
   "mimetype": "text/x-python",
   "name": "python",
   "nbconvert_exporter": "python",
   "pygments_lexer": "ipython3",
   "version": "3.13.0"
  }
 },
 "nbformat": 4,
 "nbformat_minor": 5
}
