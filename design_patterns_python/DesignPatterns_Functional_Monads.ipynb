{
 "cells": [
  {
   "cell_type": "markdown",
   "id": "cd3bdda4-a795-4429-b384-9a4e97bf21ef",
   "metadata": {},
   "source": [
    "# Monads"
   ]
  },
  {
   "cell_type": "markdown",
   "id": "5614417f-38eb-4d17-8b3e-ab9066433d86",
   "metadata": {},
   "source": [
    "## functor"
   ]
  },
  {
   "cell_type": "code",
   "execution_count": 4,
   "id": "a3f14697-b6f7-4e09-bb5f-7fdfbd4e51a0",
   "metadata": {},
   "outputs": [],
   "source": [
    "# functor class\n",
    "\n",
    "from typing import Generic, Callable, TypeVar\n",
    "T = TypeVar('T')  # Define type variable \"T\"\n",
    "U = TypeVar('U')  # Define type variable \"T\"\n",
    "\n",
    "class Functor(Generic[T]):\n",
    "    def __init__(self, value:T):\n",
    "        self.value = value\n",
    "\n",
    "    def wrap(self, f: Callable[[T], U])-> \"Functor[U]\":\n",
    "        return Functor(f(self.value))"
   ]
  },
  {
   "cell_type": "code",
   "execution_count": 5,
   "id": "276868f0-33e5-459d-a887-2c0c13e7364d",
   "metadata": {},
   "outputs": [
    {
     "name": "stdout",
     "output_type": "stream",
     "text": [
      "5\n"
     ]
    }
   ],
   "source": [
    "def add(a: int) -> int:\n",
    "    def inner(b: int) -> int:\n",
    "        return a + b\n",
    "    return inner\n",
    "\n",
    "def square(c: int) -> int:\n",
    "    return c * c\n",
    "\n",
    "print(add(2)(3))"
   ]
  },
  {
   "cell_type": "code",
   "execution_count": 6,
   "id": "4a3c0502-6e9c-4b40-9a62-d22b9c91e46b",
   "metadata": {},
   "outputs": [
    {
     "data": {
      "text/plain": [
       "25"
      ]
     },
     "execution_count": 6,
     "metadata": {},
     "output_type": "execute_result"
    }
   ],
   "source": [
    "functor = Functor(2)\n",
    "res = functor.wrap(add(3)).wrap(square).value\n",
    "res"
   ]
  },
  {
   "cell_type": "markdown",
   "id": "996f96b1-be62-4a21-9536-281963ba27d4",
   "metadata": {},
   "source": [
    "## Maybe Monad\n",
    "\n",
    "It is used to process value before it is used to do the final opertions. The process can be checking(eg. for None), processing like for strings, or for exception handlings. , concretely, it controls the values passed to the function."
   ]
  },
  {
   "cell_type": "code",
   "execution_count": 52,
   "id": "6be39cb5-76f2-4185-8b8b-e2802cbb4f7c",
   "metadata": {},
   "outputs": [],
   "source": [
    "class Maybe(Generic[T]):\n",
    "    def __init__(self, value:T|None):\n",
    "        self.value = value\n",
    "\n",
    "    def wrap(self, f: Callable[[T], U])-> \"Maybe[U]\":\n",
    "        if self.value is None:\n",
    "            return self\n",
    "        return Maybe(f(self.value))"
   ]
  },
  {
   "cell_type": "code",
   "execution_count": 56,
   "id": "2c05a1b0-e1ee-4e5a-9cac-0b9e455a448f",
   "metadata": {},
   "outputs": [
    {
     "name": "stdout",
     "output_type": "stream",
     "text": [
      "None\n"
     ]
    }
   ],
   "source": [
    "maybe = Maybe(None)\n",
    "res = maybe.wrap(add(3)).wrap(square).value\n",
    "print(res)"
   ]
  },
  {
   "cell_type": "markdown",
   "id": "b16a5159-e0a4-4fcd-9edd-48555f7398c1",
   "metadata": {},
   "source": [
    "https://arjancodes.com/blog/python-functors-and-monads/"
   ]
  }
 ],
 "metadata": {
  "kernelspec": {
   "display_name": "Python 3 (ipykernel)",
   "language": "python",
   "name": "python3"
  },
  "language_info": {
   "codemirror_mode": {
    "name": "ipython",
    "version": 3
   },
   "file_extension": ".py",
   "mimetype": "text/x-python",
   "name": "python",
   "nbconvert_exporter": "python",
   "pygments_lexer": "ipython3",
   "version": "3.13.0"
  }
 },
 "nbformat": 4,
 "nbformat_minor": 5
}
