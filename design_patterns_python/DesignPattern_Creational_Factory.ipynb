{
 "cells": [
  {
   "cell_type": "markdown",
   "id": "2a3a1732-c102-4874-bc32-ce3221bd0cf4",
   "metadata": {},
   "source": [
    "# Factory"
   ]
  },
  {
   "cell_type": "markdown",
   "id": "92099a27-8061-4527-8a68-5f081ed1248f",
   "metadata": {},
   "source": [
    "It allow to create objects in a uniformed manner without considering the detail of their implementations details.\n",
    "It is used normally:\n",
    " - when you cannot track the objects created by your application because the code that creates them is in many different places instead of a single function."
   ]
  },
  {
   "cell_type": "markdown",
   "id": "8889903a-a055-442b-af1d-80bba9c25c69",
   "metadata": {},
   "source": [
    "The main components:\n",
    " - Products: The products classes from what we want to create objects.\n",
    " - Creator: It declares the Factory Method, which is essentially a method for creating objects.\n"
   ]
  },
  {
   "cell_type": "markdown",
   "id": "b051331b-97b5-48f5-8785-e8ebfd317ac2",
   "metadata": {},
   "source": [
    "## Factory Method\n",
    "\n",
    "This is used when the products are based on the same classes. So the factory can be used to create object according to certain conditions (example 1) or operations (example 2)."
   ]
  },
  {
   "cell_type": "code",
   "execution_count": 21,
   "id": "3a01e8ce-1551-430b-825d-4acd351cf00c",
   "metadata": {},
   "outputs": [],
   "source": [
    "# example 1\n",
    "class Character:\n",
    "    def __init__(self, name, attack, health):\n",
    "        self.name = name\n",
    "        self.attack = attack\n",
    "        self.health = health\n",
    "\n",
    "class CharacterFacotry:\n",
    "    @staticmethod\n",
    "    def create_player(name, attack, health):\n",
    "        return Character(name, attack, health)\n",
    "    @staticmethod\n",
    "    def create_weapon(name, attack):\n",
    "        return Character(\"weapon_\"+name, attack, 0)\n",
    "    @staticmethod\n",
    "    def create_npc(name):\n",
    "        return Character(\"npc_\"+name, 0, 0)"
   ]
  },
  {
   "cell_type": "code",
   "execution_count": 22,
   "id": "4b3fc766-c927-4845-95b5-1218a8eaeb8a",
   "metadata": {},
   "outputs": [],
   "source": [
    "player = CharacterFacotry.create_player(\"ninja\", 100, 100)\n",
    "weapon = CharacterFacotry.create_weapon(\"knife\", 80)\n",
    "cat = CharacterFacotry.create_npc(\"cat\")"
   ]
  },
  {
   "cell_type": "code",
   "execution_count": 3,
   "id": "af1ce3bd-1bd1-493e-9a70-2d2ef95804e1",
   "metadata": {},
   "outputs": [],
   "source": [
    "# example 2\n",
    "from math import *\n",
    "class Point:\n",
    "    def __init__(self, x, y):\n",
    "        self.x = x\n",
    "        self.y = y\n",
    "\n",
    "class PointFactory:\n",
    "    @staticmethod\n",
    "    def create_cartesian(x, y):\n",
    "        return Point(x, y)\n",
    "    @staticmethod\n",
    "    def create_polar(r, theta):\n",
    "        return Point(r*cos(theta), r*sin(theta))"
   ]
  },
  {
   "cell_type": "code",
   "execution_count": 4,
   "id": "0cff27c4-dabd-4992-89e5-9d2a873b3558",
   "metadata": {},
   "outputs": [],
   "source": [
    "p1 = PointFactory.create_cartesian(3, 8)\n",
    "p2 = PointFactory.create_polar(4, 1.2)"
   ]
  },
  {
   "cell_type": "markdown",
   "id": "0443123d-a953-43a4-a152-177cf4a117dd",
   "metadata": {},
   "source": [
    "## Inner Factory\n",
    "\n",
    "The advantage of this is the factory class has access to the product class's attributes."
   ]
  },
  {
   "cell_type": "code",
   "execution_count": 6,
   "id": "bf944d42-0017-4b77-86fc-8973c598f90d",
   "metadata": {},
   "outputs": [],
   "source": [
    "class Character:\n",
    "    def __init__(self, name, attack, health):\n",
    "        self.name = name\n",
    "        self.attack = attack\n",
    "        self.health = health\n",
    "        self.factory = self.CharacterFacotry\n",
    "\n",
    "    class CharacterFacotry:\n",
    "        @staticmethod\n",
    "        def create_player(name, attack, health):\n",
    "            return Character(name, attack, health)\n",
    "        @staticmethod\n",
    "        def create_weapon(name, attack):\n",
    "            return Character(\"weapon_\"+name, attack, 0)\n",
    "        @staticmethod\n",
    "        def create_npc(name):\n",
    "            return Character(\"npc_\"+name, 0, 0)"
   ]
  },
  {
   "cell_type": "code",
   "execution_count": 7,
   "id": "70504533-f700-4e78-a040-0778170b3104",
   "metadata": {},
   "outputs": [],
   "source": [
    "player = Character.CharacterFacotry.create_player(\"ninja\", 100, 100)\n",
    "weapon = Character.CharacterFacotry.create_weapon(\"knife\", 80)\n",
    "cat = Character.CharacterFacotry.create_npc(\"cat\")"
   ]
  },
  {
   "cell_type": "markdown",
   "id": "c21623c0-4076-4c8b-a3df-020e58cd08c8",
   "metadata": {},
   "source": [
    "## Factory\n",
    "\n",
    "This is a more common example where we use factory where there are several product classes."
   ]
  },
  {
   "cell_type": "code",
   "execution_count": 19,
   "id": "9628c533-a439-46e9-bc1b-be48bddeac9c",
   "metadata": {},
   "outputs": [],
   "source": [
    "import abc\n",
    "\n",
    "# product classes\n",
    "class Character(abc.ABC):\n",
    "    def __init__(self, name):\n",
    "        self.name = name\n",
    "\n",
    "    @abc.abstractmethod\n",
    "    def show_info(self):\n",
    "        raise NotImplementedError\n",
    "\n",
    "class Player(Character):\n",
    "    def __init__(self, name):\n",
    "        super().__init__(name)\n",
    "        \n",
    "    def show_info(self):\n",
    "        print(f\"created player: {self.name}\")\n",
    "\n",
    "class Enemy(Character):\n",
    "    def __init__(self, name):\n",
    "        super().__init__(name)\n",
    "\n",
    "    def show_info(self):\n",
    "        print(f\"created enemy: {self.name}\")\n",
    "\n",
    "class Passerby(Character):\n",
    "    def __init__(self, name):\n",
    "        super().__init__(name)\n",
    "\n",
    "    def show_info(self):\n",
    "        print(f\"created passby: {self.name}\")\n",
    "\n",
    "# factory class\n",
    "class CharacterFactory:\n",
    "    @staticmethod\n",
    "    def get_character(ctype=None):\n",
    "        if ctype is None:\n",
    "            return None\n",
    "        elif ctype == \"player\":\n",
    "            return Player\n",
    "        elif ctype == \"ennemy\":\n",
    "            return Ennemy\n",
    "        elif ctype == \"passerby\":\n",
    "            return Passerby\n",
    "        else:\n",
    "            return None"
   ]
  },
  {
   "cell_type": "code",
   "execution_count": 20,
   "id": "987c636c-a505-4097-944b-1f4525f58cfc",
   "metadata": {},
   "outputs": [
    {
     "name": "stdout",
     "output_type": "stream",
     "text": [
      "created player: ninja\n"
     ]
    }
   ],
   "source": [
    "player = CharacterFactory.get_character(\"player\")\n",
    "player = player(\"ninja\")\n",
    "player.show_info()"
   ]
  },
  {
   "cell_type": "markdown",
   "id": "4153df1e-401f-411a-ac1d-84ea0af1131e",
   "metadata": {},
   "source": [
    "# Using a Registry\n",
    "\n",
    "In cases where product classes are all over the places, it is more secure to use a registry to record the product classes than using if statements like above. \n",
    "This way is more scalable and safer when we add other classes."
   ]
  },
  {
   "cell_type": "code",
   "execution_count": 2,
   "id": "7d5bede0-4f98-4cda-b413-c6a217cedc78",
   "metadata": {},
   "outputs": [],
   "source": [
    "class Registry:\n",
    "    REGISTRY = {}\n",
    "    \n",
    "    @classmethod\n",
    "    def register_character(self, type_name):\n",
    "        def wrapper(cls):\n",
    "            self.REGISTRY[type_name] = cls\n",
    "            return cls\n",
    "        return wrapper\n",
    "\n",
    "    @classmethod\n",
    "    def get_character(self, type_name):\n",
    "        return self.REGISTRY[type_name]\n",
    "        \n",
    "@Registry.register_character(\"player\")\n",
    "class Player(Character):\n",
    "    def __init__(self, name):\n",
    "        super().__init__(name)\n",
    "    def show_info(self):\n",
    "        print(f\"created player: {self.name}\")\n",
    "        \n",
    "@Registry.register_character(\"ennemy\")\n",
    "class Ennemy(Character):\n",
    "    def __init__(self, name):\n",
    "        super().__init__(name)\n",
    "    def show_info(self):\n",
    "        print(f\"created ennemy: {self.name}\")\n",
    "        \n",
    "@Registry.register_character(\"passerby\")\n",
    "class Passerby(Character):\n",
    "    def __init__(self, name):\n",
    "        super().__init__(name)\n",
    "    def show_info(self):\n",
    "        print(f\"created passerby: {self.name}\")"
   ]
  },
  {
   "cell_type": "code",
   "execution_count": 36,
   "id": "85aad3fa-1155-4ef8-89ff-3505ec00462a",
   "metadata": {},
   "outputs": [
    {
     "name": "stdout",
     "output_type": "stream",
     "text": [
      "created player: ninja\n",
      "created ennemy: bat\n",
      "created passerby: cat\n"
     ]
    }
   ],
   "source": [
    "player = Registry.get_character(\"player\")\n",
    "player = player(\"ninja\")\n",
    "player.show_info()\n",
    "\n",
    "ennemy = Registry.get_character(\"ennemy\")\n",
    "ennemy = ennemy(\"bat\")\n",
    "ennemy.show_info()\n",
    "\n",
    "passerby = Registry.get_character(\"passerby\")\n",
    "passerby = passerby(\"cat\")\n",
    "passerby.show_info()"
   ]
  },
  {
   "cell_type": "markdown",
   "id": "9f141540-f70d-4089-9416-b6521912c9ec",
   "metadata": {},
   "source": [
    "# Abstract Factory"
   ]
  },
  {
   "cell_type": "code",
   "execution_count": 31,
   "id": "4a0ef273-b63b-4ead-9dd3-fc91b825d117",
   "metadata": {},
   "outputs": [],
   "source": [
    "class EntityRegistry:\n",
    "    REGISTRY = {}\n",
    "    \n",
    "    @classmethod\n",
    "    def register_entity(self, type_name):\n",
    "        def wrapper(cls):\n",
    "            self.REGISTRY[type_name] = cls\n",
    "            return cls\n",
    "        return wrapper\n",
    "\n",
    "    @classmethod\n",
    "    def get_entity(self, type_name):\n",
    "        return self.REGISTRY[type_name]"
   ]
  },
  {
   "cell_type": "code",
   "execution_count": 43,
   "id": "365e3674-dbff-4e49-866c-7774637e6148",
   "metadata": {},
   "outputs": [],
   "source": [
    "# example of a game engine\n",
    "\n",
    "import abc\n",
    "\n",
    "class Object(abc.ABC):\n",
    "    \"\"\"\n",
    "    Entities to be displayed in game.\n",
    "    \"\"\"\n",
    "    pass\n",
    "\n",
    "\n",
    "class Character(Object):\n",
    "    \"\"\"\n",
    "    Entities being part of the game AI.\n",
    "    \"\"\"\n",
    "    @abc.abstractmethod\n",
    "    def draw(self):\n",
    "        pass\n",
    "\n",
    "@EntityRegistry.register_entity(\"player\")\n",
    "class Player(Character):\n",
    "    def __init__(self, name):\n",
    "        self.name = name\n",
    "        self.characteristic = {\"health\": 100, \"attack\": 100, \"intelligence\": 100}\n",
    "        self.texture = {\"run\": \"run_text\", \"jump\": \"jump_tex\", \"walk\": \"walk_tex\"}\n",
    "        self.position = (0, 0)\n",
    "    def prepare(self):\n",
    "        print(f\"Init player {self.name} -> set characteristics -> load texture\")\n",
    "    def draw(self):\n",
    "        print(f\"draw player {self.name}\")\n",
    "\n",
    "@EntityRegistry.register_entity(\"enemy\")\n",
    "class Enemy(Character):\n",
    "    def __init__(self, name):\n",
    "        self.name = name\n",
    "        self.characteristic = {\"health\": 100, \"attack\": 100, \"intelligence\": 40}\n",
    "        self.texture = {\"run\": \"run_text\", \"jump\": \"jump_tex\", \"walk\": \"walk_tex\"}\n",
    "        self.position = (0, 0)\n",
    "    def prepare(self):\n",
    "        print(f\"Init Enemy {self.name} -> set characteristics -> load texture -> set AI\")\n",
    "    def draw(self):\n",
    "        print(f\"draw Enemy {self.name}\")\n",
    "\n",
    "@EntityRegistry.register_entity(\"npc\")\n",
    "class NPC(Character):\n",
    "    def __init__(self, name):\n",
    "        self.name = name\n",
    "        self.texture = {\"run\": \"run_text\", \"jump\": \"jump_tex\", \"walk\": \"walk_tex\"}\n",
    "        self.position = (0, 0)\n",
    "    def prepare(self):\n",
    "        print(f\"Init NPC {self.name} -> load texture\")\n",
    "    def draw(self):\n",
    "        print(f\"draw NPC {self.name}\")\n",
    "\n",
    "class SceneObject(Object):\n",
    "    \"\"\"\n",
    "    Static entities for scene.\n",
    "    \"\"\"\n",
    "    @abc.abstractmethod\n",
    "    def draw(self):\n",
    "        pass\n",
    "\n",
    "@EntityRegistry.register_entity(\"tile\")\n",
    "class tiles(SceneObject):\n",
    "    def __init__(self):\n",
    "        self.tileinfo = {\"tilenum\": 0, \"tilefile\": \"path_to_tilefile\"}\n",
    "        self.position = (0, 0)\n",
    "    def prepare(self):\n",
    "        print(f\"Init tile num {self.tileinfo[\"tilenum\"]} -> load texture\")\n",
    "    def draw(self):\n",
    "        print(f\"draw tile {self.tileinfo[\"tilenum\"]}\")\n",
    "\n",
    "@EntityRegistry.register_entity(\"background\")\n",
    "class BackgroundObject(Object):\n",
    "    \"\"\"\n",
    "    Background of the scene.\n",
    "    \"\"\"\n",
    "    def prepare(self):\n",
    "        print(f\"Init background image -> load image\")\n",
    "    def draw(self):\n",
    "        pass"
   ]
  },
  {
   "cell_type": "code",
   "execution_count": 45,
   "id": "cf22bbc3-185f-4580-9052-eadf76c8f3eb",
   "metadata": {},
   "outputs": [],
   "source": [
    "# The Abstract Factory\n",
    "class GameElementFactory:\n",
    "    def make_characters(self): pass\n",
    "    def make_scene(self): pass\n",
    "    def make_background(self): pass\n",
    "\n",
    "# concrete factory\n",
    "class Level1Factory(GameElementFactory):\n",
    "    def make_characters(self):\n",
    "        self.player = EntityRegistry.get_entity(\"player\")(\"ninja\")\n",
    "        self.player.prepare()\n",
    "        self.player.draw()\n",
    "        self.enemy = EntityRegistry.get_entity(\"enemy\")(\"monster\")\n",
    "        self.enemy.prepare()\n",
    "        self.enemy.draw()\n",
    "        self.npc = EntityRegistry.get_entity(\"npc\")(\"cat\")\n",
    "        self.npc.prepare()\n",
    "        self.npc.draw()\n",
    "    def make_scene(self): \n",
    "        self.tile0 = EntityRegistry.get_entity(\"tile\")()\n",
    "        self.tile0.prepare()\n",
    "        self.tile0.draw()\n",
    "    def make_background(self): \n",
    "        self.bg0 = EntityRegistry.get_entity(\"background\")()\n",
    "        self.bg0.prepare()\n",
    "        self.bg0.draw()\n",
    "\n",
    "class Level2Factory(GameElementFactory):\n",
    "    def make_characters(self):\n",
    "        self.player = EntityRegistry.get_entity(\"player\")(\"mario\")\n",
    "        self.player.prepare()\n",
    "        self.player.draw()\n",
    "        self.enemy = EntityRegistry.get_entity(\"enemy\")(\"frog\")\n",
    "        self.enemy.prepare()\n",
    "        self.enemy.draw()\n",
    "    def make_scene(self): \n",
    "        self.tile0 = EntityRegistry.get_entity(\"tile\")()\n",
    "        self.tile0.prepare()\n",
    "        self.tile0.draw()\n",
    "    def make_background(self): \n",
    "        self.bg0 = EntityRegistry.get_entity(\"background\")()\n",
    "        self.bg0.prepare()\n",
    "        self.bg0.draw()\n",
    "\n",
    "class Game:\n",
    "    def __init__(self, factory):\n",
    "        self.factory = factory\n",
    "        player = factory.make_characters()\n",
    "        enemy = factory.make_scene()\n",
    "        npc = factory.make_background()\n",
    "    def play(self):\n",
    "        print(\"Game start.\")"
   ]
  },
  {
   "cell_type": "code",
   "execution_count": 46,
   "id": "77612f0b-a900-44e0-a874-f6cb57a550bf",
   "metadata": {},
   "outputs": [
    {
     "name": "stdout",
     "output_type": "stream",
     "text": [
      "Init player ninja -> set characteristics -> load texture\n",
      "draw player ninja\n",
      "Init Enemy monster -> set characteristics -> load texture -> set AI\n",
      "draw Enemy monster\n",
      "Init NPC cat -> load texture\n",
      "draw NPC cat\n",
      "Init tile num 0 -> load texture\n",
      "draw tile 0\n",
      "Init background image -> load image\n",
      "Init player mario -> set characteristics -> load texture\n",
      "draw player mario\n",
      "Init Enemy frog -> set characteristics -> load texture -> set AI\n",
      "draw Enemy frog\n",
      "Init tile num 0 -> load texture\n",
      "draw tile 0\n",
      "Init background image -> load image\n"
     ]
    }
   ],
   "source": [
    "level1 = Game(Level1Factory())\n",
    "level2 = Game(Level2Factory())"
   ]
  },
  {
   "cell_type": "markdown",
   "id": "20454b67-7a78-4e76-946b-a90f2058ccea",
   "metadata": {},
   "source": [
    "## ref\n",
    "https://python-3-patterns-idioms-test.readthedocs.io/en/latest/Factory.html"
   ]
  }
 ],
 "metadata": {
  "kernelspec": {
   "display_name": "Python 3 (ipykernel)",
   "language": "python",
   "name": "python3"
  },
  "language_info": {
   "codemirror_mode": {
    "name": "ipython",
    "version": 3
   },
   "file_extension": ".py",
   "mimetype": "text/x-python",
   "name": "python",
   "nbconvert_exporter": "python",
   "pygments_lexer": "ipython3",
   "version": "3.13.0"
  }
 },
 "nbformat": 4,
 "nbformat_minor": 5
}
