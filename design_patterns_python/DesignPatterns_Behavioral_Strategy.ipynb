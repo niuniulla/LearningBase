{
 "cells": [
  {
   "cell_type": "markdown",
   "id": "57595cc9-5107-4585-894c-03c75e51ffcf",
   "metadata": {},
   "source": [
    "# Strategy"
   ]
  },
  {
   "cell_type": "markdown",
   "id": "4b9c08c8-df14-40a2-b27b-2b70e3d46c2b",
   "metadata": {},
   "source": [
    "It turns a set of behaviors into objects and makes them interchangeable inside original context object.\n",
    "\n",
    "The main parts are:\n",
    " - Context: The context class maintains a reference to the selected strategy. It allows clients to switch between different strategies by setting the appropriate strategy.\n",
    " - Strategy: The Strategy interface (or abstract class) declares a method or set of methods that define the algorithm to be used.\n",
    " - Concrete Strategies: The concrete strategy classes implement the Strategy interface and provide specific implementations of the algorithms."
   ]
  },
  {
   "cell_type": "markdown",
   "id": "573504c3-5591-44af-93e0-f58012448d13",
   "metadata": {},
   "source": [
    "## Dynamic Strategy"
   ]
  },
  {
   "cell_type": "code",
   "execution_count": 1,
   "id": "fc3886af-a352-45e9-ba81-35f4d49f605d",
   "metadata": {},
   "outputs": [],
   "source": [
    "from io import StringIO\n",
    "from enum import Enum\n",
    "\n",
    "# context\n",
    "\n",
    "class TextProcessor:\n",
    "    class OutputFormat(Enum):\n",
    "        Markdown = 1, \n",
    "        Html = 2\n",
    "        \n",
    "    def __init__(self, file_format):\n",
    "        self.oss = StringIO()\n",
    "        if file_format == self.OutputFormat.Markdown:\n",
    "            self.list_strategy = MarkdownListStrategy()\n",
    "        elif file_format == self.OutputFormat.Html:\n",
    "            self.list_strategy = HtmlListStrategy()\n",
    "        \n",
    "    def append_list(self, items):\n",
    "        self.list_strategy.start(self.oss)\n",
    "        for item in items:\n",
    "            self.list_strategy.add_list_item(self.oss, item)\n",
    "        self.list_strategy.end(self.oss)\n",
    "\n",
    "    def __str__(self):\n",
    "        return f\"{self.oss.getvalue()}\"\n",
    "\n",
    "    def set_output_format(self, form):\n",
    "        self.oss = StringIO()\n",
    "        if form == self.OutputFormat.Markdown:\n",
    "            self.list_strategy = MarkdownListStrategy()\n",
    "        elif form == self.OutputFormat.Html:\n",
    "            self.list_strategy = HtmlListStrategy()"
   ]
  },
  {
   "cell_type": "code",
   "execution_count": 2,
   "id": "d5393826-128b-4d90-8c0d-ad09c94cad5b",
   "metadata": {},
   "outputs": [],
   "source": [
    "# strategy\n",
    "class ListStrategy:\n",
    "\n",
    "    def start(self, stream):\n",
    "        pass\n",
    "\n",
    "    def add_list_item(self, stream, string):\n",
    "        pass\n",
    "\n",
    "    def end(self, stream):\n",
    "        pass\n",
    "\n",
    "# concrete strategies\n",
    "class HtmlListStrategy(ListStrategy):\n",
    "    def start(self, stream):\n",
    "        stream.write(\"<ul>\\n\")\n",
    "    def end(self, stream):\n",
    "        stream.write(\"</ul>\\n\")\n",
    "    def add_list_item(self, stream, item:str):\n",
    "        stream.write(\"<li>\")\n",
    "        stream.write(item)\n",
    "        stream.write(\"</li>\\n\")\n",
    "\n",
    "class MarkdownListStrategy(ListStrategy):\n",
    "    def add_list_item(self, stream, item:str):\n",
    "        stream.write(\"* \")\n",
    "        stream.write(item)\n",
    "        stream.write(\"\\n\")"
   ]
  },
  {
   "cell_type": "code",
   "execution_count": 3,
   "id": "d53b8c56-40a8-4cd3-b0e3-cc090693121d",
   "metadata": {},
   "outputs": [
    {
     "name": "stdout",
     "output_type": "stream",
     "text": [
      "* foo\n",
      "* bar\n",
      "* baz\n",
      "\n",
      "<ul>\n",
      "<li>foo</li>\n",
      "<li>bar</li>\n",
      "<li>baz</li>\n",
      "</ul>\n",
      "\n"
     ]
    }
   ],
   "source": [
    "# usage\n",
    "\n",
    "tp = TextProcessor(TextProcessor.OutputFormat.Markdown)\n",
    "tp.append_list([\"foo\", \"bar\", \"baz\"])\n",
    "print(tp)\n",
    "\n",
    "tp.set_output_format(TextProcessor.OutputFormat.Html)\n",
    "tp.append_list([\"foo\", \"bar\", \"baz\"])\n",
    "print(tp)"
   ]
  },
  {
   "cell_type": "markdown",
   "id": "963c7afd-b29a-4036-9b06-fd0e7d7796b2",
   "metadata": {},
   "source": [
    "## static strategy"
   ]
  },
  {
   "cell_type": "code",
   "execution_count": 6,
   "id": "b330fb63-e7b4-4f3f-bd10-a216f5f4c226",
   "metadata": {},
   "outputs": [],
   "source": [
    "class TextProcessor:\n",
    "    def __init__(self, strategy):\n",
    "        self.oss = StringIO()\n",
    "        self.list_strategy = strategy\n",
    "        \n",
    "    def append_list(self, items):\n",
    "        self.list_strategy.start(self.oss)\n",
    "        for item in items:\n",
    "            self.list_strategy.add_list_item(self.oss, item)\n",
    "        self.list_strategy.end(self.oss)\n",
    "\n",
    "    def __str__(self):\n",
    "        return f\"{self.oss.getvalue()}\""
   ]
  },
  {
   "cell_type": "code",
   "execution_count": 8,
   "id": "b05152c5-149f-4b1c-81d0-3744b2c7fb9f",
   "metadata": {},
   "outputs": [
    {
     "name": "stdout",
     "output_type": "stream",
     "text": [
      "* foo\n",
      "* bar\n",
      "* baz\n",
      "\n",
      "<ul>\n",
      "<li>foo</li>\n",
      "<li>bar</li>\n",
      "<li>baz</li>\n",
      "</ul>\n",
      "\n"
     ]
    }
   ],
   "source": [
    "markdown = MarkdownListStrategy()\n",
    "html = HtmlListStrategy()\n",
    "\n",
    "tp = TextProcessor(markdown)\n",
    "tp.append_list([\"foo\", \"bar\", \"baz\"])\n",
    "print(tp)\n",
    "\n",
    "tp = TextProcessor(html)\n",
    "tp.append_list([\"foo\", \"bar\", \"baz\"])\n",
    "print(tp)"
   ]
  }
 ],
 "metadata": {
  "kernelspec": {
   "display_name": "Python 3 (ipykernel)",
   "language": "python",
   "name": "python3"
  },
  "language_info": {
   "codemirror_mode": {
    "name": "ipython",
    "version": 3
   },
   "file_extension": ".py",
   "mimetype": "text/x-python",
   "name": "python",
   "nbconvert_exporter": "python",
   "pygments_lexer": "ipython3",
   "version": "3.13.0"
  }
 },
 "nbformat": 4,
 "nbformat_minor": 5
}
