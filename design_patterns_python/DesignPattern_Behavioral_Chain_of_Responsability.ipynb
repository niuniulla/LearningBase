{
 "cells": [
  {
   "cell_type": "markdown",
   "id": "69698734-0448-4710-8c7b-af55e1323df8",
   "metadata": {},
   "source": [
    "# chain of responsibility"
   ]
  },
  {
   "cell_type": "markdown",
   "id": "23871b87-ac37-4ef9-82ba-447fb0e86f28",
   "metadata": {},
   "source": [
    "## Pointer Chain"
   ]
  },
  {
   "cell_type": "code",
   "execution_count": 2,
   "id": "4d9bb2b4-0834-4cbb-a544-a75a8924809b",
   "metadata": {},
   "outputs": [],
   "source": [
    "# imagine we have a character like in the game\n",
    "# This charater will go through a series of modifications\n",
    "\n",
    "from dataclasses import dataclass\n",
    "\n",
    "@dataclass\n",
    "class Player:\n",
    "    name: str\n",
    "    health: int = 100\n",
    "    power: int = 100\n",
    "\n",
    "    def __str__(self):\n",
    "        return f\"Player {self.name} has health {self.health} and power {self.power}\""
   ]
  },
  {
   "cell_type": "code",
   "execution_count": 1,
   "id": "3ce9331d-5242-4fe8-9d6c-a0e1d061e69d",
   "metadata": {},
   "outputs": [],
   "source": [
    "# root modifier\n",
    "\n",
    "from abc import abstractmethod\n",
    "\n",
    "class PlayerModifier:\n",
    "    \n",
    "    _next = None\n",
    "\n",
    "    def __init__(self, player):\n",
    "        self.player = player\n",
    "\n",
    "    def add(self, modifier):\n",
    "        if self._next is not None:\n",
    "            self._next.add(modifier)\n",
    "        else:\n",
    "            self._next = modifier\n",
    "        return self._next\n",
    "\n",
    "    @abstractmethod\n",
    "    def modify(self):\n",
    "        if self._next is not None:\n",
    "            self._next.modify()"
   ]
  },
  {
   "cell_type": "code",
   "execution_count": 27,
   "id": "1dc1c579-72d9-4c32-90f9-41d63b4854ed",
   "metadata": {},
   "outputs": [],
   "source": [
    "# concret modifiers\n",
    "\n",
    "class HealthPotion(PlayerModifier):\n",
    "    def modify(self):\n",
    "        self.player.health += 10\n",
    "        super().modify()\n",
    "\n",
    "class DoubleAttack(PlayerModifier):\n",
    "    def modify(self):\n",
    "        self.player.power *= 2\n",
    "        super().modify()\n",
    "\n",
    "class FallTrap(PlayerModifier):\n",
    "    def modify(self):\n",
    "        self.player.health -= 20\n",
    "        super().modify()"
   ]
  },
  {
   "cell_type": "code",
   "execution_count": 28,
   "id": "ba929095-c770-453f-9c97-6bff083efa5e",
   "metadata": {},
   "outputs": [
    {
     "name": "stdout",
     "output_type": "stream",
     "text": [
      "<super: <class 'HealthPotion'>, <HealthPotion object>>\n",
      "Player ninja has health 90 and power 200\n"
     ]
    }
   ],
   "source": [
    "# usage\n",
    "\n",
    "player = Player(\"ninja\")\n",
    "\n",
    "playermodifier = PlayerModifier(player)\n",
    "\n",
    "healthpotion = HealthPotion(player)\n",
    "doubleattack = DoubleAttack(player)\n",
    "falltrap = FallTrap(player)\n",
    "\n",
    "playermodifier.add(healthpotion).add(doubleattack).add(falltrap)\n",
    "\n",
    "playermodifier.modify()\n",
    "\n",
    "print(player)"
   ]
  },
  {
   "cell_type": "markdown",
   "id": "d83b6ce5-3225-4784-8e62-ff1664f9ba05",
   "metadata": {},
   "source": [
    "## Broker Chain"
   ]
  },
  {
   "cell_type": "markdown",
   "id": "d89ca2a7-ee99-4585-9923-953c303bfed0",
   "metadata": {},
   "source": [
    "The aforementioned structure is very artificial and can't really be used in reality since rarely the scenerio happens in a prefixed order."
   ]
  },
  {
   "cell_type": "code",
   "execution_count": 72,
   "id": "de4bdb69-1def-49e1-8ddc-a71403996e3e",
   "metadata": {},
   "outputs": [],
   "source": [
    "import abc\n",
    "\n",
    "# event broker (observer)\n",
    "# this part can be remplaced by a dedicated library\n",
    "\n",
    "class Event(list):\n",
    "    def __call__(self, *args, **kwargs):\n",
    "        for item in self:\n",
    "            item(*args, **kwargs)\n",
    "\n",
    "class What2Query(Enum):\n",
    "    Attack = 1\n",
    "    Heal = 2"
   ]
  },
  {
   "cell_type": "code",
   "execution_count": 93,
   "id": "9631a222-0340-42f2-8f57-c1a8d50a515d",
   "metadata": {},
   "outputs": [],
   "source": [
    "# query and query handler\n",
    "\n",
    "@dataclass\n",
    "class Query:\n",
    "    creature_name: str\n",
    "    what_to_query: What2Query\n",
    "    value: int\n",
    "    \n",
    "class Game:\n",
    "    def __init__(self):\n",
    "        self.queries = Event()\n",
    "        \n",
    "    def perform_query(self, query):\n",
    "        self.queries(query)"
   ]
  },
  {
   "cell_type": "code",
   "execution_count": 94,
   "id": "43b01078-ae90-4fdb-a830-cf6823c4b8b5",
   "metadata": {},
   "outputs": [],
   "source": [
    "# component implemenation\n",
    "\n",
    "class Player:\n",
    "    def __init__(self, game, name, health, power):\n",
    "        self.game = game\n",
    "        self.name = name\n",
    "        self.health = health\n",
    "        self.power = power\n",
    "        \n",
    "    @property\n",
    "    def heal(self):\n",
    "        q = Query(self.name, What2Query.Heal, self.health)\n",
    "        self.game.perform_query(q)\n",
    "        return q.value\n",
    "\n",
    "    @property\n",
    "    def attack(self):\n",
    "        q = Query(self.name, What2Query.Attack, self.power)\n",
    "        self.game.perform_query(q)\n",
    "        return q.value\n",
    "\n",
    "    def __str__(self):\n",
    "        return f\"{self.name}: {self.heal} / {self.attack}\""
   ]
  },
  {
   "cell_type": "code",
   "execution_count": 95,
   "id": "e86dc292-11dd-474c-9903-8bf14b551078",
   "metadata": {},
   "outputs": [],
   "source": [
    "# modifiers\n",
    "\n",
    "class PlayerModifier(abc.ABC):\n",
    "    def __init__(self, game, player):\n",
    "        self.game = game \n",
    "        self.player = player\n",
    "        self.game.queries.append(self.handle)\n",
    "\n",
    "    def handle(self, query):\n",
    "        pass\n",
    "\n",
    "class HealthPotion(PlayerModifier):\n",
    "    def handle(self, query):\n",
    "        if query.what_to_query == What2Query.Heal:\n",
    "            query.value += 10\n",
    "        \n",
    "class DoubleAttack(PlayerModifier):\n",
    "    def handle(self, query):\n",
    "        if query.what_to_query == What2Query.Attack:\n",
    "            query.value *= 2"
   ]
  },
  {
   "cell_type": "code",
   "execution_count": 96,
   "id": "5f1a663c-3ef5-44fe-9324-bb65b421d04f",
   "metadata": {},
   "outputs": [
    {
     "name": "stdout",
     "output_type": "stream",
     "text": [
      "ninja: 100 / 100\n",
      "ninja: 110 / 200\n"
     ]
    }
   ],
   "source": [
    "# sample usage\n",
    "\n",
    "game = Game()\n",
    "player = Player(game, \"ninja\", 100, 100)\n",
    "print(player)\n",
    "HealthPotion(game, player)\n",
    "DoubleAttack(game, player)\n",
    "print(player)"
   ]
  }
 ],
 "metadata": {
  "kernelspec": {
   "display_name": "Python 3 (ipykernel)",
   "language": "python",
   "name": "python3"
  },
  "language_info": {
   "codemirror_mode": {
    "name": "ipython",
    "version": 3
   },
   "file_extension": ".py",
   "mimetype": "text/x-python",
   "name": "python",
   "nbconvert_exporter": "python",
   "pygments_lexer": "ipython3",
   "version": "3.13.0"
  }
 },
 "nbformat": 4,
 "nbformat_minor": 5
}
