{
 "cells": [
  {
   "cell_type": "markdown",
   "id": "2623f76b-c4a9-44f5-bf44-723c29c84c47",
   "metadata": {},
   "source": [
    "# Observer\n",
    "\n",
    "It deals with One-to-Many relationships and utilizes events to let subscribed entities know about changes in an observable.\n",
    "A subject and observer(many) exist in a one-to-many relationship. Here the observers do not have any access to data, so they are dependent on the subject to feed them with information."
   ]
  },
  {
   "cell_type": "markdown",
   "id": "0e2f4102-03eb-4f65-afc9-035f16375ad6",
   "metadata": {},
   "source": [
    "## structure"
   ]
  },
  {
   "cell_type": "code",
   "execution_count": 163,
   "id": "c91bbd5d-ba52-4dbe-8991-b14555d87c38",
   "metadata": {},
   "outputs": [],
   "source": [
    "# observable\n",
    "\n",
    "id = 0\n",
    "\n",
    "class Observable:\n",
    "    def __init__(self):\n",
    "        self.observers = []\n",
    "    def notify(self, obj, attrib):\n",
    "        for observer in self.observers:\n",
    "            observer.attrib_changed(obj, attrib)\n",
    "    def subscribe(self, observer):\n",
    "        if observer not in self.observers:\n",
    "            self.observers.append(observer)\n",
    "    def unsubscribe(self, observer):\n",
    "        if observer in self.observers:\n",
    "            self.observers.remove(observer)\n",
    "        \n",
    "\n",
    "class Person(Observable):\n",
    "    def __init__(self, name, age):\n",
    "        super().__init__()\n",
    "        global id \n",
    "        id += 1\n",
    "        self._id = id\n",
    "        self._name = name\n",
    "        self._age = age\n",
    "    \n",
    "    @property\n",
    "    def name(self):\n",
    "        return self._name\n",
    "\n",
    "    @name.setter\n",
    "    def name(self, name):\n",
    "        if self._name == name:\n",
    "            return\n",
    "        else:\n",
    "            self._name = name\n",
    "            self.notify(self, \"name\")\n",
    "            \n",
    "    @property\n",
    "    def age(self):\n",
    "        return self._age\n",
    "\n",
    "    @age.setter\n",
    "    def age(self, age):\n",
    "        if self._age == age:\n",
    "            return\n",
    "        else:\n",
    "            self._age = age\n",
    "            self.notify(self, \"age\")\n",
    "    @property\n",
    "    def id(self):\n",
    "        return self._id"
   ]
  },
  {
   "cell_type": "code",
   "execution_count": 168,
   "id": "ebdd159c-2da1-4e23-894d-c1a6c1960a3b",
   "metadata": {},
   "outputs": [],
   "source": [
    "# observer\n",
    "\n",
    "class Observer:\n",
    "    @abstractmethod\n",
    "    def attrib_changed(self, obj, attrib):\n",
    "        pass\n",
    "\n",
    "class ConsolePersonObserver(Observer):\n",
    "    def attrib_changed(self, obj, attrib):\n",
    "        if hasattr(obj, attrib):\n",
    "            if not ismethod(getattr(obj, attrib)):\n",
    "                print(f\"Person:{obj.id} has changed {attrib} to {getattr(obj, attrib)}\")\n",
    "            else:\n",
    "                print(f\"person:{obj.id} has changed {attrib} to {eval(\"o.\"+attrib+\"()\", globals(), {\"o\":obj})}\")"
   ]
  },
  {
   "cell_type": "code",
   "execution_count": 165,
   "id": "9c38321f-7493-4954-991f-5e100dc6b68a",
   "metadata": {},
   "outputs": [
    {
     "name": "stdout",
     "output_type": "stream",
     "text": [
      "Person:1 has changed name to lisa\n",
      "Person:1 has changed age to 34\n"
     ]
    }
   ],
   "source": [
    "# connect observers and observables\n",
    "\n",
    "p = Person(\"John\", 45)\n",
    "ob = ConsolePersonObserver()\n",
    "p.subscribe(ob)\n",
    "p.name = \"lisa\"\n",
    "p.age = 34"
   ]
  },
  {
   "cell_type": "markdown",
   "id": "64fea390-8238-4b0a-9649-0eea8be8df84",
   "metadata": {},
   "source": [
    "## dependency\n",
    "\n",
    "In cases where there are property dependencies, we have to track manually the dependencies."
   ]
  },
  {
   "cell_type": "code",
   "execution_count": 166,
   "id": "afef1fce-ab2c-450e-a694-576f3c45c5fc",
   "metadata": {},
   "outputs": [],
   "source": [
    "# class with dependencies\n",
    "\n",
    "class CivicPerson(Person):\n",
    "    def __init__(self, name, age, children):\n",
    "        super().__init__(name, age)\n",
    "        self._children = children\n",
    "        self.dependencies = {}\n",
    "        self.dependencies[\"age\"] = [\"can_vote\", \"can_drive\"]\n",
    "        self.dependencies[\"children\"] = [\"have_welfare\"]\n",
    "\n",
    "    def can_vote(self):\n",
    "        return self.age > 18\n",
    "\n",
    "    def can_drive(self):\n",
    "        return self.age > 16\n",
    "\n",
    "    def have_welfare(self):\n",
    "        return self.children > 0\n",
    "        \n",
    "    @property\n",
    "    def age(self):\n",
    "        return self._age\n",
    "        \n",
    "    @age.setter\n",
    "    def age(self, age):\n",
    "        if self._age == age:\n",
    "            return\n",
    "        else:\n",
    "            old_attr = [eval(\"self.\"+attr)() for attr in self.dependencies[\"age\"]]\n",
    "            self._age = age\n",
    "            self.notify(self, \"age\")\n",
    "            for i, attr in enumerate(self.dependencies[\"age\"]):\n",
    "                if eval(\"self.\"+attr)() != old_attr[i]:\n",
    "                    self.notify(self, attr)\n",
    "\n",
    "    @property\n",
    "    def children(self):\n",
    "        return self._children\n",
    "\n",
    "    @children.setter\n",
    "    def children(self, children):\n",
    "        if self._children == children:\n",
    "            return\n",
    "        else:\n",
    "            old_attr = [eval(\"self.\"+attr)() for attr in self.dependencies[\"children\"]]\n",
    "            self._children = children\n",
    "            self.notify(self, \"children\")\n",
    "            for i, attr in enumerate(self.dependencies[\"children\"]):\n",
    "                if eval(\"self.\"+attr)() != old_attr[i]:\n",
    "                    self.notify(self, attr)\n",
    "            "
   ]
  },
  {
   "cell_type": "code",
   "execution_count": 169,
   "id": "c9a406aa-d842-4476-952c-5eb4996df6fe",
   "metadata": {},
   "outputs": [
    {
     "name": "stdout",
     "output_type": "stream",
     "text": [
      "Person:3 has changed name to lisa\n",
      "Person:3 has changed age to 34\n",
      "person:3 has changed can_vote to True\n",
      "person:3 has changed can_drive to True\n",
      "Person:3 has changed children to 1\n",
      "person:3 has changed have_welfare to True\n"
     ]
    }
   ],
   "source": [
    "p = CivicPerson(\"John\", 10, 0)\n",
    "ob = ConsolePersonObserver()\n",
    "p.subscribe(ob)\n",
    "p.name = \"lisa\"\n",
    "p.age = 34\n",
    "p.children = 1"
   ]
  },
  {
   "cell_type": "markdown",
   "id": "1cc96e02-4dd9-440e-a38c-d71de47a147a",
   "metadata": {},
   "source": [
    "## thread safety\n",
    "\n",
    "The list ifself is thread safe, which allows simultaneous read and write, but not safe for simultaneous add and remove. I am not clear on this, but there is nothing wrong to make it safer.\n",
    "If not safe, concurrent subscribe and unsubscribe can cause problem for observers list in the class Observable.\n",
    "In other language such c++, vector is definitly not thread safe."
   ]
  },
  {
   "cell_type": "code",
   "execution_count": null,
   "id": "34cea442-6d0e-4c50-a82d-3791a117f521",
   "metadata": {},
   "outputs": [],
   "source": [
    "# add mutex \n",
    "\n",
    "from threading import Lock\n",
    "\n",
    "mutex = Lock()\n",
    "\n",
    "def processData(data):\n",
    "    with mutex:\n",
    "        print('Do some stuff')\n",
    "\n",
    "class Observable:\n",
    "    def __init__(self):\n",
    "        self.observers = []\n",
    "    def notify(self, obj, attrib):\n",
    "        with mutex:\n",
    "            for observer in self.observers:\n",
    "                observer.attrib_changed(obj, attrib)\n",
    "    def subscribe(self, observer):\n",
    "        with mutex:\n",
    "            if observer not in self.observers:\n",
    "                self.observers.append(observer)\n",
    "    def unsubscribe(self, observer):\n",
    "        with mutex:\n",
    "            if observer in self.observers:\n",
    "                self.observers.remove(observer)"
   ]
  },
  {
   "cell_type": "markdown",
   "id": "a4a5d13c-9022-4910-a2dd-500a3d5240fe",
   "metadata": {},
   "source": [
    "## refs\n",
    "\n",
    "https://www.learnerlandmark.com/post/observer-vs-pub-sub-pattern"
   ]
  }
 ],
 "metadata": {
  "kernelspec": {
   "display_name": "Python 3 (ipykernel)",
   "language": "python",
   "name": "python3"
  },
  "language_info": {
   "codemirror_mode": {
    "name": "ipython",
    "version": 3
   },
   "file_extension": ".py",
   "mimetype": "text/x-python",
   "name": "python",
   "nbconvert_exporter": "python",
   "pygments_lexer": "ipython3",
   "version": "3.13.0"
  }
 },
 "nbformat": 4,
 "nbformat_minor": 5
}
