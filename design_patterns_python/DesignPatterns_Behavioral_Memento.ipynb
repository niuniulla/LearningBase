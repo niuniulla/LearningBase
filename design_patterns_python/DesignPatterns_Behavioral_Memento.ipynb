{
 "cells": [
  {
   "cell_type": "markdown",
   "id": "2608b4f4-7462-4a1f-9bd8-02371c85e4eb",
   "metadata": {},
   "source": [
    "# Memento"
   ]
  },
  {
   "cell_type": "markdown",
   "id": "9245fbec-53e1-47c3-839b-09d171223728",
   "metadata": {},
   "source": [
    "The Memento Design Pattern, a behavioral design pattern, specializes in capturing and storing an object’s state for future retrieval without compromising its functionality.\n",
    "\n",
    "The main parts:\n",
    "- Originator: Manages the object’s state, providing methods for its storage and retrieval.\n",
    "- Memento: A container capturing an object’s state, offering retrieval methods without external interference.\n",
    "- Caretaker: Safeguards Mementos without altering their content, storing them for future use.\n"
   ]
  },
  {
   "cell_type": "code",
   "execution_count": 2,
   "id": "37c11431-39b0-4e25-984c-636c62a24934",
   "metadata": {},
   "outputs": [],
   "source": [
    "# memento\n",
    "\n",
    "class Memento:\n",
    "    def __init__(self, balance, operation, amount):\n",
    "        self.balance = balance\n",
    "        self.operation = operation\n",
    "        self.amount = amount\n",
    "\n",
    "    def get_state(self):\n",
    "        return self.balance, self.operation, self.amount"
   ]
  },
  {
   "cell_type": "code",
   "execution_count": 3,
   "id": "e596b0ed-13d6-459b-b2bd-af09260ff4f4",
   "metadata": {},
   "outputs": [],
   "source": [
    "# originator\n",
    "\n",
    "class BankAccount:\n",
    "    def __init__(self, balance):\n",
    "        self.balance = balance\n",
    "        self.current = 0\n",
    "        self.changes = []\n",
    "        self.changes.append(BankAccount.create_memento((self.balance, \"open\", 0)))\n",
    "\n",
    "    @staticmethod\n",
    "    def create_memento(state):\n",
    "        return Memento(*state)\n",
    "    \n",
    "    def deposit(self, amount):\n",
    "        self.balance += amount\n",
    "        self.changes.append(BankAccount.create_memento((self.balance, \"deposit\", amount)))\n",
    "        self.current += 1\n",
    "\n",
    "    def withdraw(self, amount):\n",
    "        if self.balance - amount >= 0:\n",
    "            self.balance -= amount\n",
    "            self.changes.append(BankAccount.create_memento((self.balance, \"withdraw\", amount)))\n",
    "            self.current += 1\n",
    "        else:\n",
    "            raise ValueError(\"Not enough sold.\")\n",
    "        \n",
    "    def undo(self):\n",
    "        if self.current > 0:\n",
    "            self.current -= 1\n",
    "            self.balance, op, amount = self.changes[self.current].get_state()\n",
    "            print(f\"Op: {op} {amount}\")\n",
    "\n",
    "    def redo(self):\n",
    "        if self.current + 1 < len(self.changes):\n",
    "            self.current += 1\n",
    "            self.balance, op, amount  = self.changes[self.current].get_state()\n",
    "            print(f\"Op: {op} {amount}\")\n",
    "\n",
    "    def __str__(self):\n",
    "        return f\"The sold: {self.balance}\"\n",
    "        "
   ]
  },
  {
   "cell_type": "code",
   "execution_count": 4,
   "id": "e728e2b7-0c8c-4a85-bd05-1dd8c3610ee4",
   "metadata": {},
   "outputs": [
    {
     "name": "stdout",
     "output_type": "stream",
     "text": [
      "The sold: 400\n",
      "Op: deposit 400\n",
      "The sold: 700\n",
      "Op: deposit 200\n",
      "The sold: 300\n",
      "Op: deposit 400\n",
      "The sold: 700\n",
      "Op: withdraw 300\n",
      "The sold: 400\n"
     ]
    }
   ],
   "source": [
    "account = BankAccount(100)\n",
    "account.deposit(200)\n",
    "account.deposit(400)\n",
    "account.withdraw(300)\n",
    "print(account)\n",
    "\n",
    "account.undo()\n",
    "print(account)\n",
    "account.undo()\n",
    "print(account)\n",
    "account.redo()\n",
    "print(account)\n",
    "account.redo()\n",
    "print(account)"
   ]
  },
  {
   "cell_type": "markdown",
   "id": "d7aa663f-12cf-4fed-9082-fd1461921cfb",
   "metadata": {},
   "source": [
    "## with caretaker"
   ]
  },
  {
   "cell_type": "code",
   "execution_count": 19,
   "id": "a132dfd9-1cfb-44a8-88a4-cc50381a0d75",
   "metadata": {},
   "outputs": [],
   "source": [
    "class Memento:\n",
    "    def __init__(self, state):\n",
    "        self._state = state\n",
    "\n",
    "    def get_state(self):\n",
    "        return self._state\n",
    "\n",
    "# originator\n",
    "class TextEditor:\n",
    "    def __init__(self):\n",
    "        self._text = \"\"\n",
    "\n",
    "    def write(self, text):\n",
    "        self._text += text\n",
    "\n",
    "    def get_text(self):\n",
    "        return self._text\n",
    "\n",
    "    def create_memento(self):\n",
    "        return Memento(self._text)\n",
    "\n",
    "    def restore(self, memento):\n",
    "        self._text = memento.get_state()\n",
    "\n",
    "# caretaker\n",
    "class History:\n",
    "    def __init__(self):\n",
    "        self._history = []\n",
    "\n",
    "    def push(self, memento):\n",
    "        self._history.append(memento)\n",
    "\n",
    "    def pop(self):\n",
    "        if self._history:\n",
    "            return self._history.pop()"
   ]
  },
  {
   "cell_type": "code",
   "execution_count": 20,
   "id": "4f15a1a2-a3dc-4457-ad24-b9b5d2d90a0f",
   "metadata": {},
   "outputs": [
    {
     "name": "stdout",
     "output_type": "stream",
     "text": [
      "Current Text: Hello, world!\n",
      "Undo: Hello, world!\n",
      "Undo: Hello, \n"
     ]
    }
   ],
   "source": [
    "editor = TextEditor()\n",
    "history = History()\n",
    "\n",
    "editor.write(\"Hello, \")\n",
    "history.push(editor.create_memento())\n",
    "\n",
    "editor.write(\"world!\")\n",
    "history.push(editor.create_memento())\n",
    "\n",
    "print(\"Current Text:\", editor.get_text())\n",
    "\n",
    "editor.restore(history.pop())\n",
    "print(\"Undo:\", editor.get_text())\n",
    "\n",
    "editor.restore(history.pop())\n",
    "print(\"Undo:\", editor.get_text())"
   ]
  }
 ],
 "metadata": {
  "kernelspec": {
   "display_name": "Python 3 (ipykernel)",
   "language": "python",
   "name": "python3"
  },
  "language_info": {
   "codemirror_mode": {
    "name": "ipython",
    "version": 3
   },
   "file_extension": ".py",
   "mimetype": "text/x-python",
   "name": "python",
   "nbconvert_exporter": "python",
   "pygments_lexer": "ipython3",
   "version": "3.13.0"
  }
 },
 "nbformat": 4,
 "nbformat_minor": 5
}
