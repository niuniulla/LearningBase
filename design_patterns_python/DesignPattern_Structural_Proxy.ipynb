{
 "cells": [
  {
   "cell_type": "markdown",
   "id": "fae1d163-93eb-43a8-b525-c226bc5c205a",
   "metadata": {},
   "source": [
    "# Proxy"
   ]
  },
  {
   "cell_type": "markdown",
   "id": "15bf5b05-4b4e-4390-9de4-25077aa43194",
   "metadata": {},
   "source": [
    "It provides an interface to another object, acting as an intermediary or surrogate. It is used when we want to control access to an object, add some functionality before or after accessing it, or delay the creation of an object until it is actually needed.\n",
    "\n",
    "he main parts:\n",
    "\n",
    " - Proxy Interface: The Proxy Interface defines the methods that both the Real Subject and the Proxy must implement. This ensures that the Proxy is a true substitute for the Real Subject.\n",
    " - Real Subject: The Real Subject is the actual object that the Proxy represents. It implements the Proxy Interface and performs the real business logic.\n",
    " - Proxy: The Proxy is the intermediary between the client and the Real Subject. It also implements the Proxy Interface, but it doesn’t perform the core logic itself. Instead, it delegates the calls to the Real Subject, potentially adding additional functionality before or after the delegation."
   ]
  },
  {
   "cell_type": "markdown",
   "id": "8f0bee0a-e1b8-4d90-b33a-283b944ea0db",
   "metadata": {},
   "source": [
    "## Virtual Proxy\n",
    "\n",
    "A Virtual Proxy is all about deferring a resource-intensive object loading until explicitly required (lazy instantiation). It creates a placeholder for an expensive or resource-intensive object. This object is only instantiated when a client requests it. Until then, the proxy manages the access."
   ]
  },
  {
   "cell_type": "code",
   "execution_count": 2,
   "id": "2b9af513-6d32-4b2e-869b-b9a51c0e0c71",
   "metadata": {},
   "outputs": [],
   "source": [
    "# lagacy part\n",
    "# We suppose this can't be modified\n",
    "\n",
    "from abc import abstractmethod\n",
    "\n",
    "class Image:\n",
    "    @abstractmethod\n",
    "    def draw(self):\n",
    "        pass\n",
    "\n",
    "class Bitmap(Image):\n",
    "    def __init__(self, filename):\n",
    "        self.filename = filename\n",
    "        # load image from filename\n",
    "        print(f\"Loaded image {filename}\")\n",
    "\n",
    "    def draw(self):\n",
    "        # draw the loaded image\n",
    "        print(f\"Draw image {self.filename}\")"
   ]
  },
  {
   "cell_type": "code",
   "execution_count": 10,
   "id": "a9d97c8f-bd9d-49ac-b432-c8f09c3a77d1",
   "metadata": {},
   "outputs": [],
   "source": [
    "# for certain reasons such as :\n",
    "# - lazy instantiation: instantiate Bitmap only when drawing\n",
    "# - testing purpose where we don't want to load the actual image\n",
    "# we don't want to do the image loading when instantiating the Bitmap object.\n",
    "# So we can define a virtual class.\n",
    "\n",
    "class VirtualBitmap(Image):\n",
    "    \n",
    "    def __init__(self, filename):\n",
    "        self.filename = filename\n",
    "        self.bmp = None\n",
    "\n",
    "    def draw(self):\n",
    "        if self.bmp is None:\n",
    "            self.bmp = Bitmap(self.filename)\n",
    "        self.bmp.draw()"
   ]
  },
  {
   "cell_type": "code",
   "execution_count": 11,
   "id": "7586babd-08fa-4c3a-bb7a-bbcffe3a16c5",
   "metadata": {},
   "outputs": [
    {
     "name": "stdout",
     "output_type": "stream",
     "text": [
      "Loaded image myimage.bmp\n",
      "Draw image myimage.bmp\n"
     ]
    }
   ],
   "source": [
    "class Client:\n",
    "    @staticmethod\n",
    "    def draw_image(img:Image):\n",
    "        img.draw()\n",
    "\n",
    "bmp = VirtualBitmap(\"myimage.bmp\") # placeholder\n",
    "Client.draw_image(bmp) # actual loading"
   ]
  },
  {
   "cell_type": "markdown",
   "id": "6a0fb162-e0db-45d7-8e3b-63d5c01eb276",
   "metadata": {},
   "source": [
    "# Communication proxy\n",
    "\n",
    "Also called 'over the wire'. Relays communication with objects residing in different address spaces or on remote servers. The proxy handles communication details, such as network connections, serialization, and deserialization, while the client interacts with the proxy as if it were the real object."
   ]
  },
  {
   "cell_type": "code",
   "execution_count": 2,
   "id": "a6ba184a-4eae-4cb7-afe5-1fbef78c20f9",
   "metadata": {},
   "outputs": [],
   "source": [
    "# interface for both local and remote services\n",
    "\n",
    "from abc import abstractmethod\n",
    "\n",
    "class Service:\n",
    "    @abstractmethod\n",
    "    def request(self, msg):\n",
    "        raise NotImplementedError"
   ]
  },
  {
   "cell_type": "code",
   "execution_count": 14,
   "id": "f37b3030-06fd-4e12-8a6f-b4aab9a06567",
   "metadata": {},
   "outputs": [],
   "source": [
    "# remote service\n",
    "class RemoteService(Service):\n",
    "    def request(self, msg):\n",
    "        return \"received: \" + msg"
   ]
  },
  {
   "cell_type": "code",
   "execution_count": 15,
   "id": "f756da98-5a8a-4463-9b35-babb41708528",
   "metadata": {},
   "outputs": [],
   "source": [
    "# proxy service\n",
    "class ProxyService(Service):\n",
    "    def __init__(self, service):\n",
    "        self.service = service\n",
    "    def request(self, msg):\n",
    "        msg = \"sending \" + msg\n",
    "        response = self.service.request(msg)\n",
    "        response = \"remote \" + response\n",
    "        return response"
   ]
  },
  {
   "cell_type": "code",
   "execution_count": 16,
   "id": "2853af08-f568-47d0-b46f-10a7cbe683de",
   "metadata": {},
   "outputs": [
    {
     "data": {
      "text/plain": [
       "'remote received: sending Send a test'"
      ]
     },
     "execution_count": 16,
     "metadata": {},
     "output_type": "execute_result"
    }
   ],
   "source": [
    "rs = RemoteService()\n",
    "my_service = ProxyService(rs)\n",
    "my_service.request(\"Send a test\")"
   ]
  },
  {
   "cell_type": "markdown",
   "id": "df02f31d-1cbe-4fac-9ce1-4e5e9c3cf7bd",
   "metadata": {},
   "source": [
    "## Caching Proxy\n",
    "\n",
    "The use cases can be:\n",
    " - buffering: buffer recieved informations with lagged processing\n",
    " - caching: cache tasks for asychronesous processing\n",
    " - expaced sending: not to overfloat query server"
   ]
  },
  {
   "cell_type": "code",
   "execution_count": 16,
   "id": "2c6549fc-be04-4d31-ac52-2b24866a9384",
   "metadata": {},
   "outputs": [],
   "source": [
    "import time\n",
    "\n",
    "# Define the interface for the Real Subject\n",
    "class DatabaseQuery:\n",
    "    def execute_query(self, query):\n",
    "        pass\n",
    "\n",
    "# Real Subject: Represents the actual database\n",
    "class RealDatabaseQuery(DatabaseQuery):\n",
    "    def execute_query(self, query):\n",
    "        print(f\"Executing query: {query}\")\n",
    "        # Simulate a database query and return the results\n",
    "        return f\"Results for query: {query}\"\n",
    "\n",
    "# Proxy: Caching Proxy for Database Queries\n",
    "class CacheProxy(DatabaseQuery):\n",
    "    def __init__(self, real_database_query, cache_duration_seconds):\n",
    "        self._real_database_query = real_database_query\n",
    "        self._cache = {}\n",
    "        self._cache_duration = cache_duration_seconds\n",
    "\n",
    "    def execute_query(self, query):\n",
    "        if query in self._cache and time.time() - self._cache[query][\"timestamp\"] <= self._cache_duration:\n",
    "            # Return cached result if it's still valid\n",
    "            print(f\"CacheProxy: Returning cached result for query: {query}\")\n",
    "            return self._cache[query][\"result\"]\n",
    "        else:\n",
    "            # Execute the query and cache the result\n",
    "            result = self._real_database_query.execute_query(query)\n",
    "            self._cache[query] = {\"result\": result, \"timestamp\": time.time()}\n",
    "            return result\n"
   ]
  },
  {
   "cell_type": "code",
   "execution_count": 17,
   "id": "73eb079f-4ea6-4d01-9511-50b15398c289",
   "metadata": {},
   "outputs": [
    {
     "name": "stdout",
     "output_type": "stream",
     "text": [
      "Executing query: SELECT * FROM table1\n",
      "Results for query: SELECT * FROM table1\n",
      "Executing query: SELECT * FROM table2\n",
      "Results for query: SELECT * FROM table2\n",
      "CacheProxy: Returning cached result for query: SELECT * FROM table1\n",
      "Results for query: SELECT * FROM table1\n",
      "Executing query: SELECT * FROM table3\n",
      "Results for query: SELECT * FROM table3\n"
     ]
    }
   ],
   "source": [
    "# Client code\n",
    "# Create the Real Subject\n",
    "real_database_query = RealDatabaseQuery()\n",
    "\n",
    "# Create the Cache Proxy with a cache duration of 5 seconds\n",
    "cache_proxy = CacheProxy(real_database_query, cache_duration_seconds=5)\n",
    "\n",
    "# Perform database queries, some of which will be cached\n",
    "print(cache_proxy.execute_query(\"SELECT * FROM table1\"))\n",
    "print(cache_proxy.execute_query(\"SELECT * FROM table2\"))\n",
    "time.sleep(3)  # Sleep for 3 seconds\n",
    "\n",
    "# Should return cached result\n",
    "print(cache_proxy.execute_query(\"SELECT * FROM table1\"))\n",
    "\n",
    "print(cache_proxy.execute_query(\"SELECT * FROM table3\"))"
   ]
  }
 ],
 "metadata": {
  "kernelspec": {
   "display_name": "Python 3 (ipykernel)",
   "language": "python",
   "name": "python3"
  },
  "language_info": {
   "codemirror_mode": {
    "name": "ipython",
    "version": 3
   },
   "file_extension": ".py",
   "mimetype": "text/x-python",
   "name": "python",
   "nbconvert_exporter": "python",
   "pygments_lexer": "ipython3",
   "version": "3.13.0"
  }
 },
 "nbformat": 4,
 "nbformat_minor": 5
}
