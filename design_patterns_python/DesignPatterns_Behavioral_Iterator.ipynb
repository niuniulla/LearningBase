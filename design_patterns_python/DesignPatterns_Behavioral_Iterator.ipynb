{
 "cells": [
  {
   "cell_type": "markdown",
   "id": "2e3594c1-ac73-4908-8b63-40f4d08c188b",
   "metadata": {},
   "source": [
    "# Iterator"
   ]
  },
  {
   "cell_type": "markdown",
   "id": "f005a791-b622-4297-90f2-a6f22d8a1073",
   "metadata": {},
   "source": [
    "It allows sequential traversal through a complex data structure without exposing its internal details."
   ]
  },
  {
   "cell_type": "markdown",
   "id": "74559ac8-f932-4ff8-be93-78a20990ec22",
   "metadata": {},
   "source": [
    "## Python Specific"
   ]
  },
  {
   "cell_type": "markdown",
   "id": "1f72bd07-c587-4e31-9737-ce5c83eecf1c",
   "metadata": {},
   "source": [
    "### generator"
   ]
  },
  {
   "cell_type": "code",
   "execution_count": 7,
   "id": "897e291b-df2e-4c4a-8ce4-1925732ef902",
   "metadata": {},
   "outputs": [],
   "source": [
    "def char_to(char):\n",
    "    for i in range(65, ord(char)+1):\n",
    "        yield chr(i)"
   ]
  },
  {
   "cell_type": "code",
   "execution_count": 11,
   "id": "cf86b294-d08c-4680-a4f1-5410f763515a",
   "metadata": {},
   "outputs": [
    {
     "name": "stdout",
     "output_type": "stream",
     "text": [
      "ABCDEFGH\n",
      "ABCDEFGHIJKLMNO\n"
     ]
    }
   ],
   "source": [
    "generator = char_to('H')\n",
    "string = \"\"\n",
    "for c in generator:\n",
    "    string += c\n",
    "print(string)\n",
    "\n",
    "generator = char_to('O')\n",
    "string = \"\"\n",
    "for c in generator:\n",
    "    string += c\n",
    "print(string)"
   ]
  },
  {
   "cell_type": "markdown",
   "id": "a4c638b2-c597-4704-8c71-295c9a2788df",
   "metadata": {},
   "source": [
    "### Generator expression"
   ]
  },
  {
   "cell_type": "code",
   "execution_count": 13,
   "id": "a54e8356-ff0f-47a7-b1ef-7f66e4b46e6e",
   "metadata": {},
   "outputs": [
    {
     "name": "stdout",
     "output_type": "stream",
     "text": [
      "1\n",
      "2\n",
      "3\n",
      "4\n"
     ]
    }
   ],
   "source": [
    "generator = (item for item in [1, 2, 3, 4])\n",
    "\n",
    "for i in generator:\n",
    "    print(i)"
   ]
  },
  {
   "cell_type": "markdown",
   "id": "861e9c74-cd99-4497-9711-e1f925a92b83",
   "metadata": {},
   "source": [
    "### Iterator"
   ]
  },
  {
   "cell_type": "code",
   "execution_count": 21,
   "id": "c664772f-18cf-4ca8-8e28-4f3c078d8b90",
   "metadata": {},
   "outputs": [],
   "source": [
    "class MyNumbers:\n",
    "  def __iter__(self):\n",
    "    self.a = 1\n",
    "    return self\n",
    "\n",
    "  def __next__(self):\n",
    "    if self.a <= 5:\n",
    "      x = self.a\n",
    "      self.a += 1\n",
    "      return x\n",
    "    else:\n",
    "      raise StopIteration"
   ]
  },
  {
   "cell_type": "code",
   "execution_count": 22,
   "id": "70b27720-f07d-4df1-aa12-ae9bbc930e9a",
   "metadata": {},
   "outputs": [
    {
     "name": "stdout",
     "output_type": "stream",
     "text": [
      "1\n",
      "2\n",
      "3\n",
      "4\n",
      "5\n"
     ]
    }
   ],
   "source": [
    "for i in iter(MyNumbers()):\n",
    "    print(i)"
   ]
  },
  {
   "cell_type": "markdown",
   "id": "dd0ccb68-3a98-4dc9-b141-870845f00e03",
   "metadata": {},
   "source": [
    "## Iterator"
   ]
  },
  {
   "cell_type": "code",
   "execution_count": 121,
   "id": "f64ee77b-4b90-4fe0-942a-80ab8a61b627",
   "metadata": {},
   "outputs": [],
   "source": [
    "from collections.abc import Iterator, Iterable\n",
    "import random\n",
    "\n",
    "class MyIterator(Iterator):\n",
    "\n",
    "    def __init__(self, container:DataContainer, shuffle=False):\n",
    "        self._container = container\n",
    "        self._shuffle = shuffle\n",
    "        self._position = 0\n",
    "        self._indices = list(range(0, len(self._container)))\n",
    "        random.shuffle((self._indices))\n",
    "\n",
    "    def __next__(self):\n",
    "        try:\n",
    "            value = self._container[self._position] if not self._shuffle else self._container[self._indices[self._position]]\n",
    "            self._position += 1\n",
    "        except IndexError:\n",
    "            raise StopIteration()\n",
    "        return (value[0], value[1])"
   ]
  },
  {
   "cell_type": "code",
   "execution_count": 140,
   "id": "fb3073ba-7c63-433a-b34c-7b10abb38400",
   "metadata": {},
   "outputs": [],
   "source": [
    "# iterable\n",
    "class DataContainer(Iterable):\n",
    "    def __init__(self, data:list=[]):\n",
    "        self._data = data\n",
    "\n",
    "    def __getitem__(self, ind):\n",
    "        return self._data[ind]\n",
    "\n",
    "    def __iter__(self) -> MyIterator:\n",
    "        return MyIterator(self)\n",
    "\n",
    "    def add_item(self, item):\n",
    "        self._data.append(item)\n",
    "\n",
    "    def shuffle(self) -> MyIterator:\n",
    "        return MyIterator(self, True)\n",
    "\n",
    "    def __len__(self):\n",
    "        return len(self._data)"
   ]
  },
  {
   "cell_type": "code",
   "execution_count": 141,
   "id": "f0bee1a0-5742-405a-8930-78f5bf92936d",
   "metadata": {},
   "outputs": [
    {
     "name": "stdout",
     "output_type": "stream",
     "text": [
      "##### straight #####\n",
      "This is good.\n",
      "I don't like it.\n",
      "Not bad.\n",
      "dispointed.\n",
      "\n",
      "##### shuffled #####\n",
      "I don't like it.\n",
      "Not bad.\n",
      "dispointed.\n",
      "This is good.\n"
     ]
    }
   ],
   "source": [
    "dataset = DataContainer([])\n",
    "dataset.add_item([\"This is good.\", 1])\n",
    "dataset.add_item([\"I don't like it.\", 0])\n",
    "dataset.add_item([\"Not bad.\", 1])\n",
    "dataset.add_item([\"dispointed.\", 0])\n",
    "\n",
    "print(\"##### straight #####\")\n",
    "for item in dataset:\n",
    "    print(item[0])\n",
    "print(\"\\n##### shuffled #####\")\n",
    "for item in dataset.shuffle():\n",
    "    print(item[0])"
   ]
  },
  {
   "cell_type": "markdown",
   "id": "39ced387-457a-4458-bb0d-6418c3af07ba",
   "metadata": {},
   "source": [
    "## asyncio"
   ]
  },
  {
   "cell_type": "code",
   "execution_count": 11,
   "id": "2e5288f8-ba61-4802-9683-f46d7a1d01ae",
   "metadata": {},
   "outputs": [],
   "source": [
    "import asyncio\n",
    "from random import randint\n",
    "\n",
    "class AsyncIterable:\n",
    "    def __init__(self, stop):\n",
    "        self._stop = stop\n",
    "        self._index = 0\n",
    "\n",
    "    def __aiter__(self):\n",
    "        return self\n",
    "\n",
    "    async def __anext__(self):\n",
    "        if self._index >= self._stop:\n",
    "            raise StopAsyncIteration\n",
    "        await asyncio.sleep(value := randint(1, 3))\n",
    "        self._index += 1\n",
    "        return value\n"
   ]
  },
  {
   "cell_type": "code",
   "execution_count": 13,
   "id": "7007433d-3ffd-4461-9a6d-b9b17be329c8",
   "metadata": {},
   "outputs": [
    {
     "name": "stdout",
     "output_type": "stream",
     "text": [
      "2\n",
      "2\n",
      "1\n",
      "1\n"
     ]
    }
   ],
   "source": [
    "async def main():\n",
    "    async for number in AsyncIterable(4):\n",
    "        print(number)\n",
    "\n",
    "# https://stackoverflow.com/questions/55409641/asyncio-run-cannot-be-called-from-a-running-event-loop-when-using-jupyter-no\n",
    "await main()"
   ]
  },
  {
   "cell_type": "markdown",
   "id": "4782fb7e-6c48-426f-a93c-db40b7b71c3d",
   "metadata": {},
   "source": [
    "# ref\n",
    "\n",
    "https://realpython.com/python-iterators-iterables/"
   ]
  }
 ],
 "metadata": {
  "kernelspec": {
   "display_name": "Python 3 (ipykernel)",
   "language": "python",
   "name": "python3"
  },
  "language_info": {
   "codemirror_mode": {
    "name": "ipython",
    "version": 3
   },
   "file_extension": ".py",
   "mimetype": "text/x-python",
   "name": "python",
   "nbconvert_exporter": "python",
   "pygments_lexer": "ipython3",
   "version": "3.13.0"
  }
 },
 "nbformat": 4,
 "nbformat_minor": 5
}
