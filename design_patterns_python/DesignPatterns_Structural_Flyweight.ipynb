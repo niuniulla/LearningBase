{
 "cells": [
  {
   "cell_type": "markdown",
   "id": "ec0e8003-5925-474e-a22f-4ef2b2e14124",
   "metadata": {},
   "source": [
    "# Flyweight"
   ]
  },
  {
   "cell_type": "markdown",
   "id": "bc2b90bc-07a4-477b-b901-fa0e5d607ed8",
   "metadata": {},
   "source": [
    "A Flyweight (also sometimes called a token or a cookie) is a temporary component that acts as a “smart reference” to something. Typically, flyweights are used in situations where you have a very large number of very similar objects, and you want to minimize the amount of memory that is dedicated to storing all these values.\n",
    "\n",
    "The main parts:\n",
    " - Flyweight: Contains the intrinsic state shared between multiple objects, with the same flyweight object usable in various contexts. It stores the intrinsic state and receives the extrinsic state from the context.\n",
    " - Flyweight Factory: Manages a pool of existing flyweights, handling their creation and reuse. Clients interact with the factory to obtain flyweight instances, passing intrinsic state for retrieval or creation.\n"
   ]
  },
  {
   "cell_type": "markdown",
   "id": "578b511a-f88b-4e85-80db-665ead24a9b6",
   "metadata": {},
   "source": [
    "# Shared object"
   ]
  },
  {
   "cell_type": "code",
   "execution_count": 1,
   "id": "cc6813cb-34b8-41f9-a681-4ef39d7646d0",
   "metadata": {},
   "outputs": [],
   "source": [
    "class Bomb:\n",
    "    # this can be an object defining the geometry information \n",
    "    # of the bomb object and all bomb objets share this so we don't\n",
    "    # have to do this for every instantiation and store it separatly.\n",
    "    shape = [1, 2, 3, 3, 5, 5]\n",
    "    \n",
    "    def render(self, pos):\n",
    "        # do things with shape\n",
    "        print(f\"Draw a bomb at {pos}\")"
   ]
  },
  {
   "cell_type": "code",
   "execution_count": 2,
   "id": "fde5d953-2259-45c6-bc5a-5512da5b192d",
   "metadata": {},
   "outputs": [
    {
     "name": "stdout",
     "output_type": "stream",
     "text": [
      "139646634993920 139646634993920\n"
     ]
    }
   ],
   "source": [
    "b1 = Bomb()\n",
    "b2 = Bomb()\n",
    "print(id(b1.shape), id(b2.shape))"
   ]
  },
  {
   "cell_type": "markdown",
   "id": "e737ea3d-4278-459c-9148-84545721dbf3",
   "metadata": {},
   "source": [
    "## factory"
   ]
  },
  {
   "cell_type": "code",
   "execution_count": 3,
   "id": "0bc9e840-c0cd-48bd-a3cc-bf9f09623b21",
   "metadata": {},
   "outputs": [],
   "source": [
    "# flyweight\n",
    "from abc import abstractmethod\n",
    "\n",
    "class Character:\n",
    "    @abstractmethod\n",
    "    def render(self, pos):\n",
    "        pass\n",
    "\n",
    "# concret flyweight classes\n",
    "class Player(Character):\n",
    "    def __init__(self, tex):\n",
    "        self.tex = tex\n",
    "\n",
    "    def render(self, pos):\n",
    "        print(f\"Render Player at {pos} with texture {self.tex}\")\n",
    "        \n",
    "class Enemy(Character):\n",
    "    def __init__(self, tex):\n",
    "        self.tex = tex\n",
    "\n",
    "    def render(self, pos):\n",
    "        print(f\"Render Enemy at {pos} with texture {self.tex}\")"
   ]
  },
  {
   "cell_type": "code",
   "execution_count": 4,
   "id": "26d88fe8-882e-4c28-a974-43625c4e82ab",
   "metadata": {},
   "outputs": [],
   "source": [
    "# flyweight fatory\n",
    "\n",
    "class TexFactory(object):\n",
    "    \"\"\"\n",
    "    It creates and manages the Flyweight objects. It ensures\n",
    "    that flyweights are shared correctly. When the client requests a flyweight,\n",
    "    the factory either returns an existing instance or creates a new one, if it\n",
    "    doesn't exist yet.\n",
    "    \"\"\"\n",
    "    textures = {}\n",
    "\n",
    "    def add_texture(self, tid, tex):\n",
    "        self.textures[tid] = tex\n",
    "\n",
    "    def get_texture(self, tid):\n",
    "        if tid in self.textures.keys():\n",
    "            return self.textures[tid]\n",
    "        raise ValueError"
   ]
  },
  {
   "cell_type": "code",
   "execution_count": 5,
   "id": "71e19a86-f9a5-4ef5-b261-4356897b5a01",
   "metadata": {},
   "outputs": [
    {
     "name": "stdout",
     "output_type": "stream",
     "text": [
      "139646635060224 139646635060224\n"
     ]
    }
   ],
   "source": [
    "# to show the attribut textures in TexFactory is indeed shared\n",
    "t1 = TexFactory()\n",
    "t2 = TexFactory()\n",
    "print(id(t1.textures), id(t2.textures))"
   ]
  },
  {
   "cell_type": "code",
   "execution_count": 6,
   "id": "05c4adc2-31a2-4674-9c63-51e52a2b061a",
   "metadata": {},
   "outputs": [],
   "source": [
    "import random\n",
    "class GameEngine:\n",
    "    def __init__(self):\n",
    "        texFactory = TexFactory()\n",
    "        texFactory.add_texture(\"ninja\", \"ninja_texture\")\n",
    "        texFactory.add_texture(\"skeleton\", \"skeleton_texture\")\n",
    "        texFactory.add_texture(\"troll\", \"troll_texture\")\n",
    "\n",
    "        self.characters = []\n",
    "        self.characters.append(Player(texFactory.get_texture(\"ninja\")))\n",
    "        self.characters.append(Enemy(texFactory.get_texture(\"skeleton\")))\n",
    "        self.characters.append(Enemy(texFactory.get_texture(\"troll\")))\n",
    "        self.characters.append(Enemy(texFactory.get_texture(\"skeleton\")))\n",
    "\n",
    "    def render(self):\n",
    "        for c in self.characters:\n",
    "            c.render([random.randint(0, 10), random.randint(0, 10)])"
   ]
  },
  {
   "cell_type": "code",
   "execution_count": 7,
   "id": "b78258eb-30fd-492a-9c1c-c5c08e2e74ea",
   "metadata": {},
   "outputs": [
    {
     "name": "stdout",
     "output_type": "stream",
     "text": [
      "Render Player at [3, 2] with texture ninja_texture\n",
      "Render Enemy at [8, 9] with texture skeleton_texture\n",
      "Render Enemy at [3, 9] with texture troll_texture\n",
      "Render Enemy at [3, 9] with texture skeleton_texture\n"
     ]
    }
   ],
   "source": [
    "game = GameEngine()\n",
    "game.render()"
   ]
  }
 ],
 "metadata": {
  "kernelspec": {
   "display_name": "Python 3 (ipykernel)",
   "language": "python",
   "name": "python3"
  },
  "language_info": {
   "codemirror_mode": {
    "name": "ipython",
    "version": 3
   },
   "file_extension": ".py",
   "mimetype": "text/x-python",
   "name": "python",
   "nbconvert_exporter": "python",
   "pygments_lexer": "ipython3",
   "version": "3.13.0"
  }
 },
 "nbformat": 4,
 "nbformat_minor": 5
}
