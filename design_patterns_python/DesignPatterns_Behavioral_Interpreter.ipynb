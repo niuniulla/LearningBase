{
 "cells": [
  {
   "cell_type": "markdown",
   "id": "d924685d-771e-4c73-aa98-a525368636dd",
   "metadata": {},
   "source": [
    "# Interpreter"
   ]
  },
  {
   "cell_type": "markdown",
   "id": "0584f5e6-5ae9-45c1-8b93-9878cae658cd",
   "metadata": {},
   "source": [
    "## Numerical Eval"
   ]
  },
  {
   "cell_type": "code",
   "execution_count": 10,
   "id": "79965245-75d7-4eb4-b53b-5f5e6511502b",
   "metadata": {},
   "outputs": [],
   "source": [
    "from enum import Enum\n",
    "from abc import abstractmethod\n",
    "\n",
    "class Element:\n",
    "    @abstractmethod\n",
    "    def eval(self):\n",
    "        pass\n",
    "\n",
    "class Integer(Element):\n",
    "    def __init__(self, i):\n",
    "        self.value = i\n",
    "\n",
    "    def eval(self):\n",
    "        return self.value\n",
    "\n",
    "    def __str__(self):\n",
    "        return f\"{self.value}\"\n",
    "\n",
    "class BinaryOp(Element):\n",
    "    class Op(Enum):\n",
    "        add = 1,\n",
    "        sub = 2\n",
    "\n",
    "    def __init__(self, t:Op=None, l: Element=None, r: Element=None):\n",
    "        self.op = t\n",
    "        self.lvalue = l\n",
    "        self.rvalue = r\n",
    "\n",
    "    def eval(self):\n",
    "        if self.op == self.Op.add:\n",
    "            return self.lvalue.eval() + self.rvalue.eval()\n",
    "        else:\n",
    "            return self.lvalue.eval() - self.rvalue.eval()\n",
    "\n",
    "    def __str__(self):\n",
    "        op = \"+\" if self.op == self.Op.add else \"-\"\n",
    "        return f\"{self.lvalue}{op}{self.rvalue}\"\n",
    "\n",
    "\n",
    "class UnaryOp(Element):\n",
    "    class Op(Enum):\n",
    "        increment = 1,\n",
    "        decrement = 2,\n",
    "        ref = 3\n",
    "    \n",
    "    def __init__(self, t:Op=None, r:Element=None):\n",
    "        self.op = t\n",
    "        self.rvalue = r\n",
    "\n",
    "    def eval(self):\n",
    "        if self.op == self.Op.increment:\n",
    "            self.rvalue += 1\n",
    "        elif self.op == self.Op.decrement:\n",
    "            self.rvalue -= 1 \n",
    "        elif self.op == self.Op.ref:\n",
    "            return id(self.rvalue)\n",
    "        else:\n",
    "            raise NotImplementedError\n",
    "            \n",
    "    def __str__(self):\n",
    "        op = \"++\" if self.op == self.Op.increment else \"--\"\n",
    "        return f\"{op}{self.rvalue}\""
   ]
  },
  {
   "cell_type": "code",
   "execution_count": 11,
   "id": "92653aa8-8948-4db6-bd66-ee96c852098b",
   "metadata": {},
   "outputs": [
    {
     "name": "stdout",
     "output_type": "stream",
     "text": [
      "5\n",
      "139778021623440\n"
     ]
    }
   ],
   "source": [
    "expr = BinaryOp(BinaryOp.Op.add, Integer(2), Integer(3))\n",
    "print(expr.eval())\n",
    "expr = UnaryOp(UnaryOp.Op.ref, Integer(4))\n",
    "print(expr.eval())"
   ]
  },
  {
   "cell_type": "markdown",
   "id": "f5c7a9bf-0da6-42d3-9df3-78aa4af5f863",
   "metadata": {},
   "source": [
    "## Parser"
   ]
  },
  {
   "cell_type": "code",
   "execution_count": 12,
   "id": "c155a2de-b31d-48c6-939e-651f57e9d240",
   "metadata": {},
   "outputs": [],
   "source": [
    "# a parser\n",
    "class Parser:\n",
    "    def __init__(self, string):\n",
    "        self.string = string\n",
    "        self.expr = None\n",
    "          \n",
    "    def __call__(self):\n",
    "        has_lvalue = False\n",
    "        is_uni = False\n",
    "        expr = None\n",
    "        op = None\n",
    "        lvalue = None\n",
    "        rvalue = None\n",
    "        for c in self.string:\n",
    "            if c == \"+\":\n",
    "                op = BinaryOp.Op.add\n",
    "            elif c == \"-\":\n",
    "                op = BinaryOp.Op.sub\n",
    "            elif c == \"++\":\n",
    "                op = UnaryOp.Op.increment\n",
    "                has_lvalue = True\n",
    "                is_uni = True\n",
    "            elif c == \"--\":\n",
    "                op = UnaryOp.Op.decrement\n",
    "                has_lvalue = True\n",
    "                is_uni = True\n",
    "            elif c.isnumeric() and not has_lvalue:\n",
    "                lvalue = Integer(int(c))\n",
    "                has_lvalue = True\n",
    "            elif c.isnumeric():\n",
    "                rvalue = Integer(int(c))\n",
    "\n",
    "        if is_uni:\n",
    "            self.expr = UnaryOp(op, rvalue)\n",
    "        else:\n",
    "            self.expr = BinaryOp(op, lvalue, rvalue)\n",
    "        return self.expr\n",
    "\n",
    "    def __str__(self):\n",
    "        return f\"{self.expr}\""
   ]
  },
  {
   "cell_type": "code",
   "execution_count": 13,
   "id": "7aea7ac7-cb52-4da5-883c-1ce532767f37",
   "metadata": {},
   "outputs": [
    {
     "name": "stdout",
     "output_type": "stream",
     "text": [
      "3+4 = 7\n"
     ]
    }
   ],
   "source": [
    "parsed = Parser(\"3+4\")()\n",
    "res = parsed.eval()\n",
    "print(f\"{parsed} = {res}\")"
   ]
  },
  {
   "cell_type": "markdown",
   "id": "ad775e34-3d82-490b-afce-5d6d772ff485",
   "metadata": {},
   "source": [
    "https://morepypy.blogspot.com/2011/04/tutorial-writing-interpreter-with-pypy.html"
   ]
  }
 ],
 "metadata": {
  "kernelspec": {
   "display_name": "Python 3 (ipykernel)",
   "language": "python",
   "name": "python3"
  },
  "language_info": {
   "codemirror_mode": {
    "name": "ipython",
    "version": 3
   },
   "file_extension": ".py",
   "mimetype": "text/x-python",
   "name": "python",
   "nbconvert_exporter": "python",
   "pygments_lexer": "ipython3",
   "version": "3.13.0"
  }
 },
 "nbformat": 4,
 "nbformat_minor": 5
}
