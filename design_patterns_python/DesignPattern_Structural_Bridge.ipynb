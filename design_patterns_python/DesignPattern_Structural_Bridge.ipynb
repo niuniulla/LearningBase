{
 "cells": [
  {
   "cell_type": "markdown",
   "id": "66273ba4-9c16-4e1b-a987-fb9d3687912a",
   "metadata": {},
   "source": [
    "# Bridge"
   ]
  },
  {
   "cell_type": "markdown",
   "id": "cf05b7e7-6831-44a6-81bc-a9e1c0d9e4ed",
   "metadata": {},
   "source": [
    "The Bridge pattern addresses these problems by putting the abstraction and its implementation in separate class hierarchies.\n",
    "\n",
    "The parts are:\n",
    "- interface: open to client user, which provides all usable functionalities.\n",
    "- client: the user, who has access to the interface\n",
    "- implementation: the backend functionalities to support the interface but be hid from client\n",
    "\n",
    "Its main purpose is to decouple the user interface and the implementation.\n",
    "Its realization is not different from the adapter pattern."
   ]
  },
  {
   "cell_type": "markdown",
   "id": "f0da6cd5-1855-4cde-9436-13e72ac4aabc",
   "metadata": {},
   "source": [
    "## Pimpl Idiom\n",
    "\n",
    "To decouple the Interface and the acutal implementation."
   ]
  },
  {
   "cell_type": "code",
   "execution_count": 10,
   "id": "8e0b757c-0d9b-433b-ad21-24764f2f6919",
   "metadata": {},
   "outputs": [],
   "source": [
    "# interface\n",
    "class Person:\n",
    "    def __init__(self, name):\n",
    "        self.name = name\n",
    "        self.impl = PersonImplementation()\n",
    "    def greet(self):\n",
    "        self.impl.greet()\n",
    "\n",
    "# Implementation\n",
    "class PersonImplementation:\n",
    "    def greet(self):\n",
    "        print(\"say hello.\")"
   ]
  },
  {
   "cell_type": "code",
   "execution_count": 11,
   "id": "8ab3b804-75d3-4a20-a608-1f7e39e8f612",
   "metadata": {},
   "outputs": [
    {
     "name": "stdout",
     "output_type": "stream",
     "text": [
      "say hello.\n"
     ]
    }
   ],
   "source": [
    "p =  Person(\"John\")\n",
    "p.greet()"
   ]
  },
  {
   "cell_type": "markdown",
   "id": "a7857499-bae9-4a04-aa19-6a70190d21e1",
   "metadata": {},
   "source": [
    "## Bridge"
   ]
  },
  {
   "cell_type": "code",
   "execution_count": 1,
   "id": "90a9b5b5-515c-4af9-a1f4-bd558acde436",
   "metadata": {},
   "outputs": [],
   "source": [
    "# implementation\n",
    "from abc import abstractmethod\n",
    "\n",
    "class WindowImplementation:\n",
    "\n",
    "    @abstractmethod\n",
    "    def open(self):\n",
    "        pass\n",
    "\n",
    "    @abstractmethod\n",
    "    def close(self):\n",
    "        pass\n",
    "\n",
    "    @abstractmethod\n",
    "    def setpixel(self):\n",
    "        pass\n",
    "\n",
    "\n",
    "class LinuxWindowImplementation(WindowImplementation):\n",
    "    def open(self):\n",
    "        print(\"Created a window in Linux\")\n",
    "\n",
    "    def close(self):\n",
    "        print(\"Close window in Linux\")\n",
    "\n",
    "    def draw_line(self, start, end):\n",
    "        print(f\"Draw a line between {start} and {end} in a Linux window.\")\n",
    "\n",
    "class WindowsWindowImplementation(WindowImplementation):\n",
    "    def open(self):\n",
    "        print(\"Created a window in windows\")\n",
    "\n",
    "    def close(self):\n",
    "        print(\"Close window in Windows\")\n",
    "\n",
    "    def draw_line(self, start, end):\n",
    "        print(f\"Draw a line between {start} and {end} in a Windows window.\")"
   ]
  },
  {
   "cell_type": "code",
   "execution_count": 2,
   "id": "ed8a496d-6b44-4ed3-b21f-35e87a01d0a2",
   "metadata": {},
   "outputs": [],
   "source": [
    "# client interface\n",
    "# this is visible to users\n",
    "\n",
    "import platform\n",
    "from dataclasses import dataclass\n",
    "\n",
    "class Window:\n",
    "    def __init__(self):\n",
    "        # the bridge\n",
    "        if \"Linux\" in platform.system():\n",
    "            self.engin = LinuxWindowImplementation()\n",
    "        if \"Windows\" in platform.system():\n",
    "            self.engin = WindowsWindowImplementation()\n",
    "            \n",
    "    def create_window(self, width, height):\n",
    "        self.engin.open()\n",
    "        \n",
    "    def destroy_window(self):\n",
    "        self.engin.close()\n",
    "        \n",
    "    def draw_line(self):\n",
    "        self.engin.draw_line(1, 2)\n",
    "\n",
    "# user specific application\n",
    "class WindowApplication(Window):\n",
    "    def __init__(self, name):\n",
    "        super().__init__()\n",
    "        print(f\"My app is called {name}\")\n",
    "        \n",
    "    def draw_rect(self):\n",
    "        # we can of course hide further the code by moving \n",
    "        # this part to the implementation part. This is up to you.\n",
    "        self.engin.draw_line(1, 2)\n",
    "        self.engin.draw_line(2, 3)\n",
    "        self.engin.draw_line(3, 4)\n",
    "        self.engin.draw_line(4, 1)\n",
    "        \n",
    "    def draw_triangle(self):\n",
    "        self.engin.draw_line(1, 2)\n",
    "        self.engin.draw_line(2, 3)\n",
    "        self.engin.draw_line(3, 1)\n",
    "        "
   ]
  },
  {
   "cell_type": "code",
   "execution_count": 3,
   "id": "6febd84d-a272-4a6a-9a24-ec61f6de4968",
   "metadata": {},
   "outputs": [
    {
     "name": "stdout",
     "output_type": "stream",
     "text": [
      "My app is called myapp\n",
      "Created a window in Linux\n",
      "Draw a line between 1 and 2 in a Linux window.\n",
      "Draw a line between 2 and 3 in a Linux window.\n",
      "Draw a line between 3 and 4 in a Linux window.\n",
      "Draw a line between 4 and 1 in a Linux window.\n",
      "Draw a line between 1 and 2 in a Linux window.\n",
      "Draw a line between 2 and 3 in a Linux window.\n",
      "Draw a line between 3 and 1 in a Linux window.\n"
     ]
    }
   ],
   "source": [
    "app = WindowApplication(\"myapp\")\n",
    "app.create_window(100, 100)\n",
    "app.draw_rect()\n",
    "app.draw_triangle()"
   ]
  }
 ],
 "metadata": {
  "kernelspec": {
   "display_name": "Python 3 (ipykernel)",
   "language": "python",
   "name": "python3"
  },
  "language_info": {
   "codemirror_mode": {
    "name": "ipython",
    "version": 3
   },
   "file_extension": ".py",
   "mimetype": "text/x-python",
   "name": "python",
   "nbconvert_exporter": "python",
   "pygments_lexer": "ipython3",
   "version": "3.13.0"
  }
 },
 "nbformat": 4,
 "nbformat_minor": 5
}
