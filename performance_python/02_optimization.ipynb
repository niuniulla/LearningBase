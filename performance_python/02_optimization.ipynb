{
 "cells": [
  {
   "cell_type": "markdown",
   "id": "74684a2e-5cb9-49bf-87ac-b82a5ba82366",
   "metadata": {},
   "source": [
    "## Standard Data Structure"
   ]
  },
  {
   "cell_type": "markdown",
   "id": "cf7a1a07-e7c4-41ef-a58f-cbbb9438eaac",
   "metadata": {},
   "source": [
    "### 1. Lists"
   ]
  },
  {
   "cell_type": "code",
   "execution_count": 1,
   "id": "984065a3-d25e-4a12-9057-b887f85dcd5b",
   "metadata": {},
   "outputs": [
    {
     "name": "stdout",
     "output_type": "stream",
     "text": [
      "pop:  0.42 us\n",
      "popleft:  13.61 us\n",
      "append:  0.02 us\n",
      "appenleft:  38.30 us\n",
      "insert:  52.79 us\n"
     ]
    }
   ],
   "source": [
    "from timeit import timeit, Timer\n",
    "n = 100000\n",
    "\n",
    "l = list(range(100000))\n",
    "\n",
    "# O(1)\n",
    "print(\"pop: \", \"%.2f\" %(timeit('l.pop', globals=globals(), number=n) * 1e6 / n), \"us\")\n",
    "# O(N)\n",
    "print(\"popleft: \", \"%.2f\" %(timeit('l.pop(0)', globals=globals(), number=n) * 1e6 / n), \"us\")\n",
    "# O(1)\n",
    "print(\"append: \", \"%.2f\" %(timeit('l.append(1)', globals=globals(), number=n) * 1e6 / n), \"us\")\n",
    "# O(N)\n",
    "print(\"appenleft: \", \"%.2f\" %(timeit('l.insert(0, 1)', globals=globals(), number=n) * 1e6 / n), \"us\")\n",
    "# O(N)\n",
    "print(\"insert: \", \"%.2f\" %(timeit('l.insert(int(n/2), 1)', globals=globals(), number=n) * 1e6 / n), \"us\")"
   ]
  },
  {
   "cell_type": "markdown",
   "id": "76a891a6-c44b-4086-bf0a-686b22830a0d",
   "metadata": {},
   "source": [
    "we can optimize the time to access the element at the beginning of the array by using deque."
   ]
  },
  {
   "cell_type": "code",
   "execution_count": 32,
   "id": "23631856-f5a6-499d-87a2-5263a77d6203",
   "metadata": {},
   "outputs": [
    {
     "name": "stdout",
     "output_type": "stream",
     "text": [
      "pop:  0.32 us\n",
      "popleft:  0.28 us\n",
      "append:  0.14 us\n",
      "appendleft:  0.14 us\n",
      "insert:  40.47 us\n"
     ]
    }
   ],
   "source": [
    "from collections import deque\n",
    "from timeit import timeit, Timer\n",
    "n = 100000\n",
    "\n",
    "d = deque(range(100000))\n",
    "# O(1)\n",
    "print(\"pop: \", \"%.2f\" %(timeit('d.pop', globals=globals(), number=n) * 1e6 / n), \"us\")\n",
    "# O(1)\n",
    "print(\"popleft: \", \"%.2f\" %(timeit('d.popleft', globals=globals(), number=n) * 1e6 / n), \"us\")\n",
    "# O(1)\n",
    "print(\"append: \", \"%.2f\" %(timeit('d.append(1)', globals=globals(), number=n) * 1e6 / n), \"us\")\n",
    "# O(1)\n",
    "print(\"appendleft: \", \"%.2f\" %(timeit('d.appendleft(1)', globals=globals(), number=n) * 1e6 / n), \"us\")\n",
    "# O(N)\n",
    "print(\"insert: \", \"%.2f\" %(timeit('d.insert(int(n/2), 1)', globals=globals(), number=n) * 1e6 / n), \"us\")"
   ]
  },
  {
   "cell_type": "markdown",
   "id": "c0fcda57-e728-4a5e-a06c-ec523c54cce2",
   "metadata": {},
   "source": [
    "The complexity for access to the elements in the middle is O(N). We can use bisect to search for item."
   ]
  },
  {
   "cell_type": "code",
   "execution_count": 35,
   "id": "184d75e9-c223-48f3-92c1-5b4f2cbbd4ca",
   "metadata": {},
   "outputs": [
    {
     "name": "stdout",
     "output_type": "stream",
     "text": [
      "list:  732.11 us\n",
      "bisect:  0.24 us\n"
     ]
    }
   ],
   "source": [
    "from bisect import bisect\n",
    "\n",
    "l = list(range(100000))\n",
    "\n",
    "# O(N)\n",
    "print(\"list: \", \"%.2f\" %(timeit('l.index(50000)', globals=globals(), number=n) * 1e6 / n), \"us\")\n",
    "# O(log(N))\n",
    "print(\"bisect: \", \"%.2f\" %(timeit('bisect(l, 50000)', globals=globals(), number=n) * 1e6 / n), \"us\")"
   ]
  },
  {
   "cell_type": "markdown",
   "id": "434edf0d-8f8c-4ee2-9f5a-d647fc6f8bb4",
   "metadata": {},
   "source": [
    "### 2. Dict"
   ]
  },
  {
   "cell_type": "markdown",
   "id": "b4568c66-3de4-4f7d-9178-632126f01585",
   "metadata": {},
   "source": [
    "It is implemented as hash maps and are very good at element insertion, deletion, and access. all these operations have an average O(1) time complexity."
   ]
  },
  {
   "cell_type": "code",
   "execution_count": 39,
   "id": "c522dc03-2aea-4498-95a4-f0011bcf1ce6",
   "metadata": {},
   "outputs": [
    {
     "name": "stdout",
     "output_type": "stream",
     "text": [
      "dict:  106.43 us\n",
      "defaultdict:  173.61 us\n",
      "Counter:  37.22 us\n"
     ]
    }
   ],
   "source": [
    "# counts\n",
    "\n",
    "# standard dict\n",
    "def count_dict(l):\n",
    "    counts = {}\n",
    "    for item in l:\n",
    "        if item not in counts.keys():\n",
    "            counts[item] = 0\n",
    "        else:\n",
    "            counts[item] += 1\n",
    "    return counts\n",
    "\n",
    "# defaultdict\n",
    "from collections import defaultdict\n",
    "def count_default(l):\n",
    "    counts = defaultdict(int)\n",
    "    for item in l:\n",
    "        counts[item] += 1\n",
    "    return counts\n",
    "\n",
    "# Counter\n",
    "from collections import Counter\n",
    "\n",
    "l = list(range(1000))\n",
    "\n",
    "# O(N)\n",
    "print(\"dict: \", \"%.2f\" %(timeit(lambda: count_dict(l), globals=globals(), number=n) * 1e6 / n), \"us\")\n",
    "# O(N)\n",
    "print(\"defaultdict: \", \"%.2f\" %(timeit('count_default(l)', globals=globals(), number=n) * 1e6 / n), \"us\")\n",
    "# O(N)\n",
    "print(\"Counter: \", \"%.2f\" %(timeit('Counter(l)', globals=globals(), number=n) * 1e6 / n), \"us\")"
   ]
  },
  {
   "cell_type": "code",
   "execution_count": 40,
   "id": "64f15093-9e38-4cd4-bd62-af2ec9f65e9b",
   "metadata": {},
   "outputs": [],
   "source": [
    "# dict can be used to build a term table for query after\n",
    "\n",
    "docs = [\"the cat is under the table\",\n",
    "        \"the dog is under the table\",\n",
    "        \"cats and dogs smell roses\",\n",
    "        \"Carla eats an apple\"]\n",
    "\n",
    "# build\n",
    "index = {}\n",
    "for i, d in enumerate(docs):\n",
    "    for word in d.split():\n",
    "        if word not in index.keys():\n",
    "            index[word] = [i]\n",
    "        else:\n",
    "            index[word].append(i)\n",
    "\n",
    "# query\n",
    "res = index[\"the\"] # the access is O(1)\n",
    "res_docs = [docs[i] for i in res]"
   ]
  },
  {
   "cell_type": "markdown",
   "id": "b2845e5d-edd9-4651-ac6d-fbc1005990bf",
   "metadata": {},
   "source": [
    "### 3. sets"
   ]
  },
  {
   "cell_type": "markdown",
   "id": "3c1c5e69-933f-4dc9-8eb9-b919b76c29ce",
   "metadata": {},
   "source": [
    "The main use-cases where sets are a good choice are membership tests (testing if an element is present in the collection) and, unsurprisingly, set operations such as union, difference, and intersection. the time complexities for addition, deletion, and test for membership scale as O(1) with the size of the collection."
   ]
  },
  {
   "cell_type": "code",
   "execution_count": 44,
   "id": "fa83c713-d348-40e1-966c-4241e604a3e4",
   "metadata": {},
   "outputs": [
    {
     "data": {
      "text/plain": [
       "{1}"
      ]
     },
     "execution_count": 44,
     "metadata": {},
     "output_type": "execute_result"
    }
   ],
   "source": [
    "# build\n",
    "index = {}\n",
    "for i, d in enumerate(docs):\n",
    "    for word in d.split():\n",
    "        if word not in index.keys():\n",
    "            index[word] = {i} # instead of list as before, we use sets here\n",
    "        else:\n",
    "            index[word].add(i)\n",
    "\n",
    "\n",
    "# query\n",
    "index[\"dog\"].intersection(index[\"table\"])"
   ]
  },
  {
   "cell_type": "markdown",
   "id": "9117fec9-4c3f-4a28-aef7-c61ce8728c9a",
   "metadata": {},
   "source": [
    "### 4. Heaps"
   ]
  },
  {
   "cell_type": "markdown",
   "id": "0e1fe04f-77a4-4709-b333-94adc136e66f",
   "metadata": {},
   "source": [
    "Heaps are data structures designed to quickly find and extract the maximum (or minimum)\n",
    "value in a collection."
   ]
  },
  {
   "cell_type": "code",
   "execution_count": 2,
   "id": "0355e5a8-17e7-4957-a7a3-475bc0dd66c0",
   "metadata": {},
   "outputs": [
    {
     "name": "stdout",
     "output_type": "stream",
     "text": [
      "[3, 10, 4, 74, 18, 45, 34, 99, 93, 23]\n",
      "[4, 10, 23, 74, 18, 45, 34, 99, 93]\n",
      "[1, 4, 23, 74, 10, 45, 34, 99, 93, 18]\n"
     ]
    }
   ],
   "source": [
    "import heapq\n",
    "\n",
    "l = [10, 3, 45, 99, 23, 4, 34, 74, 93, 18]\n",
    "\n",
    "# sort\n",
    "heapq.heapify(l)\n",
    "print(l)\n",
    "\n",
    "# extract min\n",
    "heapq.heappop(l)\n",
    "print(l)\n",
    "\n",
    "# add item\n",
    "heapq.heappush(l, 1)\n",
    "print(l)\n",
    "\n"
   ]
  },
  {
   "cell_type": "code",
   "execution_count": 3,
   "id": "cacda54b-5b80-4ae3-b1d8-c110e6a639d3",
   "metadata": {},
   "outputs": [
    {
     "name": "stdout",
     "output_type": "stream",
     "text": [
      "1\n"
     ]
    }
   ],
   "source": [
    "from queue import PriorityQueue\n",
    "\n",
    "q = PriorityQueue()\n",
    "for item in l:\n",
    "    q.put(item)\n",
    "print(q.get())"
   ]
  },
  {
   "cell_type": "code",
   "execution_count": 23,
   "id": "531c6843-a25d-48d4-a31d-ca257cb52142",
   "metadata": {},
   "outputs": [],
   "source": [
    "def priority_min(l):\n",
    "    q = PriorityQueue()\n",
    "    for item in l:\n",
    "        q.put(item)\n",
    "    return q.get()\n"
   ]
  },
  {
   "cell_type": "code",
   "execution_count": 25,
   "id": "bb917f28-1a41-4238-9caa-aa11fd0fb136",
   "metadata": {},
   "outputs": [
    {
     "name": "stdout",
     "output_type": "stream",
     "text": [
      "sort:  0.46 us\n",
      "sorted:  1.12 us\n",
      "heap:  1.03 us\n",
      "priority:  12.00 us\n"
     ]
    }
   ],
   "source": [
    "l = [10, 3, 45, 99, 23, 4, 34, 74, 93, 18]\n",
    "# O(N)\n",
    "print(\"sort: \", \"%.2f\" %(timeit('l.sort()', globals=globals(), number=n) * 1e6 / n), \"us\")\n",
    "# O(N)\n",
    "l = [10, 3, 45, 99, 23, 4, 34, 74, 93, 18]\n",
    "print(\"sorted: \", \"%.2f\" %(timeit('sorted(l)', globals=globals(), number=n) * 1e6 / n), \"us\")\n",
    "# O(N)\n",
    "l = [10, 3, 45, 99, 23, 4, 34, 74, 93, 18]\n",
    "print(\"heap: \", \"%.2f\" %(timeit('heapq.heapify(l)', globals=globals(), number=n) * 1e6 / n), \"us\")\n",
    "# O(N)\n",
    "l = [10, 3, 45, 99, 23, 4, 34, 74, 93, 18]\n",
    "print(\"priority: \", \"%.2f\" %(timeit('priority_min(l)', globals=globals(), number=n) * 1e6 / n), \"us\")\n"
   ]
  },
  {
   "cell_type": "markdown",
   "id": "252d94f5-cc77-4bf2-a39b-1d6254454783",
   "metadata": {},
   "source": [
    "### 5. Tries"
   ]
  },
  {
   "cell_type": "markdown",
   "id": "1e64ccf1-4dfc-4eec-bad3-d7cc18ba74be",
   "metadata": {},
   "source": [
    "Tries are extremely fast at matching a list of strings against a prefix. This is\n",
    "especially useful when implementing features such as search-as-you type and\n",
    "autocompletion, where the list of available completions is very large and short response\n",
    "times are required."
   ]
  },
  {
   "cell_type": "code",
   "execution_count": 40,
   "id": "f908c662-100a-41cc-811f-0c71334a271f",
   "metadata": {},
   "outputs": [
    {
     "data": {
      "text/plain": [
       "['ABOAEWSCROFVTHQSTMYHPWAWXKDFECYG',\n",
       " 'ABKJOOXWRELPVHOVUIHJLOIALXMCMCKH',\n",
       " 'ABPWVUCHAOYFZGCPZDLAVQSJURLYYBGN',\n",
       " 'ABUZGCMJPLEKLMXMBUFKXCQFMINNNUQL',\n",
       " 'ABUVEPTCSAHCHKKMYRPLAJYXZSBJUZVX',\n",
       " 'ABUBXAUYWFXCPMAUWETVRAGNTLJPAKWC',\n",
       " 'ABZWIQVVGYWRQQJTNDDEJGHERVWNLYJS',\n",
       " 'ABCXAISKVZNDXSETQMBNGVODTZOXMHTX',\n",
       " 'ABNSYTPJZQBHAOYYWQCATJAODGIASFHP',\n",
       " 'ABTVPVEYDFGPSUYKKTBJIDVPDNMARYFM',\n",
       " 'ABTCAFOPAALSYKVBYAYUSFJRKNGSSVVP',\n",
       " 'ABBYNDOUPWGVKWUODJSQDFZLBFYRNMHZ',\n",
       " 'ABSSCTYQGPNCXIREIINXOJWFKJXYRLCO',\n",
       " 'ABQHKBYUKFPFPVIWRGVTSMYVAIVIYNYP',\n",
       " 'ABJPFGBNIEHRLKRRKCSYVGUARQERJOSJ']"
      ]
     },
     "execution_count": 40,
     "metadata": {},
     "output_type": "execute_result"
    }
   ],
   "source": [
    "from random import choice\n",
    "from string import ascii_uppercase\n",
    "\n",
    "strings = [''.join(choice(ascii_uppercase) for j in range(32)) for i in range(10000)]\n",
    "\n",
    "from patricia import trie\n",
    "\n",
    "# build\n",
    "d = {s:0 for s in strings} # build a dict with all values à 0\n",
    "t = trie(**d)\n",
    "\n",
    "# query\n",
    "res = list(t.iter('AB'))\n",
    "res"
   ]
  },
  {
   "cell_type": "code",
   "execution_count": 42,
   "id": "0bf8ddb1-f0c2-48df-b88f-f266da97235b",
   "metadata": {},
   "outputs": [
    {
     "name": "stdout",
     "output_type": "stream",
     "text": [
      "linear:  345.50 us\n",
      "trie:  9.39 us\n"
     ]
    }
   ],
   "source": [
    "# comparison\n",
    "\n",
    "# O(N)\n",
    "print(\"linear: \", \"%.2f\" %(timeit(lambda: [s for s in strings if s.startswith('AB')] , globals=globals(), number=n) * 1e6 / n), \"us\")\n",
    "# O(S)\n",
    "print(\"trie: \", \"%.2f\" %(timeit(lambda: list(t.iter('AB')), globals=globals(), number=n) * 1e6 / n), \"us\")"
   ]
  },
  {
   "cell_type": "markdown",
   "id": "cab95900-0811-40b5-832d-10145c6ca773",
   "metadata": {},
   "source": [
    "## Caching"
   ]
  },
  {
   "cell_type": "markdown",
   "id": "6bf608a2-2d7e-4d30-8903-84da6e710f46",
   "metadata": {},
   "source": [
    "### 1. lru_cache"
   ]
  },
  {
   "cell_type": "code",
   "execution_count": 45,
   "id": "247522a4-8bc1-4fa0-abad-48e5a076c829",
   "metadata": {},
   "outputs": [
    {
     "name": "stdout",
     "output_type": "stream",
     "text": [
      "computing...\n",
      "first run:  3\n",
      "second run:  3\n"
     ]
    }
   ],
   "source": [
    "# memorization\n",
    "\n",
    "from functools import lru_cache\n",
    "\n",
    "@lru_cache()\n",
    "def add(a, b):\n",
    "    print(\"computing...\")\n",
    "    return a + b\n",
    "\n",
    "# first run with no caching\n",
    "print(\"first run: \", add(1, 2))\n",
    "\n",
    "\n",
    "# second run with caching, there will be no 'computing..' displayed\n",
    "print(\"second run: \",add(1, 2))\n"
   ]
  },
  {
   "cell_type": "code",
   "execution_count": 47,
   "id": "6f660136-6d40-4346-a7b3-14be16bb1b71",
   "metadata": {},
   "outputs": [
    {
     "data": {
      "text/plain": [
       "CacheInfo(hits=1, misses=1, maxsize=128, currsize=1)"
      ]
     },
     "execution_count": 47,
     "metadata": {},
     "output_type": "execute_result"
    }
   ],
   "source": [
    "# show the info\n",
    "add.cache_info()"
   ]
  },
  {
   "cell_type": "markdown",
   "id": "cecc367f-317b-4c2a-86b2-14c7baf3aa1a",
   "metadata": {},
   "source": [
    "### 2. Joblib\n",
    "\n",
    "on disk caching"
   ]
  },
  {
   "cell_type": "code",
   "execution_count": null,
   "id": "0d6ec7ff-824c-47cf-b738-a08119e00cb2",
   "metadata": {},
   "outputs": [],
   "source": [
    "from joblib import Memory\n",
    "\n",
    "mem = Memory(cachedir='path/to/the/cachedir')\n",
    "\n",
    "@mem.cache\n",
    "def add(a, b):\n",
    "    return a + b"
   ]
  },
  {
   "cell_type": "markdown",
   "id": "b38547d3-2a13-49d0-ad23-c6b2cc430c8b",
   "metadata": {},
   "source": [
    "### 3. Mem"
   ]
  },
  {
   "cell_type": "code",
   "execution_count": 59,
   "id": "4c9e38d0-6253-4d15-8595-3fc7b5dd6a92",
   "metadata": {},
   "outputs": [
    {
     "name": "stdout",
     "output_type": "stream",
     "text": [
      "loop:  0.4642 ms\n",
      "comprehension:  0.3767 ms\n",
      "generator:  0.4872 ms\n"
     ]
    }
   ],
   "source": [
    "# time\n",
    "# there is no significant difference between them \n",
    "\n",
    "n = 10000\n",
    "\n",
    "def forloop():\n",
    "    res = []\n",
    "    for i in range(n):\n",
    "        res.append(i)\n",
    "    s = sum(res)\n",
    "\n",
    "comprehension = lambda: sum([i for i in range(n)])\n",
    "\n",
    "generator = lambda: sum((i for i in range(n)))\n",
    "\n",
    "print(\"loop: \", \"%.4f\" %(timeit('forloop()', globals=globals(), number=n) * 1e3 / n), \"ms\")\n",
    "print(\"comprehension: \", \"%.4f\" %(timeit('comprehension()', globals=globals(), number=n) * 1e3 / n), \"ms\")\n",
    "print(\"generator: \", \"%.4f\" %(timeit('generator()', globals=globals(), number=n) * 1e3 / n), \"ms\")"
   ]
  },
  {
   "cell_type": "code",
   "execution_count": 7,
   "id": "927ee1a6-9a91-4249-8aaf-63130fb47035",
   "metadata": {},
   "outputs": [
    {
     "name": "stdout",
     "output_type": "stream",
     "text": [
      "peak memory: 140.42 MiB, increment: 67.51 MiB\n",
      "peak memory: 72.97 MiB, increment: 0.00 MiB\n"
     ]
    }
   ],
   "source": [
    "# mem\n",
    "# functions such as map and filter which take iteratables only triggered when the\n",
    "# iteration starts, but not when the function is called\n",
    "\n",
    "\n",
    "# here the memory is needed to store each variable after the calls of the comprehensions\n",
    "def ops_comprehension(l):\n",
    "    x1 = [i*3 for i in l]\n",
    "    x2 = [i**2 for i in x1]\n",
    "    x3 = [i-100 for i in x1]\n",
    "    return min(x3)\n",
    "\n",
    "# here the operations starts only when the final operation starts to execute\n",
    "def ops_map(l):\n",
    "    x1 = map(lambda x: x*3, l)\n",
    "    x2 = map(lambda x: x**2, x1)\n",
    "    x3 = map(lambda x: x-100, x2)\n",
    "    return min(x3)\n",
    "\n",
    "l = range(1000000)\n",
    "\n",
    "%memit ops_comprehension(l)\n",
    "%memit ops_map(l)"
   ]
  }
 ],
 "metadata": {
  "kernelspec": {
   "display_name": "Python 3 (ipykernel)",
   "language": "python",
   "name": "python3"
  },
  "language_info": {
   "codemirror_mode": {
    "name": "ipython",
    "version": 3
   },
   "file_extension": ".py",
   "mimetype": "text/x-python",
   "name": "python",
   "nbconvert_exporter": "python",
   "pygments_lexer": "ipython3",
   "version": "3.13.0"
  }
 },
 "nbformat": 4,
 "nbformat_minor": 5
}
