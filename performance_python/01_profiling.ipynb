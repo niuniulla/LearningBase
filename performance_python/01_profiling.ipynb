{
 "cells": [
  {
   "cell_type": "markdown",
   "metadata": {},
   "source": [
    "# Profiling"
   ]
  },
  {
   "cell_type": "markdown",
   "metadata": {},
   "source": [
    "The methods:\n",
    " - cProfile\n",
    " - line_profiler\n",
    " - dis\n",
    " - memory_profiler\n",
    " - time"
   ]
  },
  {
   "cell_type": "markdown",
   "metadata": {},
   "source": [
    "A simulation program example based on which we will test different profiling techniques."
   ]
  },
  {
   "cell_type": "code",
   "execution_count": 1,
   "metadata": {},
   "outputs": [],
   "source": [
    "from dataclasses import dataclass\n",
    "\n",
    "@dataclass\n",
    "class Vec2:\n",
    "    x : float\n",
    "    y : float\n",
    "\n",
    "class Object():\n",
    "    def __init__(self, mass, pos:Vec2, color, vel, acc):\n",
    "        self.mass = mass\n",
    "        self.pos = pos\n",
    "        self.vel = vel\n",
    "        self.acc = acc\n",
    "        self.color = color\n",
    "\n",
    "class Ball(Object):\n",
    "    def __init__(self, mass, pos, radius, color, vel=Vec2(0, 0), acc=Vec2(0, 0)):\n",
    "        super().__init__(mass, pos, color, vel, acc)\n",
    "        self.radius = radius\n",
    "    def move(self, dis:Vec2):\n",
    "        self.pos.x += dis.x\n",
    "        self.pos.y += dis.y\n",
    "\n",
    "class PhysicsEngin():\n",
    "    def __init__(self):\n",
    "        self.gravity = 6\n",
    "    def update_pos(self, dt, obj):\n",
    "        obj.vel.x += obj.acc.x * dt\n",
    "        obj.vel.y += obj.acc.y * dt\n",
    "        dx = obj.vel.x * dt + obj.acc.x * dt**2 / 2\n",
    "        dy = obj.vel.y * dt + obj.acc.y * dt**2 / 2\n",
    "        return Vec2(dx, dy)\n",
    "\n",
    "class Simulator():\n",
    "    def __init__(self, objs, engin):\n",
    "        self.objs = objs\n",
    "        self.engin = engin\n",
    "    def simulate(self, dt):\n",
    "        for obj in self.objs:\n",
    "            dis = self.engin.update_pos(dt, obj)\n",
    "            obj.move(dis)\n",
    "    def get_objs(self):\n",
    "        return self.objs"
   ]
  },
  {
   "cell_type": "code",
   "execution_count": 2,
   "metadata": {},
   "outputs": [
    {
     "name": "stdout",
     "output_type": "stream",
     "text": [
      "pygame 2.6.1 (SDL 2.28.4, Python 3.13.1)\n",
      "Hello from the pygame community. https://www.pygame.org/contribute.html\n"
     ]
    }
   ],
   "source": [
    "import pygame\n",
    "import sys\n",
    "\n",
    "def visualize(simulator):\n",
    "    pygame.init() \n",
    "    \n",
    "    # CREATING CANVAS \n",
    "    canvas = pygame.display.set_mode((800, 800)) \n",
    "    \n",
    "    # TITLE OF CANVAS \n",
    "    pygame.display.set_caption(\"My Board\") \n",
    "    exit = False\n",
    "\n",
    "    # Game Loop\n",
    "    while not exit: \n",
    "        for event in pygame.event.get(): \n",
    "            if event.type == pygame.QUIT: \n",
    "                exit = True\n",
    "        \n",
    "        canvas.fill((0,0,0))\n",
    "        simulator.simulate(0.1)\n",
    "        for obj in simulator.get_objs():\n",
    "            pygame.draw.circle(canvas, obj.color, (int(obj.pos.x), int(obj.pos.y)), obj.radius, 40)  # draw circle at current position\n",
    "        \n",
    "        if event.type == pygame.QUIT:\n",
    "                pygame.display.quit()\n",
    "                pygame.quit()\n",
    "                sys.exit()\n",
    "        \n",
    "        pygame.display.flip() "
   ]
  },
  {
   "cell_type": "code",
   "execution_count": 3,
   "metadata": {},
   "outputs": [
    {
     "ename": "SystemExit",
     "evalue": "",
     "output_type": "error",
     "traceback": [
      "An exception has occurred, use %tb to see the full traceback.\n",
      "\u001b[31mSystemExit\u001b[39m\n"
     ]
    },
    {
     "name": "stderr",
     "output_type": "stream",
     "text": [
      "/home/niuniu/Documents/DL_pytorch/high_performance_python/env/lib64/python3.13/site-packages/IPython/core/interactiveshell.py:3557: UserWarning: To exit: use 'exit', 'quit', or Ctrl-D.\n",
      "  warn(\"To exit: use 'exit', 'quit', or Ctrl-D.\", stacklevel=1)\n"
     ]
    }
   ],
   "source": [
    "# create ball\n",
    "ball = Ball(1, Vec2(50, 50), 20, (255,0,0))\n",
    "ball.vel = Vec2(50, -30)\n",
    "ball.acc = Vec2(0, 10)\n",
    "physics = PhysicsEngin()\n",
    "simulator = Simulator([ball]*1, physics)\n",
    "visualize(simulator)"
   ]
  },
  {
   "cell_type": "markdown",
   "metadata": {},
   "source": [
    "## Profiling"
   ]
  },
  {
   "cell_type": "markdown",
   "metadata": {},
   "source": [
    "### cProfile\n",
    "\n",
    "1. Install\n",
    "\n",
    "It is normally included in the Python's standard library.\n",
    "\n",
    "2. Usage\n",
    "\n",
    "The cProfile module can be used in three different ways:\n",
    " - From the command line\n",
    " ```python\n",
    " # used on the targetted program file\n",
    " python -m cProfile program.py\n",
    "\n",
    " # sort results\n",
    " python -m cProfile -s tottime program.py\n",
    "\n",
    " # output to a file\n",
    " python -m cProfile -o profile.out program.py\n",
    " ```\n",
    " - As a Python module\n",
    " ```python\n",
    " # used on a function\n",
    " import cProfile\n",
    " cProfile.run(\"function()\")\n",
    "\n",
    " # wrap a code section\n",
    " pr = cProfile.Profile()\n",
    " pr.enable()\n",
    " benchmark()\n",
    " pr.disable()\n",
    " pr.print_stats()\n",
    " ```\n",
    " - With IPython\n",
    " ```bash\n",
    " # used on a function\n",
    " In [1]: %prun function()\n",
    " ```\n",
    "3. output\n",
    "\n",
    " - ncalls: The number of times the function was called.\n",
    " - tottime: The total time spent in the function without taking into account the\n",
    "calls to other functions.\n",
    " - cumtime: The time in the function including other function calls.\n",
    " - percall: The time spent for a single call of the function--it can be obtained by\n",
    "dividing the total or cumulative time by the number of calls.\n",
    " - filename:lineno: The filename and corresponding line numbers. This\n",
    "information is not available when calling C extensions modules.\n",
    "\n",
    "4. display\n",
    "\n",
    "The output can be displayed in various ways:\n",
    " - text format\n",
    " - graph format\n",
    "   - KCachegrind: \n",
    "   - Gprof2Dot: https://github.com/jrfonseca/gprof2dot\n"
   ]
  },
  {
   "cell_type": "code",
   "execution_count": 14,
   "metadata": {},
   "outputs": [],
   "source": [
    "def factorial(n):\n",
    "    if n == 0:\n",
    "        return 1.0\n",
    "    else:\n",
    "        return n * factorial(n-1)\n",
    "\n",
    "\n",
    "def taylor_exp(n):\n",
    "    return [1.0/factorial(i) for i in range(n)]\n",
    "\n",
    "def taylor_sin(n):\n",
    "    res = []\n",
    "    for i in range(n):\n",
    "        if i % 2 == 1:\n",
    "            res.append((-1)**((i-1)/2)/float(factorial(i)))\n",
    "        else:\n",
    "            res.append(0.0)\n",
    "    return res\n",
    "\n",
    "def benchmark():\n",
    "    taylor_exp(500)\n",
    "    taylor_sin(500)"
   ]
  },
  {
   "cell_type": "code",
   "execution_count": 12,
   "metadata": {},
   "outputs": [
    {
     "name": "stdout",
     "output_type": "stream",
     "text": [
      "         188978 function calls (1724 primitive calls) in 0.121 seconds\n",
      "\n",
      "   Ordered by: standard name\n",
      "\n",
      "   ncalls  tottime  percall  cumtime  percall filename:lineno(function)\n",
      "188000/750    0.118    0.000    0.118    0.000 1056927676.py:1(factorial)\n",
      "        1    0.001    0.001    0.042    0.042 1056927676.py:11(taylor_sin)\n",
      "        1    0.000    0.000    0.069    0.069 1056927676.py:20(benchmark)\n",
      "        1    0.000    0.000    0.027    0.027 1056927676.py:8(taylor_exp)\n",
      "        2    0.000    0.000    0.000    0.000 <frozen abc>:121(__subclasscheck__)\n",
      "        3    0.000    0.000    0.000    0.000 <frozen importlib._bootstrap>:1390(_handle_fromlist)\n",
      "        1    0.000    0.000    0.069    0.069 <string>:1(<module>)\n",
      "        1    0.000    0.000    0.000    0.000 asyncio.py:225(add_callback)\n",
      "        3    0.000    0.000    0.000    0.000 attrsettr.py:43(__getattr__)\n",
      "        3    0.000    0.000    0.000    0.000 attrsettr.py:66(_get_attr_opt)\n",
      "        1    0.000    0.000    0.016    0.016 base_events.py:1953(_run_once)\n",
      "        1    0.000    0.000    0.000    0.000 base_events.py:2051(get_debug)\n",
      "        1    0.000    0.000    0.000    0.000 base_events.py:549(_check_closed)\n",
      "        2    0.000    0.000    0.000    0.000 base_events.py:767(time)\n",
      "        1    0.000    0.000    0.000    0.000 base_events.py:818(call_soon)\n",
      "        1    0.000    0.000    0.000    0.000 base_events.py:847(_call_soon)\n",
      "        1    0.000    0.000    0.000    0.000 contextlib.py:108(__init__)\n",
      "        1    0.000    0.000    0.000    0.000 contextlib.py:136(__enter__)\n",
      "        1    0.000    0.000    0.000    0.000 contextlib.py:145(__exit__)\n",
      "        1    0.000    0.000    0.000    0.000 contextlib.py:303(helper)\n",
      "        1    0.000    0.000    0.000    0.000 decorator.py:200(fix)\n",
      "       22    0.000    0.000    0.000    0.000 enum.py:1152(__new__)\n",
      "       54    0.000    0.000    0.000    0.000 enum.py:1585(_get_value)\n",
      "       13    0.000    0.000    0.000    0.000 enum.py:1592(__or__)\n",
      "        5    0.000    0.000    0.000    0.000 enum.py:1603(__and__)\n",
      "       22    0.000    0.000    0.000    0.000 enum.py:695(__call__)\n",
      "        1    0.000    0.000    0.000    0.000 events.py:36(__init__)\n",
      "        1    0.000    0.000    0.016    0.016 events.py:87(_run)\n",
      "        1    0.000    0.000    0.026    0.026 history.py:1007(writeout_cache)\n",
      "        2    0.000    0.000    0.000    0.000 history.py:1048(hold)\n",
      "        1    0.000    0.000    0.026    0.026 history.py:991(_writeout_input_cache)\n",
      "        1    0.000    0.000    0.000    0.000 history.py:999(_writeout_output_cache)\n",
      "        4    0.000    0.000    0.000    0.000 inspect.py:2779(name)\n",
      "       10    0.000    0.000    0.000    0.000 inspect.py:2791(kind)\n",
      "        1    0.000    0.000    0.000    0.000 inspect.py:2873(__init__)\n",
      "        1    0.000    0.000    0.000    0.000 inspect.py:2881(args)\n",
      "        1    0.000    0.000    0.000    0.000 inspect.py:2904(kwargs)\n",
      "        1    0.000    0.000    0.000    0.000 inspect.py:2934(apply_defaults)\n",
      "        4    0.000    0.000    0.000    0.000 inspect.py:3074(parameters)\n",
      "        1    0.000    0.000    0.000    0.000 inspect.py:3120(_bind)\n",
      "        1    0.000    0.000    0.000    0.000 inspect.py:3259(bind)\n",
      "        1    0.000    0.000    0.016    0.016 ioloop.py:742(_run_callback)\n",
      "        1    0.000    0.000    0.016    0.016 iostream.py:157(_handle_event)\n",
      "        1    0.000    0.000    0.000    0.000 iostream.py:213(_is_master_process)\n",
      "        1    0.000    0.000    0.000    0.000 iostream.py:216(_check_mp_mode)\n",
      "        1    0.000    0.000    0.000    0.000 iostream.py:255(closed)\n",
      "        1    0.000    0.000    0.016    0.016 iostream.py:276(<lambda>)\n",
      "        1    0.000    0.000    0.016    0.016 iostream.py:278(_really_send)\n",
      "        2    0.000    0.000    0.000    0.000 queue.py:115(empty)\n",
      "        2    0.000    0.000    0.000    0.000 queue.py:267(_qsize)\n",
      "        1    0.000    0.000    0.000    0.000 selector_events.py:740(_process_events)\n",
      "        1    0.000    0.000    0.000    0.000 selectors.py:435(select)\n",
      "       13    0.001    0.000    0.021    0.002 socket.py:635(send)\n",
      "        1    0.000    0.000    0.016    0.016 socket.py:712(send_multipart)\n",
      "        1    0.000    0.000    0.000    0.000 socket.py:783(recv_multipart)\n",
      "        2    0.000    0.000    0.000    0.000 threading.py:303(__enter__)\n",
      "        2    0.000    0.000    0.000    0.000 threading.py:306(__exit__)\n",
      "        1    0.000    0.000    0.000    0.000 threading.py:312(_release_save)\n",
      "        1    0.000    0.000    0.000    0.000 threading.py:315(_acquire_restore)\n",
      "        1    0.000    0.000    0.000    0.000 threading.py:318(_is_owned)\n",
      "        1    0.000    0.000    0.000    0.000 threading.py:631(clear)\n",
      "        1    0.000    0.000    0.000    0.000 traitlets.py:1512(_notify_trait)\n",
      "        1    0.000    0.000    0.000    0.000 traitlets.py:1523(notify_change)\n",
      "        1    0.000    0.000    0.000    0.000 traitlets.py:1527(_notify_observers)\n",
      "        2    0.000    0.000    0.000    0.000 traitlets.py:2304(validate)\n",
      "        2    0.000    0.000    0.000    0.000 traitlets.py:3474(validate)\n",
      "        2    0.000    0.000    0.000    0.000 traitlets.py:3486(validate_elements)\n",
      "        2    0.000    0.000    0.000    0.000 traitlets.py:3624(validate_elements)\n",
      "        2    0.000    0.000    0.000    0.000 traitlets.py:3631(set)\n",
      "        4    0.000    0.000    0.000    0.000 traitlets.py:629(get)\n",
      "        4    0.000    0.000    0.000    0.000 traitlets.py:676(__get__)\n",
      "        2    0.000    0.000    0.000    0.000 traitlets.py:689(set)\n",
      "        2    0.000    0.000    0.000    0.000 traitlets.py:708(__set__)\n",
      "        2    0.000    0.000    0.000    0.000 traitlets.py:718(_validate)\n",
      "        2    0.000    0.000    0.000    0.000 traitlets.py:727(_cross_validate)\n",
      "        2    0.000    0.000    0.000    0.000 typing.py:1374(__instancecheck__)\n",
      "        2    0.000    0.000    0.000    0.000 typing.py:1443(__hash__)\n",
      "        2    0.000    0.000    0.000    0.000 typing.py:1665(__subclasscheck__)\n",
      "       19    0.000    0.000    0.000    0.000 typing.py:2367(cast)\n",
      "        3    0.000    0.000    0.000    0.000 typing.py:426(inner)\n",
      "        3    0.000    0.000    0.000    0.000 zmqstream.py:528(receiving)\n",
      "        2    0.000    0.000    0.000    0.000 zmqstream.py:532(sending)\n",
      "        1    0.000    0.000    0.016    0.016 zmqstream.py:546(_run_callback)\n",
      "        1    0.000    0.000    0.016    0.016 zmqstream.py:573(_handle_events)\n",
      "        1    0.000    0.000    0.016    0.016 zmqstream.py:614(_handle_recv)\n",
      "        2    0.000    0.000    0.000    0.000 zmqstream.py:653(_rebuild_io_state)\n",
      "        2    0.000    0.000    0.000    0.000 zmqstream.py:676(_update_handler)\n",
      "        1    0.000    0.000    0.016    0.016 zmqstream.py:684(<lambda>)\n",
      "        2    0.000    0.000    0.000    0.000 {built-in method _abc._abc_subclasscheck}\n",
      "        1    0.000    0.000    0.000    0.000 {built-in method _asyncio.get_running_loop}\n",
      "        1    0.000    0.000    0.000    0.000 {built-in method _contextvars.copy_context}\n",
      "        1    0.000    0.000    0.000    0.000 {built-in method _thread.allocate_lock}\n",
      "        4    0.000    0.000    0.000    0.000 {built-in method builtins.getattr}\n",
      "        8    0.000    0.000    0.000    0.000 {built-in method builtins.hasattr}\n",
      "        2    0.000    0.000    0.000    0.000 {built-in method builtins.hash}\n",
      "  113/109    0.000    0.000    0.000    0.000 {built-in method builtins.isinstance}\n",
      "        2    0.000    0.000    0.000    0.000 {built-in method builtins.issubclass}\n",
      "        2    0.000    0.000    0.000    0.000 {built-in method builtins.iter}\n",
      "       10    0.000    0.000    0.000    0.000 {built-in method builtins.len}\n",
      "        8    0.000    0.000    0.000    0.000 {built-in method builtins.next}\n",
      "        1    0.000    0.000    0.000    0.000 {built-in method math.ceil}\n",
      "        1    0.000    0.000    0.000    0.000 {built-in method posix.getpid}\n",
      "        2    0.000    0.000    0.000    0.000 {built-in method time.monotonic}\n",
      "        2    0.000    0.000    0.000    0.000 {method '__enter__' of '_thread.lock' objects}\n",
      "        6    0.000    0.000    0.000    0.000 {method '__exit__' of '_thread.lock' objects}\n",
      "        2    0.000    0.000    0.026    0.013 {method '__exit__' of 'sqlite3.Connection' objects}\n",
      "        3    0.000    0.000    0.000    0.000 {method 'acquire' of '_thread.lock' objects}\n",
      "        2    0.000    0.000    0.000    0.000 {method 'append' of 'collections.deque' objects}\n",
      "      504    0.000    0.000    0.000    0.000 {method 'append' of 'list' objects}\n",
      "        1    0.000    0.000    0.000    0.000 {method 'disable' of '_lsprof.Profiler' objects}\n",
      "        1    0.000    0.000    0.000    0.000 {method 'execute' of 'sqlite3.Connection' objects}\n",
      "        2    0.000    0.000    0.000    0.000 {method 'extend' of 'list' objects}\n",
      "        4    0.000    0.000    0.000    0.000 {method 'get' of 'dict' objects}\n",
      "        3    0.000    0.000    0.000    0.000 {method 'items' of 'mappingproxy' objects}\n",
      "        1    0.000    0.000    0.000    0.000 {method 'poll' of 'select.epoll' objects}\n",
      "        2    0.000    0.000    0.000    0.000 {method 'popleft' of 'collections.deque' objects}\n",
      "        1    0.000    0.000    0.000    0.000 {method 'release' of '_thread.lock' objects}\n",
      "        1    0.000    0.000    0.016    0.016 {method 'run' of '_contextvars.Context' objects}\n",
      "        3    0.000    0.000    0.000    0.000 {method 'upper' of 'str' objects}\n",
      "        1    0.000    0.000    0.000    0.000 {method 'values' of 'mappingproxy' objects}\n",
      "\n",
      "\n"
     ]
    }
   ],
   "source": [
    "# module call\n",
    "import cProfile\n",
    "cProfile.run(\"benchmark()\")"
   ]
  },
  {
   "cell_type": "code",
   "execution_count": 35,
   "metadata": {},
   "outputs": [
    {
     "name": "stdout",
     "output_type": "stream",
     "text": [
      " "
     ]
    },
    {
     "name": "stdout",
     "output_type": "stream",
     "text": [
      "         188978 function calls (1724 primitive calls) in 0.117 seconds\n",
      "\n",
      "   Ordered by: internal time\n",
      "\n",
      "   ncalls  tottime  percall  cumtime  percall filename:lineno(function)\n",
      "188000/750    0.114    0.000    0.125    0.000 1056927676.py:1(factorial)\n",
      "        1    0.001    0.001    0.035    0.035 1056927676.py:11(taylor_sin)\n",
      "       13    0.000    0.000    0.016    0.001 socket.py:635(send)\n",
      "      504    0.000    0.000    0.000    0.000 {method 'append' of 'list' objects}\n",
      "        2    0.000    0.000    0.038    0.019 {method '__exit__' of 'sqlite3.Connection' objects}\n",
      "        1    0.000    0.000    0.024    0.024 1056927676.py:8(taylor_exp)\n",
      "        1    0.000    0.000    0.000    0.000 {method 'disable' of '_lsprof.Profiler' objects}\n",
      "       54    0.000    0.000    0.000    0.000 enum.py:1585(_get_value)\n",
      "  113/109    0.000    0.000    0.000    0.000 {built-in method builtins.isinstance}\n",
      "       13    0.000    0.000    0.000    0.000 enum.py:1592(__or__)\n",
      "        3    0.000    0.000    0.000    0.000 attrsettr.py:66(_get_attr_opt)\n",
      "        3    0.000    0.000    0.000    0.000 attrsettr.py:43(__getattr__)\n",
      "       22    0.000    0.000    0.000    0.000 enum.py:695(__call__)\n",
      "        1    0.000    0.000    0.059    0.059 1056927676.py:20(benchmark)\n",
      "        5    0.000    0.000    0.000    0.000 enum.py:1603(__and__)\n",
      "        1    0.000    0.000    0.038    0.038 history.py:1007(writeout_cache)\n",
      "        1    0.000    0.000    0.000    0.000 inspect.py:3120(_bind)\n",
      "        2    0.000    0.000    0.000    0.000 traitlets.py:689(set)\n",
      "       22    0.000    0.000    0.000    0.000 enum.py:1152(__new__)\n",
      "        2    0.000    0.000    0.000    0.000 zmqstream.py:653(_rebuild_io_state)\n",
      "        1    0.000    0.000    0.000    0.000 {method 'execute' of 'sqlite3.Connection' objects}\n",
      "        1    0.000    0.000    0.000    0.000 traitlets.py:1527(_notify_observers)\n",
      "        1    0.000    0.000    0.000    0.000 socket.py:783(recv_multipart)\n",
      "        2    0.000    0.000    0.000    0.000 zmqstream.py:676(_update_handler)\n",
      "        2    0.000    0.000    0.000    0.000 traitlets.py:3631(set)\n",
      "        2    0.000    0.000    0.000    0.000 typing.py:1665(__subclasscheck__)\n",
      "       10    0.000    0.000    0.000    0.000 {built-in method builtins.len}\n",
      "        1    0.000    0.000    0.000    0.000 asyncio.py:225(add_callback)\n",
      "        2    0.000    0.000    0.000    0.000 queue.py:115(empty)\n",
      "        1    0.000    0.000    0.000    0.000 zmqstream.py:546(_run_callback)\n",
      "        1    0.000    0.000    0.000    0.000 threading.py:318(_is_owned)\n",
      "        1    0.000    0.000    0.000    0.000 threading.py:315(_acquire_restore)\n",
      "        2    0.000    0.000    0.000    0.000 typing.py:1374(__instancecheck__)\n",
      "        8    0.000    0.000    0.000    0.000 {built-in method builtins.hasattr}\n",
      "        1    0.000    0.000    0.000    0.000 zmqstream.py:573(_handle_events)\n",
      "        4    0.000    0.000    0.000    0.000 {built-in method builtins.getattr}\n",
      "        1    0.000    0.000    0.000    0.000 inspect.py:2934(apply_defaults)\n",
      "        8    0.000    0.000    0.000    0.000 {built-in method builtins.next}\n",
      "        3    0.000    0.000    0.000    0.000 <frozen importlib._bootstrap>:1390(_handle_fromlist)\n",
      "        1    0.000    0.000    0.000    0.000 contextlib.py:108(__init__)\n",
      "        2    0.000    0.000    0.000    0.000 {built-in method _abc._abc_subclasscheck}\n",
      "        2    0.000    0.000    0.000    0.000 traitlets.py:727(_cross_validate)\n",
      "        3    0.000    0.000    0.000    0.000 typing.py:426(inner)\n",
      "        1    0.000    0.000    0.000    0.000 decorator.py:200(fix)\n",
      "        2    0.000    0.000    0.000    0.000 traitlets.py:3474(validate)\n",
      "        2    0.000    0.000    0.000    0.000 traitlets.py:3624(validate_elements)\n",
      "        4    0.000    0.000    0.000    0.000 traitlets.py:676(__get__)\n",
      "        1    0.000    0.000    0.000    0.000 traitlets.py:1512(_notify_trait)\n",
      "        2    0.000    0.000    0.000    0.000 traitlets.py:718(_validate)\n",
      "        1    0.000    0.000    0.000    0.000 base_events.py:847(_call_soon)\n",
      "        1    0.000    0.000    0.000    0.000 {method 'poll' of 'select.epoll' objects}\n",
      "        1    0.000    0.000    0.000    0.000 base_events.py:1953(_run_once)\n",
      "        1    0.000    0.000    0.000    0.000 iostream.py:278(_really_send)\n",
      "        1    0.000    0.000    0.000    0.000 inspect.py:3259(bind)\n",
      "        2    0.000    0.000    0.000    0.000 traitlets.py:708(__set__)\n",
      "        4    0.000    0.000    0.000    0.000 traitlets.py:629(get)\n",
      "        2    0.000    0.000    0.000    0.000 {built-in method builtins.issubclass}\n",
      "        1    0.000    0.000    0.000    0.000 contextlib.py:303(helper)\n",
      "        2    0.000    0.000    0.000    0.000 <frozen abc>:121(__subclasscheck__)\n",
      "        1    0.000    0.000    0.038    0.038 history.py:991(_writeout_input_cache)\n",
      "        1    0.000    0.000    0.000    0.000 inspect.py:2881(args)\n",
      "        2    0.000    0.000    0.000    0.000 traitlets.py:2304(validate)\n",
      "        1    0.000    0.000    0.000    0.000 contextlib.py:145(__exit__)\n",
      "        1    0.000    0.000    0.000    0.000 selectors.py:435(select)\n",
      "        3    0.000    0.000    0.000    0.000 {method 'acquire' of '_thread.lock' objects}\n",
      "        2    0.000    0.000    0.000    0.000 zmqstream.py:532(sending)\n",
      "        1    0.000    0.000    0.059    0.059 <string>:1(<module>)\n",
      "        2    0.000    0.000    0.000    0.000 base_events.py:767(time)\n",
      "        6    0.000    0.000    0.000    0.000 {method '__exit__' of '_thread.lock' objects}\n",
      "        2    0.000    0.000    0.000    0.000 threading.py:306(__exit__)\n",
      "        1    0.000    0.000    0.000    0.000 iostream.py:276(<lambda>)\n",
      "        1    0.000    0.000    0.000    0.000 events.py:36(__init__)\n",
      "        2    0.000    0.000    0.000    0.000 queue.py:267(_qsize)\n",
      "        1    0.000    0.000    0.000    0.000 history.py:999(_writeout_output_cache)\n",
      "        1    0.000    0.000    0.000    0.000 ioloop.py:742(_run_callback)\n",
      "        1    0.000    0.000    0.000    0.000 traitlets.py:1523(notify_change)\n",
      "        2    0.000    0.000    0.000    0.000 typing.py:1443(__hash__)\n",
      "        3    0.000    0.000    0.000    0.000 {method 'upper' of 'str' objects}\n",
      "        1    0.000    0.000    0.000    0.000 contextlib.py:136(__enter__)\n",
      "        2    0.000    0.000    0.000    0.000 traitlets.py:3486(validate_elements)\n",
      "        1    0.000    0.000    0.000    0.000 {method 'run' of '_contextvars.Context' objects}\n",
      "       19    0.000    0.000    0.000    0.000 typing.py:2367(cast)\n",
      "        1    0.000    0.000    0.000    0.000 base_events.py:818(call_soon)\n",
      "        1    0.000    0.000    0.000    0.000 inspect.py:2904(kwargs)\n",
      "        1    0.000    0.000    0.000    0.000 iostream.py:213(_is_master_process)\n",
      "        1    0.000    0.000    0.000    0.000 threading.py:312(_release_save)\n",
      "        1    0.000    0.000    0.000    0.000 socket.py:712(send_multipart)\n",
      "        2    0.000    0.000    0.000    0.000 {built-in method time.monotonic}\n",
      "        2    0.000    0.000    0.000    0.000 threading.py:303(__enter__)\n",
      "        1    0.000    0.000    0.000    0.000 events.py:87(_run)\n",
      "        1    0.000    0.000    0.000    0.000 threading.py:631(clear)\n",
      "        1    0.000    0.000    0.000    0.000 iostream.py:157(_handle_event)\n",
      "        4    0.000    0.000    0.000    0.000 {method 'get' of 'dict' objects}\n",
      "        1    0.000    0.000    0.000    0.000 zmqstream.py:614(_handle_recv)\n",
      "        1    0.000    0.000    0.000    0.000 iostream.py:216(_check_mp_mode)\n",
      "       10    0.000    0.000    0.000    0.000 inspect.py:2791(kind)\n",
      "        3    0.000    0.000    0.000    0.000 {method 'items' of 'mappingproxy' objects}\n",
      "        1    0.000    0.000    0.000    0.000 {built-in method math.ceil}\n",
      "        3    0.000    0.000    0.000    0.000 zmqstream.py:528(receiving)\n",
      "        1    0.000    0.000    0.000    0.000 {method 'values' of 'mappingproxy' objects}\n",
      "        2    0.000    0.000    0.000    0.000 {method '__enter__' of '_thread.lock' objects}\n",
      "        2    0.000    0.000    0.000    0.000 history.py:1048(hold)\n",
      "        1    0.000    0.000    0.000    0.000 zmqstream.py:684(<lambda>)\n",
      "        2    0.000    0.000    0.000    0.000 {built-in method builtins.iter}\n",
      "        2    0.000    0.000    0.000    0.000 {method 'append' of 'collections.deque' objects}\n",
      "        2    0.000    0.000    0.000    0.000 {method 'extend' of 'list' objects}\n",
      "        1    0.000    0.000    0.000    0.000 {built-in method posix.getpid}\n",
      "        1    0.000    0.000    0.000    0.000 {built-in method _contextvars.copy_context}\n",
      "        1    0.000    0.000    0.000    0.000 {built-in method _asyncio.get_running_loop}\n",
      "        2    0.000    0.000    0.000    0.000 {method 'popleft' of 'collections.deque' objects}\n",
      "        2    0.000    0.000    0.000    0.000 {built-in method builtins.hash}\n",
      "        4    0.000    0.000    0.000    0.000 inspect.py:2779(name)\n",
      "        1    0.000    0.000    0.000    0.000 {built-in method _thread.allocate_lock}\n",
      "        4    0.000    0.000    0.000    0.000 inspect.py:3074(parameters)\n",
      "        1    0.000    0.000    0.000    0.000 iostream.py:255(closed)\n",
      "        1    0.000    0.000    0.000    0.000 selector_events.py:740(_process_events)\n",
      "        1    0.000    0.000    0.000    0.000 base_events.py:549(_check_closed)\n",
      "        1    0.000    0.000    0.000    0.000 {method 'release' of '_thread.lock' objects}\n",
      "        1    0.000    0.000    0.000    0.000 inspect.py:2873(__init__)\n",
      "        1    0.000    0.000    0.000    0.000 base_events.py:2051(get_debug)"
     ]
    }
   ],
   "source": [
    "# python call\n",
    "%prun benchmark()"
   ]
  },
  {
   "cell_type": "markdown",
   "metadata": {},
   "source": [
    "### line_profile\n",
    "\n",
    "1. Install\n",
    "\n",
    "https://github.com/rkern/line_profiler\n",
    "\n",
    "2. Usage\n",
    "\n",
    " - Command: Use a decorator '@profile' and the command 'kernprof.py'\n",
    " ```bash\n",
    "  $ kernprof.py -l -v program.py\n",
    " ```\n",
    "\n",
    " - IPython: Use the magic command 'lprun'\n",
    " ```bash\n",
    "  # load the line_profiler extension, called only once\n",
    "  %load_ext line_profiler\n",
    "\n",
    "  # run the benchmark\n",
    "  %lprun -f line_func_name function\n",
    " ```"
   ]
  },
  {
   "cell_type": "code",
   "execution_count": 4,
   "metadata": {},
   "outputs": [],
   "source": [
    "# use IPython\n",
    "%load_ext line_profiler"
   ]
  },
  {
   "cell_type": "code",
   "execution_count": 15,
   "metadata": {},
   "outputs": [
    {
     "name": "stdout",
     "output_type": "stream",
     "text": [
      "Timer unit: 1e-09 s\n",
      "\n",
      "Total time: 0.0889663 s\n",
      "File: /tmp/ipykernel_3617672/1056927676.py\n",
      "Function: taylor_exp at line 8\n",
      "\n",
      "Line #      Hits         Time  Per Hit   % Time  Line Contents\n",
      "==============================================================\n",
      "     8                                           def taylor_exp(n):\n",
      "     9       501   88966265.0 177577.4    100.0      return [1.0/factorial(i) for i in range(n)]"
     ]
    }
   ],
   "source": [
    "# run profile\n",
    "%lprun -f taylor_exp benchmark()"
   ]
  },
  {
   "cell_type": "code",
   "execution_count": 31,
   "metadata": {},
   "outputs": [
    {
     "name": "stdout",
     "output_type": "stream",
     "text": [
      "*** SystemExit exception caught in code being profiled."
     ]
    },
    {
     "name": "stdout",
     "output_type": "stream",
     "text": [
      "Timer unit: 1e-09 s\n",
      "\n",
      "Total time: 0.0230864 s\n",
      "File: /tmp/ipykernel_3641964/3309637629.py\n",
      "Function: simulate at line 38\n",
      "\n",
      "Line #      Hits         Time  Per Hit   % Time  Line Contents\n",
      "==============================================================\n",
      "    38                                               def simulate(self, dt):\n",
      "    39      1154    4414862.0   3825.7     19.1          for obj in self.objs:\n",
      "    40       577   16046739.0  27810.6     69.5              dis = self.engin.update_pos(dt, obj)\n",
      "    41       577    2624820.0   4549.1     11.4              obj.move(dis)"
     ]
    }
   ],
   "source": [
    "# run on the example program\n",
    "%lprun -f Simulator.simulate visualize(simulator)"
   ]
  },
  {
   "cell_type": "markdown",
   "metadata": {},
   "source": [
    "## dis"
   ]
  },
  {
   "cell_type": "markdown",
   "metadata": {},
   "source": [
    "It allows to inspect the code by th bytecode instructions."
   ]
  },
  {
   "cell_type": "code",
   "execution_count": 17,
   "metadata": {},
   "outputs": [
    {
     "name": "stdout",
     "output_type": "stream",
     "text": [
      " 27           RESUME                   0\n",
      "\n",
      " 28           LOAD_FAST                2 (obj)\n",
      "              LOAD_ATTR                0 (vel)\n",
      "              COPY                     1\n",
      "              LOAD_ATTR                2 (x)\n",
      "              LOAD_FAST                2 (obj)\n",
      "              LOAD_ATTR                4 (acc)\n",
      "              LOAD_ATTR                2 (x)\n",
      "              LOAD_FAST                1 (dt)\n",
      "              BINARY_OP                5 (*)\n",
      "              BINARY_OP               13 (+=)\n",
      "              SWAP                     2\n",
      "              STORE_ATTR               1 (x)\n",
      "\n",
      " 29           LOAD_FAST                2 (obj)\n",
      "              LOAD_ATTR                0 (vel)\n",
      "              COPY                     1\n",
      "              LOAD_ATTR                6 (y)\n",
      "              LOAD_FAST                2 (obj)\n",
      "              LOAD_ATTR                4 (acc)\n",
      "              LOAD_ATTR                6 (y)\n",
      "              LOAD_FAST                1 (dt)\n",
      "              BINARY_OP                5 (*)\n",
      "              BINARY_OP               13 (+=)\n",
      "              SWAP                     2\n",
      "              STORE_ATTR               3 (y)\n",
      "\n",
      " 30           LOAD_FAST                2 (obj)\n",
      "              LOAD_ATTR                0 (vel)\n",
      "              LOAD_ATTR                2 (x)\n",
      "              LOAD_FAST                1 (dt)\n",
      "              BINARY_OP                5 (*)\n",
      "              LOAD_FAST                2 (obj)\n",
      "              LOAD_ATTR                4 (acc)\n",
      "              LOAD_ATTR                2 (x)\n",
      "              LOAD_FAST                1 (dt)\n",
      "              LOAD_CONST               1 (2)\n",
      "              BINARY_OP                8 (**)\n",
      "              BINARY_OP                5 (*)\n",
      "              LOAD_CONST               1 (2)\n",
      "              BINARY_OP               11 (/)\n",
      "              BINARY_OP                0 (+)\n",
      "              STORE_FAST               3 (dx)\n",
      "\n",
      " 31           LOAD_FAST                2 (obj)\n",
      "              LOAD_ATTR                0 (vel)\n",
      "              LOAD_ATTR                6 (y)\n",
      "              LOAD_FAST                1 (dt)\n",
      "              BINARY_OP                5 (*)\n",
      "              LOAD_FAST                2 (obj)\n",
      "              LOAD_ATTR                4 (acc)\n",
      "              LOAD_ATTR                6 (y)\n",
      "              LOAD_FAST                1 (dt)\n",
      "              LOAD_CONST               1 (2)\n",
      "              BINARY_OP                8 (**)\n",
      "              BINARY_OP                5 (*)\n",
      "              LOAD_CONST               1 (2)\n",
      "              BINARY_OP               11 (/)\n",
      "              BINARY_OP                0 (+)\n",
      "              STORE_FAST               4 (dy)\n",
      "\n",
      " 32           LOAD_GLOBAL              9 (Vec2 + NULL)\n",
      "              LOAD_FAST_LOAD_FAST     52 (dx, dy)\n",
      "              CALL                     2\n",
      "              RETURN_VALUE\n"
     ]
    }
   ],
   "source": [
    "import dis\n",
    "dis.dis(PhysicsEngin.update_pos)"
   ]
  },
  {
   "cell_type": "markdown",
   "metadata": {},
   "source": [
    "## Profiling Memory"
   ]
  },
  {
   "cell_type": "markdown",
   "metadata": {},
   "source": [
    "## memory_profiler\n",
    "\n",
    "1. Install\n",
    "\n",
    "https://github.com/giampaolo/psutil\n",
    "\n",
    "It is also included in the Python's standard library.\n",
    "\n",
    "2. Usage\n",
    "\n",
    "The memory_profiler module can be used in three different ways:\n",
    " - From the command line\n",
    " ```python\n",
    " # used on the targetted program file\n",
    " python -m memory_profiler program.py\n",
    "\n",
    " # sort results\n",
    " python -m memory_profiler -s peak -o profile.out program.py\n",
    "\n",
    " # output to a file\n",
    " python -m memory_profiler -o profile.out program.py\n",
    " ```\n",
    " - As a Python module\n",
    " ```python\n",
    " # used on a function\n",
    " import memory_profiler\n",
    "@memory_profiler.profile\n",
    "def function():\n",
    "    pass"
   ]
  },
  {
   "cell_type": "code",
   "execution_count": 7,
   "metadata": {},
   "outputs": [],
   "source": [
    "# as example, we created 100000 balls\n",
    "\n",
    "def benchmark_memory():\n",
    "    balls = [Ball(1, Vec2(50, 50), 20, (255,0,0), vel=Vec2(50, -30), acc=Vec2(0, 10)) for i in range(1000)]\n",
    "    physics = PhysicsEngin()\n",
    "    simulator = Simulator(balls, physics)\n",
    "    visualize(simulator)"
   ]
  },
  {
   "cell_type": "code",
   "execution_count": 13,
   "metadata": {},
   "outputs": [
    {
     "name": "stderr",
     "output_type": "stream",
     "text": [
      "/home/niuniu/Documents/DL_pytorch/high_performance_python/env/lib64/python3.13/site-packages/IPython/core/magics/execution.py:521: UserWarning: Error changing user exception modes.\n",
      "Unrecognized mode in FormattedTB: <Benchmark_memory()>\n",
      "Valid modes: ['Plain', 'Context', 'Verbose', 'Minimal', 'Docs']\n",
      "  warn('Error changing %s exception modes.\\n%s' %\n"
     ]
    }
   ],
   "source": [
    "%tb benchmark_memory()"
   ]
  },
  {
   "cell_type": "code",
   "execution_count": 16,
   "metadata": {},
   "outputs": [],
   "source": [
    "%load_ext memory_profiler"
   ]
  },
  {
   "cell_type": "code",
   "execution_count": 30,
   "metadata": {},
   "outputs": [
    {
     "name": "stderr",
     "output_type": "stream",
     "text": [
      "UsageError: Could not find function 'benchmark_memory'.\n",
      "NameError: name 'benchmark_memory' is not defined\n"
     ]
    }
   ],
   "source": [
    "%mprun -T /tmp/test_mprun.txt -f benchmark_memory benchmark_memory()"
   ]
  },
  {
   "cell_type": "code",
   "execution_count": 18,
   "metadata": {},
   "outputs": [
    {
     "name": "stdout",
     "output_type": "stream",
     "text": [
      "ERROR: Could not find file /tmp/ipykernel_3641964/1056927676.py\n",
      "\n"
     ]
    },
    {
     "name": "stdout",
     "output_type": "stream",
     "text": []
    }
   ],
   "source": [
    "%mprun -f taylor_exp -f benchmark()"
   ]
  },
  {
   "cell_type": "code",
   "execution_count": 29,
   "metadata": {},
   "outputs": [
    {
     "name": "stdout",
     "output_type": "stream",
     "text": [
      "ERROR: Could not find file /tmp/ipykernel_3641964/1056927676.py\n",
      "\n",
      "\n",
      "*** Profile printout saved to text file /tmp/test_mprun.txt. \n"
     ]
    },
    {
     "name": "stdout",
     "output_type": "stream",
     "text": []
    }
   ],
   "source": [
    "%mprun -T /tmp/test_mprun.txt -f taylor_exp -f benchmark()\n",
    "%cat /tmp/test_mprun.txt"
   ]
  },
  {
   "cell_type": "code",
   "execution_count": 28,
   "metadata": {},
   "outputs": [],
   "source": [
    "!cat /tmp/test_mprun.txt"
   ]
  },
  {
   "cell_type": "code",
   "execution_count": 19,
   "metadata": {},
   "outputs": [
    {
     "name": "stdout",
     "output_type": "stream",
     "text": [
      "peak memory: 140.31 MiB, increment: 0.12 MiB\n"
     ]
    }
   ],
   "source": [
    "%memit benchmark()"
   ]
  },
  {
   "cell_type": "markdown",
   "metadata": {},
   "source": [
    "### Timing"
   ]
  },
  {
   "cell_type": "markdown",
   "metadata": {},
   "source": [
    "1. code"
   ]
  },
  {
   "cell_type": "code",
   "execution_count": 13,
   "metadata": {},
   "outputs": [
    {
     "name": "stdout",
     "output_type": "stream",
     "text": [
      "1.0004313539830036\n"
     ]
    }
   ],
   "source": [
    "# code \n",
    "import time\n",
    "\n",
    "start = time.perf_counter()\n",
    "time.sleep(1)\n",
    "end = time.perf_counter()\n",
    "print(end - start)"
   ]
  },
  {
   "cell_type": "code",
   "execution_count": 18,
   "metadata": {},
   "outputs": [
    {
     "name": "stdout",
     "output_type": "stream",
     "text": [
      "benchmark takes 1.0002695790026337 seconds.\n"
     ]
    },
    {
     "data": {
      "text/plain": [
       "<function __main__.benchmark()>"
      ]
     },
     "execution_count": 18,
     "metadata": {},
     "output_type": "execute_result"
    }
   ],
   "source": [
    "# decorator\n",
    "def timing(func):\n",
    "    def wrapper(*args, **kwargs):\n",
    "        s = time.perf_counter()\n",
    "        func(*args, **kwargs)\n",
    "        e = time.perf_counter()\n",
    "        print(f\"{func.__name__} takes {e-s} seconds.\")\n",
    "        return func\n",
    "    return wrapper\n",
    "\n",
    "@timing\n",
    "def benchmark():\n",
    "    time.sleep(1)\n",
    "benchmark()"
   ]
  },
  {
   "cell_type": "code",
   "execution_count": 28,
   "metadata": {},
   "outputs": [
    {
     "name": "stdout",
     "output_type": "stream",
     "text": [
      "Elapsed time: 1.0001 seconds\n"
     ]
    }
   ],
   "source": [
    "# context\n",
    "from dataclasses import dataclass\n",
    "@dataclass\n",
    "class Timer:\n",
    "    text: str = \"Elapsed time: {:0.4f} seconds\"\n",
    "\n",
    "    def start(self) -> None:\n",
    "        self._start_time = time.perf_counter()\n",
    "    def stop(self) -> float:\n",
    "        # Calculate elapsed time\n",
    "        elapsed_time = time.perf_counter() - self._start_time\n",
    "        self._start_time = None\n",
    "        print(self.text.format(elapsed_time))\n",
    "        return elapsed_time\n",
    "    def __enter__(self):\n",
    "        self.start()\n",
    "        return self\n",
    "    def __exit__(self, *exc_info):\n",
    "        self.stop()\n",
    "\n",
    "with Timer():\n",
    "    time.sleep(1)"
   ]
  },
  {
   "cell_type": "code",
   "execution_count": 33,
   "metadata": {},
   "outputs": [
    {
     "name": "stdout",
     "output_type": "stream",
     "text": [
      "10.000969755987171\n"
     ]
    }
   ],
   "source": [
    "# timeit\n",
    "from timeit import timeit\n",
    "print(timeit(\"time.sleep(1)\", number=10))"
   ]
  },
  {
   "cell_type": "markdown",
   "metadata": {},
   "source": [
    "### 2. CLI"
   ]
  },
  {
   "cell_type": "code",
   "execution_count": 34,
   "metadata": {},
   "outputs": [
    {
     "name": "stdout",
     "output_type": "stream",
     "text": [
      "1 loop, best of 5: 1 sec per loop\n"
     ]
    }
   ],
   "source": [
    "# for snipets\n",
    "!python -m timeit \"time.sleep(1)\""
   ]
  },
  {
   "cell_type": "markdown",
   "metadata": {},
   "source": [
    "### 3. ipython"
   ]
  },
  {
   "cell_type": "code",
   "execution_count": 12,
   "metadata": {},
   "outputs": [
    {
     "name": "stdout",
     "output_type": "stream",
     "text": [
      "CPU times: user 1.72 ms, sys: 1.43 ms, total: 3.15 ms\n",
      "Wall time: 1 s\n"
     ]
    }
   ],
   "source": [
    "# use magic command\n",
    "%time time.sleep(1)"
   ]
  },
  {
   "cell_type": "code",
   "execution_count": 31,
   "metadata": {},
   "outputs": [
    {
     "name": "stdout",
     "output_type": "stream",
     "text": [
      "1 s ± 21.4 μs per loop (mean ± std. dev. of 7 runs, 1 loop each)\n"
     ]
    }
   ],
   "source": [
    "%timeit time.sleep(1)"
   ]
  }
 ],
 "metadata": {
  "kernelspec": {
   "display_name": "env",
   "language": "python",
   "name": "python3"
  },
  "language_info": {
   "codemirror_mode": {
    "name": "ipython",
    "version": 3
   },
   "file_extension": ".py",
   "mimetype": "text/x-python",
   "name": "python",
   "nbconvert_exporter": "python",
   "pygments_lexer": "ipython3",
   "version": "3.13.1"
  }
 },
 "nbformat": 4,
 "nbformat_minor": 2
}
